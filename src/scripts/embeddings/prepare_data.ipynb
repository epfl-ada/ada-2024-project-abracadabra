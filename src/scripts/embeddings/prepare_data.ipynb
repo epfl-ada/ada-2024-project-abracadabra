{
 "cells": [
  {
   "cell_type": "code",
   "id": "initial_id",
   "metadata": {
    "collapsed": true,
    "ExecuteTime": {
     "end_time": "2024-12-16T11:53:37.832203Z",
     "start_time": "2024-12-16T11:53:34.948907Z"
    }
   },
   "source": [
    "import pandas as pd\n",
    "\n",
    "input_path = '../../data/train.csv'\n",
    "combined_data = pd.read_csv(input_path)\n",
    "\n",
    "num_rows = len(combined_data)\n",
    "\n",
    "column_names = combined_data.columns.tolist()\n",
    "\n",
    "nan_summary = combined_data.isna().sum()\n",
    "\n",
    "print(f\"Length of the dataset: {num_rows}\")\n",
    "print(f\"Column names: {column_names}\")\n",
    "print(\"\\nNaN values per column:\")\n",
    "print(nan_summary)\n"
   ],
   "outputs": [
    {
     "name": "stdout",
     "output_type": "stream",
     "text": [
      "Length of the dataset: 1200000\n",
      "Column names: ['Unnamed: 0', 'review_id', 'product_id', 'reviewer_id', 'stars', 'review_body', 'review_title', 'language', 'product_category']\n",
      "\n",
      "NaN values per column:\n",
      "Unnamed: 0           0\n",
      "review_id            0\n",
      "product_id           0\n",
      "reviewer_id          0\n",
      "stars                0\n",
      "review_body          0\n",
      "review_title        43\n",
      "language             0\n",
      "product_category     0\n",
      "dtype: int64\n"
     ]
    }
   ],
   "execution_count": 4
  },
  {
   "metadata": {
    "ExecuteTime": {
     "end_time": "2024-12-16T11:53:37.953758Z",
     "start_time": "2024-12-16T11:53:37.843697Z"
    }
   },
   "cell_type": "code",
   "source": [
    "df_selected = combined_data[[\"review_body\", \"language\", \"product_category\"]]\n",
    "lan_counts = df_selected[\"language\"].value_counts()\n",
    "cat_counts = df_selected[\"product_category\"].value_counts()\n",
    "print(len(cat_counts))\n",
    "print(lan_counts)"
   ],
   "id": "31e614fd37bd9834",
   "outputs": [
    {
     "name": "stdout",
     "output_type": "stream",
     "text": [
      "31\n",
      "language\n",
      "de    200000\n",
      "en    200000\n",
      "es    200000\n",
      "fr    200000\n",
      "ja    200000\n",
      "zh    200000\n",
      "Name: count, dtype: int64\n"
     ]
    }
   ],
   "execution_count": 5
  },
  {
   "metadata": {},
   "cell_type": "code",
   "outputs": [],
   "execution_count": null,
   "source": "",
   "id": "a7e3b99f6be89893"
  }
 ],
 "metadata": {
  "kernelspec": {
   "display_name": "Python 3",
   "language": "python",
   "name": "python3"
  },
  "language_info": {
   "codemirror_mode": {
    "name": "ipython",
    "version": 2
   },
   "file_extension": ".py",
   "mimetype": "text/x-python",
   "name": "python",
   "nbconvert_exporter": "python",
   "pygments_lexer": "ipython2",
   "version": "2.7.6"
  }
 },
 "nbformat": 4,
 "nbformat_minor": 5
}
