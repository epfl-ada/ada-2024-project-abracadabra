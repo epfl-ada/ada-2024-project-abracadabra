{
 "cells": [
  {
   "metadata": {},
   "cell_type": "code",
   "source": [
    "import re\n",
    "import csv\n",
    "from tqdm.notebook import tqdm\n",
    "import pandas as pd"
   ],
   "outputs": [],
   "execution_count": null
  },
  {
   "cell_type": "code",
   "metadata": {},
   "source": [
    "input_file_path = '../../data/reviews.txt'\n",
    "output_file_path = '../data/beer_reviews_text.csv'\n",
    "\n",
    "pattern = re.compile(\n",
    "    r\"text: (?P<text>.+?)(?=\\n\\n|\\Z)\", re.DOTALL\n",
    ")\n",
    "\n",
    "with open(input_file_path, 'r', encoding='utf-8') as infile, open(output_file_path, 'w', encoding='utf-8', newline='') as csvfile:\n",
    "    fieldnames = ['text']\n",
    "    writer = csv.DictWriter(csvfile, fieldnames=fieldnames)\n",
    "    writer.writeheader()\n",
    "\n",
    "    content = infile.read()\n",
    "\n",
    "    matches = list(pattern.finditer(content)) \n",
    "    print(\"ready!\")\n",
    "\n",
    "    for match in tqdm(matches, desc=\"Extracting text entries\"):\n",
    "        writer.writerow({'text': match.group('text')})\n"
   ],
   "outputs": [],
   "execution_count": null
  },
  {
   "metadata": {},
   "cell_type": "code",
   "source": [
    "df = pd.read_csv(\"sentiment_analysis.csv\")\n",
    "df"
   ],
   "outputs": [],
   "execution_count": null
  },
  {
   "metadata": {},
   "cell_type": "code",
   "source": "print(len(pd.read_csv(\"sentiment_analysis.csv\")))",
   "outputs": [],
   "execution_count": null
  },
  {
   "metadata": {},
   "cell_type": "code",
   "source": "",
   "outputs": [],
   "execution_count": null
  }
 ],
 "metadata": {
  "kernelspec": {
   "display_name": "myenv",
   "language": "python",
   "name": "python3"
  },
  "language_info": {
   "codemirror_mode": {
    "name": "ipython",
    "version": 3
   },
   "file_extension": ".py",
   "mimetype": "text/x-python",
   "name": "python",
   "nbconvert_exporter": "python",
   "pygments_lexer": "ipython3",
   "version": "3.9.6"
  }
 },
 "nbformat": 4,
 "nbformat_minor": 2
}
