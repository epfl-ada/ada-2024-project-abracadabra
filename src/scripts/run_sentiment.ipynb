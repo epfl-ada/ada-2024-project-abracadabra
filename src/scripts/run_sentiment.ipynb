{
 "cells": [
  {
   "cell_type": "code",
   "metadata": {
    "ExecuteTime": {
     "end_time": "2024-11-13T16:18:48.415397Z",
     "start_time": "2024-11-13T16:18:48.394946Z"
    }
   },
   "source": [
    "import pandas as pd\n",
    "import torch\n",
    "from transformers import AutoModelForSequenceClassification, AutoTokenizer\n",
    "from google.cloud.language_v2 import types\n",
    "from google.oauth2 import service_account\n",
    "from google.cloud import language_v2\n",
    "from tqdm.auto import tqdm\n",
    "import matplotlib.pyplot as plt\n",
    "\n",
    "tqdm.pandas()\n",
    "\n",
    "google_creds = service_account.Credentials.from_service_account_file(\"/Users/gustavelapierre/Downloads/x.json\")\n",
    "google = language_v2.LanguageServiceClient(credentials=google_creds, )\n",
    "output_file_path = '../data/beer_reviews_text.csv'\n",
    "df = pd.read_csv(output_file_path, nrows=100)\n",
    "df.head()"
   ],
   "outputs": [
    {
     "data": {
      "text/plain": [
       "                                                text\n",
       "0  Puszka 0,33l dzięki Christoph . Kolor jasnozło...\n",
       "1  Cerveza pale lager gabonesa. MÃ¡s floja que la...\n",
       "2  Kolor- złoty, klarowny. Piana - drobna, średni...\n",
       "3  Botella, de GabÃ³n regalo familiar.31/01/2015C...\n",
       "4  Many thanks for this beer to Erzengel. Pours l..."
      ],
      "text/html": [
       "<div>\n",
       "<style scoped>\n",
       "    .dataframe tbody tr th:only-of-type {\n",
       "        vertical-align: middle;\n",
       "    }\n",
       "\n",
       "    .dataframe tbody tr th {\n",
       "        vertical-align: top;\n",
       "    }\n",
       "\n",
       "    .dataframe thead th {\n",
       "        text-align: right;\n",
       "    }\n",
       "</style>\n",
       "<table border=\"1\" class=\"dataframe\">\n",
       "  <thead>\n",
       "    <tr style=\"text-align: right;\">\n",
       "      <th></th>\n",
       "      <th>text</th>\n",
       "    </tr>\n",
       "  </thead>\n",
       "  <tbody>\n",
       "    <tr>\n",
       "      <th>0</th>\n",
       "      <td>Puszka 0,33l dzięki Christoph . Kolor jasnozło...</td>\n",
       "    </tr>\n",
       "    <tr>\n",
       "      <th>1</th>\n",
       "      <td>Cerveza pale lager gabonesa. MÃ¡s floja que la...</td>\n",
       "    </tr>\n",
       "    <tr>\n",
       "      <th>2</th>\n",
       "      <td>Kolor- złoty, klarowny. Piana - drobna, średni...</td>\n",
       "    </tr>\n",
       "    <tr>\n",
       "      <th>3</th>\n",
       "      <td>Botella, de GabÃ³n regalo familiar.31/01/2015C...</td>\n",
       "    </tr>\n",
       "    <tr>\n",
       "      <th>4</th>\n",
       "      <td>Many thanks for this beer to Erzengel. Pours l...</td>\n",
       "    </tr>\n",
       "  </tbody>\n",
       "</table>\n",
       "</div>"
      ]
     },
     "execution_count": 17,
     "metadata": {},
     "output_type": "execute_result"
    }
   ],
   "execution_count": 17
  },
  {
   "metadata": {
    "ExecuteTime": {
     "end_time": "2024-11-13T16:18:48.494828Z",
     "start_time": "2024-11-13T16:18:48.489673Z"
    }
   },
   "cell_type": "code",
   "source": [
    "def google_sentiment_scores(txt):\n",
    "        document = {\"content\": txt, \"type\": language_v2.types.Document.Type.PLAIN_TEXT}\n",
    "        response = google.analyze_sentiment(request={\"document\": document})\n",
    "        return response.document_sentiment.score"
   ],
   "outputs": [],
   "execution_count": 18
  },
  {
   "cell_type": "code",
   "metadata": {
    "ExecuteTime": {
     "end_time": "2024-11-13T16:18:48.580237Z",
     "start_time": "2024-11-13T16:18:48.574256Z"
    }
   },
   "source": [
    "def classify_per_sentiment(score):\n",
    "    \"\"\"\n",
    "    Method discretizing a sentiment score into one of 5 classes.\n",
    "    :param score: (float): number to discretize\n",
    "    :return: (float) within {-2,-1,0,1,2}, discretion sentiment score\n",
    "    \"\"\"\n",
    "\n",
    "    if score < -0.5:\n",
    "        return -2\n",
    "    elif score < -0.1:\n",
    "        return -1\n",
    "    elif -0.1 <= score <= 0.1:\n",
    "        return 0\n",
    "    elif score <= 0.5:\n",
    "        return 1\n",
    "    elif score > 0.5:\n",
    "        return 2\n",
    "    else:\n",
    "        return 0"
   ],
   "outputs": [],
   "execution_count": 19
  },
  {
   "cell_type": "code",
   "metadata": {
    "ExecuteTime": {
     "end_time": "2024-11-13T16:19:04.158566Z",
     "start_time": "2024-11-13T16:18:48.601408Z"
    }
   },
   "source": [
    "class SentimentAnalysisModel:\n",
    "    def __init__(self, model_path='multilingual-sentiment', weights=None):\n",
    "        if weights is not None:\n",
    "            self.weights = weights\n",
    "        else:\n",
    "            self.weights = torch.tensor([[-1, -0.5, 0, 0.5, 1]]).unsqueeze(0).unsqueeze(-1)\n",
    "        self.model = AutoModelForSequenceClassification.from_pretrained(model_path)\n",
    "        self.tokenizer = AutoTokenizer.from_pretrained(model_path)\n",
    "    \n",
    "    def forward(self, **inputs):\n",
    "        \"\"\"\n",
    "        :param inputs: Inputs of the bert-base-multilingual\n",
    "        :return: sentiment score ranging from -1 to 1.\n",
    "        \"\"\"\n",
    "\n",
    "        with torch.no_grad():\n",
    "            outputs = self.model(**inputs)\n",
    "        predictions = outputs.logits\n",
    "        probabilities = torch.softmax(predictions, dim=-1)\n",
    "        obtained_sentiment = torch.matmul(probabilities, self.weights).squeeze().unsqueeze(0)\n",
    "        return obtained_sentiment\n",
    "\n",
    "# Initialize model\n",
    "sentiment_model = SentimentAnalysisModel(model_path=\"../models/sentiment_model\", weights=None)\n",
    "\n",
    "# Tokenize comments\n",
    "tokenized_comments = sentiment_model.tokenizer(\n",
    "    df.iloc[:, 0].astype(str).tolist(),\n",
    "    return_tensors='pt',\n",
    "    padding=True,\n",
    "    truncation=True,\n",
    "    max_length=512\n",
    ")\n",
    "\n",
    "# Convert tokenized data to DataFrame\n",
    "tokenized_comments_df = pd.DataFrame(\n",
    "    {key: val.tolist() for key, val in tokenized_comments.items()}\n",
    ")\n",
    "\n",
    "# Calculate sentiment scores\n",
    "df['sentiment_local'] = tokenized_comments_df.apply(\n",
    "    lambda row: sentiment_model.forward(\n",
    "        **{k: v[row.name].unsqueeze(0) for k, v in tokenized_comments.items()}\n",
    "    ).item(),\n",
    "    axis=1\n",
    ").values\n",
    "\n",
    "# Classify sentiments\n",
    "df['class_sentiment_local'] = df['sentiment_local'].apply(lambda sentiment: classify_per_sentiment(sentiment))"
   ],
   "outputs": [],
   "execution_count": 20
  },
  {
   "metadata": {
    "ExecuteTime": {
     "end_time": "2024-11-13T16:19:53.139187Z",
     "start_time": "2024-11-13T16:19:04.190300Z"
    }
   },
   "cell_type": "code",
   "source": [
    "df['sentiment_google'] = df.iloc[:100, 0].progress_apply(lambda txt: google_sentiment_scores(txt))\n",
    "df['class_sentiment_google'] = df['sentiment_google'].apply(lambda sentiment: classify_per_sentiment(sentiment))"
   ],
   "outputs": [
    {
     "name": "stderr",
     "output_type": "stream",
     "text": [
      "100%|██████████| 100/100 [00:48<00:00,  2.04it/s]\n"
     ]
    }
   ],
   "execution_count": 21
  },
  {
   "cell_type": "code",
   "metadata": {
    "ExecuteTime": {
     "end_time": "2024-11-13T16:19:53.201524Z",
     "start_time": "2024-11-13T16:19:53.188948Z"
    }
   },
   "source": [
    "df.head(10)"
   ],
   "outputs": [
    {
     "data": {
      "text/plain": [
       "                                                text  sentiment_local  \\\n",
       "0  Puszka 0,33l dzięki Christoph . Kolor jasnozło...         0.264219   \n",
       "1  Cerveza pale lager gabonesa. MÃ¡s floja que la...        -0.433953   \n",
       "2  Kolor- złoty, klarowny. Piana - drobna, średni...         0.146838   \n",
       "3  Botella, de GabÃ³n regalo familiar.31/01/2015C...        -0.067187   \n",
       "4  Many thanks for this beer to Erzengel. Pours l...         0.841719   \n",
       "5  Many thanks to Erzengel for sharing! Pours cle...         0.687191   \n",
       "6  Many thanks to Travlr for this can!  Grainy no...         0.763474   \n",
       "7  Puszka pita w Gabonie. Kolor jasnosłomkowy, pi...         0.025440   \n",
       "8  330ml bottle. 29-05-2014.From Gabon, courtesy ...        -0.610939   \n",
       "9  Light yellow with quickly disappearing foam to...        -0.171505   \n",
       "\n",
       "   class_sentiment_local  sentiment_google  class_sentiment_google  \n",
       "0                      1             0.466                       1  \n",
       "1                     -1            -0.435                      -1  \n",
       "2                      1             0.011                       0  \n",
       "3                      0             0.027                       0  \n",
       "4                      2             0.634                       2  \n",
       "5                      2             0.063                       0  \n",
       "6                      2             0.416                       1  \n",
       "7                      0             0.156                       1  \n",
       "8                     -2            -0.099                       0  \n",
       "9                     -1            -0.189                      -1  "
      ],
      "text/html": [
       "<div>\n",
       "<style scoped>\n",
       "    .dataframe tbody tr th:only-of-type {\n",
       "        vertical-align: middle;\n",
       "    }\n",
       "\n",
       "    .dataframe tbody tr th {\n",
       "        vertical-align: top;\n",
       "    }\n",
       "\n",
       "    .dataframe thead th {\n",
       "        text-align: right;\n",
       "    }\n",
       "</style>\n",
       "<table border=\"1\" class=\"dataframe\">\n",
       "  <thead>\n",
       "    <tr style=\"text-align: right;\">\n",
       "      <th></th>\n",
       "      <th>text</th>\n",
       "      <th>sentiment_local</th>\n",
       "      <th>class_sentiment_local</th>\n",
       "      <th>sentiment_google</th>\n",
       "      <th>class_sentiment_google</th>\n",
       "    </tr>\n",
       "  </thead>\n",
       "  <tbody>\n",
       "    <tr>\n",
       "      <th>0</th>\n",
       "      <td>Puszka 0,33l dzięki Christoph . Kolor jasnozło...</td>\n",
       "      <td>0.264219</td>\n",
       "      <td>1</td>\n",
       "      <td>0.466</td>\n",
       "      <td>1</td>\n",
       "    </tr>\n",
       "    <tr>\n",
       "      <th>1</th>\n",
       "      <td>Cerveza pale lager gabonesa. MÃ¡s floja que la...</td>\n",
       "      <td>-0.433953</td>\n",
       "      <td>-1</td>\n",
       "      <td>-0.435</td>\n",
       "      <td>-1</td>\n",
       "    </tr>\n",
       "    <tr>\n",
       "      <th>2</th>\n",
       "      <td>Kolor- złoty, klarowny. Piana - drobna, średni...</td>\n",
       "      <td>0.146838</td>\n",
       "      <td>1</td>\n",
       "      <td>0.011</td>\n",
       "      <td>0</td>\n",
       "    </tr>\n",
       "    <tr>\n",
       "      <th>3</th>\n",
       "      <td>Botella, de GabÃ³n regalo familiar.31/01/2015C...</td>\n",
       "      <td>-0.067187</td>\n",
       "      <td>0</td>\n",
       "      <td>0.027</td>\n",
       "      <td>0</td>\n",
       "    </tr>\n",
       "    <tr>\n",
       "      <th>4</th>\n",
       "      <td>Many thanks for this beer to Erzengel. Pours l...</td>\n",
       "      <td>0.841719</td>\n",
       "      <td>2</td>\n",
       "      <td>0.634</td>\n",
       "      <td>2</td>\n",
       "    </tr>\n",
       "    <tr>\n",
       "      <th>5</th>\n",
       "      <td>Many thanks to Erzengel for sharing! Pours cle...</td>\n",
       "      <td>0.687191</td>\n",
       "      <td>2</td>\n",
       "      <td>0.063</td>\n",
       "      <td>0</td>\n",
       "    </tr>\n",
       "    <tr>\n",
       "      <th>6</th>\n",
       "      <td>Many thanks to Travlr for this can!  Grainy no...</td>\n",
       "      <td>0.763474</td>\n",
       "      <td>2</td>\n",
       "      <td>0.416</td>\n",
       "      <td>1</td>\n",
       "    </tr>\n",
       "    <tr>\n",
       "      <th>7</th>\n",
       "      <td>Puszka pita w Gabonie. Kolor jasnosłomkowy, pi...</td>\n",
       "      <td>0.025440</td>\n",
       "      <td>0</td>\n",
       "      <td>0.156</td>\n",
       "      <td>1</td>\n",
       "    </tr>\n",
       "    <tr>\n",
       "      <th>8</th>\n",
       "      <td>330ml bottle. 29-05-2014.From Gabon, courtesy ...</td>\n",
       "      <td>-0.610939</td>\n",
       "      <td>-2</td>\n",
       "      <td>-0.099</td>\n",
       "      <td>0</td>\n",
       "    </tr>\n",
       "    <tr>\n",
       "      <th>9</th>\n",
       "      <td>Light yellow with quickly disappearing foam to...</td>\n",
       "      <td>-0.171505</td>\n",
       "      <td>-1</td>\n",
       "      <td>-0.189</td>\n",
       "      <td>-1</td>\n",
       "    </tr>\n",
       "  </tbody>\n",
       "</table>\n",
       "</div>"
      ]
     },
     "execution_count": 22,
     "metadata": {},
     "output_type": "execute_result"
    }
   ],
   "execution_count": 22
  },
  {
   "cell_type": "code",
   "metadata": {
    "ExecuteTime": {
     "end_time": "2024-11-13T16:19:53.269698Z",
     "start_time": "2024-11-13T16:19:53.266220Z"
    }
   },
   "source": [
    "# 0: \"0.33l can, thanks Christoph. Light golden color, fine-grained white foam falls quickly. Malt aroma, slightly sweet. Quite good.\"\n",
    "# 1: \"Gabonese pale lager beer. Weaker than Regab. Scant aroma, pale appearance, very little body and little aftertaste on the palate. If I ever went to Gabon I would order one more to try it again and the rest of time the Regab would undoubtedly ask for, which is not anything special, but it is superior to this one.\n",
    "# 2: \"Color - golden, clear. Foam - fine, medium high, not persistent. Smell - light malty. Taste - light malt and hops, light sour, light sweetness and bitterness\"\n",
    "# 3: \"Bottle, from Gabon as a family gift. 01/31/2015Yellow color, aromas and flavors of corn, medium body\"\n",
    "# 4: \"Many thanks for this beer to Erzengel. Pours light golden with medium head. Light bodied crisp taste with low carbonation. Sweet finish.\"\n"
   ],
   "outputs": [],
   "execution_count": 23
  },
  {
   "metadata": {
    "ExecuteTime": {
     "end_time": "2024-11-13T16:19:53.355867Z",
     "start_time": "2024-11-13T16:19:53.350269Z"
    }
   },
   "cell_type": "code",
   "source": [
    "exact_match = (df['class_sentiment_local'] == df['class_sentiment_google']).mean() * 100\n",
    "print(\"exact_match : \" + str(exact_match))"
   ],
   "outputs": [
    {
     "name": "stdout",
     "output_type": "stream",
     "text": [
      "exact_match : 46.0\n"
     ]
    }
   ],
   "execution_count": 24
  },
  {
   "metadata": {
    "ExecuteTime": {
     "end_time": "2024-11-13T16:19:53.398411Z",
     "start_time": "2024-11-13T16:19:53.392715Z"
    }
   },
   "cell_type": "code",
   "source": [
    "margin_match = (df['class_sentiment_local'] - df['class_sentiment_google']).abs() <= 1\n",
    "margin_match_percentage = margin_match.mean() * 100\n",
    "print(\"margin match : \" + str(margin_match_percentage))"
   ],
   "outputs": [
    {
     "name": "stdout",
     "output_type": "stream",
     "text": [
      "margin match : 79.0\n"
     ]
    }
   ],
   "execution_count": 25
  },
  {
   "metadata": {
    "ExecuteTime": {
     "end_time": "2024-11-13T16:19:53.600044Z",
     "start_time": "2024-11-13T16:19:53.457365Z"
    }
   },
   "cell_type": "code",
   "source": [
    "similarity_data = {\n",
    "    'Exact Match (%)': exact_match,\n",
    "    '±1 Margin Match (%)': margin_match_percentage\n",
    "}\n",
    "\n",
    "fig, ax = plt.subplots()\n",
    "ax.bar(similarity_data.keys(), similarity_data.values(), color=['skyblue', 'salmon'])\n",
    "ax.set_ylabel(\"Similarity Percentage\")\n",
    "ax.set_ylim(0, 100)\n",
    "plt.title(\"Similarity Comparison Between Columns 'local' and 'Google'\")\n",
    "plt.show()"
   ],
   "outputs": [
    {
     "data": {
      "text/plain": [
       "<Figure size 640x480 with 1 Axes>"
      ],
      "image/png": "[encoded data removed]"
     },
     "metadata": {},
     "output_type": "display_data"
    }
   ],
   "execution_count": 26
  },
  {
   "metadata": {
    "ExecuteTime": {
     "end_time": "2024-11-13T16:19:53.630963Z",
     "start_time": "2024-11-13T16:19:53.627945Z"
    }
   },
   "cell_type": "code",
   "source": "",
   "outputs": [],
   "execution_count": null
  }
 ],
 "metadata": {
  "kernelspec": {
   "display_name": "myenv",
   "language": "python",
   "name": "python3"
  },
  "language_info": {
   "codemirror_mode": {
    "name": "ipython",
    "version": 3
   },
   "file_extension": ".py",
   "mimetype": "text/x-python",
   "name": "python",
   "nbconvert_exporter": "python",
   "pygments_lexer": "ipython3",
   "version": "3.9.6"
  }
 },
 "nbformat": 4,
 "nbformat_minor": 2
}
