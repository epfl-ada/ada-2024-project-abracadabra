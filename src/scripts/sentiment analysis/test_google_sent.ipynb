{
 "cells": [
  {
   "cell_type": "code",
   "metadata": {
    "collapsed": true,
    "ExecuteTime": {
     "end_time": "2024-11-10T01:20:46.460805Z",
     "start_time": "2024-11-10T01:20:45.342533Z"
    }
   },
   "source": [
    "from google.cloud.language_v2 import types\n",
    "from google.oauth2 import service_account\n",
    "from google.cloud import language_v2\n",
    "import pickle as pkl\n",
    "from tqdm.auto import tqdm\n",
    "\n",
    "tqdm.pandas()\n",
    "\n",
    "google_creds = service_account.Credentials.from_service_account_file(\"/Users/gustave/Documents/x/confidential/x.json\")\n",
    "google = language_v2.LanguageServiceClient(credentials=google_creds, )"
   ],
   "outputs": [],
   "execution_count": 1
  },
  {
   "cell_type": "code",
   "source": [
    "def google_sentiment_scores(txt):\n",
    "        document = {\"content\": txt, \"type\": language_v2.types.Document.Type.PLAIN_TEXT}\n",
    "        response = google.analyze_sentiment(request={\"document\": document})\n",
    "        return response.document_sentiment.score"
   ],
   "metadata": {
    "collapsed": false,
    "ExecuteTime": {
     "end_time": "2024-11-10T01:20:59.299528Z",
     "start_time": "2024-11-10T01:20:59.285198Z"
    }
   },
   "outputs": [],
   "execution_count": 2
  },
  {
   "cell_type": "code",
   "source": [
    "with open('/Users/gustave/Downloads/machine-learning.pkl', 'rb') as pkl_file:\n",
    "    df = pkl.load(pkl_file)\n",
    "print(type(df))"
   ],
   "metadata": {
    "collapsed": false,
    "ExecuteTime": {
     "end_time": "2024-11-10T01:23:26.500287Z",
     "start_time": "2024-11-10T01:23:26.479720Z"
    }
   },
   "outputs": [
    {
     "name": "stdout",
     "output_type": "stream",
     "text": [
      "<class 'pandas.core.frame.DataFrame'>\n"
     ]
    }
   ],
   "execution_count": 6
  },
  {
   "cell_type": "code",
   "source": "df['sentiment_score'] = df.iloc[:10, 0].progress_apply(lambda txt: google_sentiment_scores(txt))",
   "metadata": {
    "collapsed": false,
    "ExecuteTime": {
     "end_time": "2024-11-10T01:24:32.669503Z",
     "start_time": "2024-11-10T01:24:28.786723Z"
    }
   },
   "outputs": [
    {
     "data": {
      "text/plain": [
       "  0%|          | 0/10 [00:00<?, ?it/s]"
      ],
      "application/vnd.jupyter.widget-view+json": {
       "version_major": 2,
       "version_minor": 0,
       "model_id": "a203a72f7fe646999c6f416229bf7214"
      }
     },
     "metadata": {},
     "output_type": "display_data"
    }
   ],
   "execution_count": 11
  },
  {
   "cell_type": "code",
   "source": "df.head(10)",
   "metadata": {
    "collapsed": false,
    "ExecuteTime": {
     "end_time": "2024-11-10T01:24:33.942962Z",
     "start_time": "2024-11-10T01:24:33.933290Z"
    }
   },
   "outputs": [
    {
     "data": {
      "text/plain": [
       "                                                  Review  sentiment_score\n",
       "73134  A great course given with passion and clarity....            0.935\n",
       "73135  私はソフトエンジニアですが、これまで機械学習という課題に取り組んだことがありませんでした。こ...            0.341\n",
       "73136                                          excellent            0.948\n",
       "73137  Very good course! The vectorisation can be a b...            0.042\n",
       "73138  Great course, great teacher, great level of de...            0.933\n",
       "73139  It was a great course .I learned most importan...            0.928\n",
       "73140  I love this course. But you have to be comfort...            0.464\n",
       "73141                                               如沐春风            0.938\n",
       "73142  I think this Machine Learning course quiet cha...            0.014\n",
       "73143  Excellent course! Thank you professor Ng expla...            0.949"
      ],
      "text/html": [
       "<div>\n",
       "<style scoped>\n",
       "    .dataframe tbody tr th:only-of-type {\n",
       "        vertical-align: middle;\n",
       "    }\n",
       "\n",
       "    .dataframe tbody tr th {\n",
       "        vertical-align: top;\n",
       "    }\n",
       "\n",
       "    .dataframe thead th {\n",
       "        text-align: right;\n",
       "    }\n",
       "</style>\n",
       "<table border=\"1\" class=\"dataframe\">\n",
       "  <thead>\n",
       "    <tr style=\"text-align: right;\">\n",
       "      <th></th>\n",
       "      <th>Review</th>\n",
       "      <th>sentiment_score</th>\n",
       "    </tr>\n",
       "  </thead>\n",
       "  <tbody>\n",
       "    <tr>\n",
       "      <th>73134</th>\n",
       "      <td>A great course given with passion and clarity....</td>\n",
       "      <td>0.935</td>\n",
       "    </tr>\n",
       "    <tr>\n",
       "      <th>73135</th>\n",
       "      <td>私はソフトエンジニアですが、これまで機械学習という課題に取り組んだことがありませんでした。こ...</td>\n",
       "      <td>0.341</td>\n",
       "    </tr>\n",
       "    <tr>\n",
       "      <th>73136</th>\n",
       "      <td>excellent</td>\n",
       "      <td>0.948</td>\n",
       "    </tr>\n",
       "    <tr>\n",
       "      <th>73137</th>\n",
       "      <td>Very good course! The vectorisation can be a b...</td>\n",
       "      <td>0.042</td>\n",
       "    </tr>\n",
       "    <tr>\n",
       "      <th>73138</th>\n",
       "      <td>Great course, great teacher, great level of de...</td>\n",
       "      <td>0.933</td>\n",
       "    </tr>\n",
       "    <tr>\n",
       "      <th>73139</th>\n",
       "      <td>It was a great course .I learned most importan...</td>\n",
       "      <td>0.928</td>\n",
       "    </tr>\n",
       "    <tr>\n",
       "      <th>73140</th>\n",
       "      <td>I love this course. But you have to be comfort...</td>\n",
       "      <td>0.464</td>\n",
       "    </tr>\n",
       "    <tr>\n",
       "      <th>73141</th>\n",
       "      <td>如沐春风</td>\n",
       "      <td>0.938</td>\n",
       "    </tr>\n",
       "    <tr>\n",
       "      <th>73142</th>\n",
       "      <td>I think this Machine Learning course quiet cha...</td>\n",
       "      <td>0.014</td>\n",
       "    </tr>\n",
       "    <tr>\n",
       "      <th>73143</th>\n",
       "      <td>Excellent course! Thank you professor Ng expla...</td>\n",
       "      <td>0.949</td>\n",
       "    </tr>\n",
       "  </tbody>\n",
       "</table>\n",
       "</div>"
      ]
     },
     "execution_count": 12,
     "metadata": {},
     "output_type": "execute_result"
    }
   ],
   "execution_count": 12
  },
  {
   "metadata": {},
   "cell_type": "code",
   "outputs": [],
   "execution_count": null,
   "source": ""
  }
 ],
 "metadata": {
  "kernelspec": {
   "display_name": "Python 3",
   "language": "python",
   "name": "python3"
  },
  "language_info": {
   "codemirror_mode": {
    "name": "ipython",
    "version": 2
   },
   "file_extension": ".py",
   "mimetype": "text/x-python",
   "name": "python",
   "nbconvert_exporter": "python",
   "pygments_lexer": "ipython2",
   "version": "2.7.6"
  }
 },
 "nbformat": 4,
 "nbformat_minor": 0
}
