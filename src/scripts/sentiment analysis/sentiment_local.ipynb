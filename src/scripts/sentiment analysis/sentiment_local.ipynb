{
 "cells": [
  {
   "cell_type": "code",
   "id": "initial_id",
   "metadata": {
    "collapsed": true,
    "ExecuteTime": {
     "end_time": "2024-12-04T23:35:19.268365Z",
     "start_time": "2024-12-04T23:35:17.979841Z"
    }
   },
   "source": [
    "import torch\n",
    "from torch.utils.data import DataLoader\n",
    "import pandas as pd\n",
    "import os\n",
    "import gc\n",
    "import importlib\n",
    "import multiprocessing\n",
    "\n",
    "import sentiment_utils\n",
    "importlib.reload(sentiment_utils)\n",
    "from sentiment_utils import SentimentAnalysisModel, CommentsDataset, process_all_batches"
   ],
   "outputs": [],
   "execution_count": 1
  },
  {
   "metadata": {
    "ExecuteTime": {
     "end_time": "2024-12-04T23:35:20.217642Z",
     "start_time": "2024-12-04T23:35:20.215381Z"
    }
   },
   "cell_type": "code",
   "source": [
    "multiprocessing.set_start_method(\"fork\", force=True)\n",
    "os.environ[\"TOKENIZERS_PARALLELISM\"] = \"false\""
   ],
   "id": "a14260a2fd50f75",
   "outputs": [],
   "execution_count": 2
  },
  {
   "metadata": {
    "ExecuteTime": {
     "end_time": "2024-12-03T21:46:13.007112Z",
     "start_time": "2024-12-03T21:46:12.171311Z"
    }
   },
   "cell_type": "code",
   "source": [
    "#I did the first and last file outside the loop to make sure it worked fine\n",
    "\n",
    "input_file_path = '../data/2_beer_reviews_with_ids_1.csv'\n",
    "\n",
    "df = pd.read_csv(input_file_path)\n",
    "df.head()"
   ],
   "id": "dbf08bbc91758891",
   "outputs": [
    {
     "data": {
      "text/plain": [
       "        id                                               text\n",
       "0  9126242  A - dark brown/black with crimson highlights, ...\n",
       "1  9126243  12oz bottle into mug.Clear, but very dark brow...\n",
       "2  9126244  Looks more like a stout than a bock. But still...\n",
       "3  9126245  Date on the bottle 6BNPours mahogany with 4 fi...\n",
       "4  9126246  Pours out a rich looking purplish ruby colored..."
      ],
      "text/html": [
       "<div>\n",
       "<style scoped>\n",
       "    .dataframe tbody tr th:only-of-type {\n",
       "        vertical-align: middle;\n",
       "    }\n",
       "\n",
       "    .dataframe tbody tr th {\n",
       "        vertical-align: top;\n",
       "    }\n",
       "\n",
       "    .dataframe thead th {\n",
       "        text-align: right;\n",
       "    }\n",
       "</style>\n",
       "<table border=\"1\" class=\"dataframe\">\n",
       "  <thead>\n",
       "    <tr style=\"text-align: right;\">\n",
       "      <th></th>\n",
       "      <th>id</th>\n",
       "      <th>text</th>\n",
       "    </tr>\n",
       "  </thead>\n",
       "  <tbody>\n",
       "    <tr>\n",
       "      <th>0</th>\n",
       "      <td>9126242</td>\n",
       "      <td>A - dark brown/black with crimson highlights, ...</td>\n",
       "    </tr>\n",
       "    <tr>\n",
       "      <th>1</th>\n",
       "      <td>9126243</td>\n",
       "      <td>12oz bottle into mug.Clear, but very dark brow...</td>\n",
       "    </tr>\n",
       "    <tr>\n",
       "      <th>2</th>\n",
       "      <td>9126244</td>\n",
       "      <td>Looks more like a stout than a bock. But still...</td>\n",
       "    </tr>\n",
       "    <tr>\n",
       "      <th>3</th>\n",
       "      <td>9126245</td>\n",
       "      <td>Date on the bottle 6BNPours mahogany with 4 fi...</td>\n",
       "    </tr>\n",
       "    <tr>\n",
       "      <th>4</th>\n",
       "      <td>9126246</td>\n",
       "      <td>Pours out a rich looking purplish ruby colored...</td>\n",
       "    </tr>\n",
       "  </tbody>\n",
       "</table>\n",
       "</div>"
      ]
     },
     "execution_count": 7,
     "metadata": {},
     "output_type": "execute_result"
    }
   ],
   "execution_count": 7
  },
  {
   "metadata": {
    "ExecuteTime": {
     "end_time": "2024-12-03T22:51:33.097475Z",
     "start_time": "2024-12-03T21:46:14.772735Z"
    }
   },
   "cell_type": "code",
   "source": [
    "sentiment_model = SentimentAnalysisModel(model_path=\"../../models/sentiment_model_1\")\n",
    "\n",
    "batch_size = 16\n",
    "dataset = CommentsDataset(df[\"text\"].astype(str).tolist())\n",
    "data_loader = DataLoader(\n",
    "    dataset,\n",
    "    batch_size=batch_size,\n",
    "    shuffle=False,\n",
    "    num_workers=12,\n",
    "    pin_memory=True,\n",
    "    persistent_workers=True\n",
    ")\n",
    "\n",
    "df[\"sentiment_bert\"] = process_all_batches(data_loader, sentiment_model)\n",
    "df.head()"
   ],
   "id": "9a09197f7886995f",
   "outputs": [
    {
     "name": "stderr",
     "output_type": "stream",
     "text": [
      "Processing Batches: 100%|██████████| 8200/8200 [1:05:17<00:00,  2.09batch/s]\n"
     ]
    },
    {
     "data": {
      "text/plain": [
       "        id                                               text  sentiment_bert\n",
       "0  9126242  A - dark brown/black with crimson highlights, ...        0.559397\n",
       "1  9126243  12oz bottle into mug.Clear, but very dark brow...        0.217033\n",
       "2  9126244  Looks more like a stout than a bock. But still...        0.591588\n",
       "3  9126245  Date on the bottle 6BNPours mahogany with 4 fi...       -0.294586\n",
       "4  9126246  Pours out a rich looking purplish ruby colored...        0.187019"
      ],
      "text/html": [
       "<div>\n",
       "<style scoped>\n",
       "    .dataframe tbody tr th:only-of-type {\n",
       "        vertical-align: middle;\n",
       "    }\n",
       "\n",
       "    .dataframe tbody tr th {\n",
       "        vertical-align: top;\n",
       "    }\n",
       "\n",
       "    .dataframe thead th {\n",
       "        text-align: right;\n",
       "    }\n",
       "</style>\n",
       "<table border=\"1\" class=\"dataframe\">\n",
       "  <thead>\n",
       "    <tr style=\"text-align: right;\">\n",
       "      <th></th>\n",
       "      <th>id</th>\n",
       "      <th>text</th>\n",
       "      <th>sentiment_bert</th>\n",
       "    </tr>\n",
       "  </thead>\n",
       "  <tbody>\n",
       "    <tr>\n",
       "      <th>0</th>\n",
       "      <td>9126242</td>\n",
       "      <td>A - dark brown/black with crimson highlights, ...</td>\n",
       "      <td>0.559397</td>\n",
       "    </tr>\n",
       "    <tr>\n",
       "      <th>1</th>\n",
       "      <td>9126243</td>\n",
       "      <td>12oz bottle into mug.Clear, but very dark brow...</td>\n",
       "      <td>0.217033</td>\n",
       "    </tr>\n",
       "    <tr>\n",
       "      <th>2</th>\n",
       "      <td>9126244</td>\n",
       "      <td>Looks more like a stout than a bock. But still...</td>\n",
       "      <td>0.591588</td>\n",
       "    </tr>\n",
       "    <tr>\n",
       "      <th>3</th>\n",
       "      <td>9126245</td>\n",
       "      <td>Date on the bottle 6BNPours mahogany with 4 fi...</td>\n",
       "      <td>-0.294586</td>\n",
       "    </tr>\n",
       "    <tr>\n",
       "      <th>4</th>\n",
       "      <td>9126246</td>\n",
       "      <td>Pours out a rich looking purplish ruby colored...</td>\n",
       "      <td>0.187019</td>\n",
       "    </tr>\n",
       "  </tbody>\n",
       "</table>\n",
       "</div>"
      ]
     },
     "execution_count": 8,
     "metadata": {},
     "output_type": "execute_result"
    }
   ],
   "execution_count": 8
  },
  {
   "metadata": {
    "ExecuteTime": {
     "end_time": "2024-12-03T22:51:33.334708Z",
     "start_time": "2024-12-03T22:51:33.131704Z"
    }
   },
   "cell_type": "code",
   "source": [
    "torch.mps.empty_cache()\n",
    "gc.collect()"
   ],
   "id": "a16d1d3b7318901f",
   "outputs": [
    {
     "data": {
      "text/plain": [
       "213"
      ]
     },
     "execution_count": 9,
     "metadata": {},
     "output_type": "execute_result"
    }
   ],
   "execution_count": 9
  },
  {
   "metadata": {
    "ExecuteTime": {
     "end_time": "2024-12-03T22:51:34.060262Z",
     "start_time": "2024-12-03T22:51:33.406123Z"
    }
   },
   "cell_type": "code",
   "source": [
    "output_file_path = '../data/2_beer_reviews_with_sent_1.csv'\n",
    "df.to_csv(output_file_path, index=False)"
   ],
   "id": "5295f32821774781",
   "outputs": [],
   "execution_count": 10
  },
  {
   "metadata": {},
   "cell_type": "code",
   "source": "df.head(6000)",
   "id": "a8f19dbbfad46fd9",
   "outputs": [],
   "execution_count": null
  },
  {
   "metadata": {
    "ExecuteTime": {
     "end_time": "2024-12-05T07:17:56.577906Z",
     "start_time": "2024-12-04T23:35:26.517878Z"
    }
   },
   "cell_type": "code",
   "source": [
    "for i in range(10,15) :\n",
    "    input_file_path = f'../data/2_beer_reviews_with_ids_{i}.csv'\n",
    "\n",
    "    df = pd.read_csv(input_file_path)\n",
    "    df.head()\n",
    "\n",
    "    sentiment_model = SentimentAnalysisModel(model_path=\"../../models/sentiment_model_1\")\n",
    "\n",
    "    batch_size = 16\n",
    "    dataset = CommentsDataset(df[\"text\"].astype(str).tolist())\n",
    "    data_loader = DataLoader(\n",
    "        dataset,\n",
    "        batch_size=batch_size,\n",
    "        shuffle=False,\n",
    "        num_workers=12,\n",
    "        pin_memory=True,\n",
    "        persistent_workers=True\n",
    "    )\n",
    "\n",
    "    df[\"sentiment_bert\"] = process_all_batches(data_loader, sentiment_model)\n",
    "    df.head()\n",
    "\n",
    "    torch.mps.empty_cache()\n",
    "    gc.collect()\n",
    "\n",
    "    output_file_path = f'../data/2_beer_reviews_with_sent_{i}.csv'\n",
    "    df.to_csv(output_file_path, index=False)"
   ],
   "id": "41b1c17b8a438d7f",
   "outputs": [
    {
     "name": "stderr",
     "output_type": "stream",
     "text": [
      "Processing Batches: 100%|██████████| 8200/8200 [1:33:11<00:00,  1.47batch/s]\n",
      "Processing Batches: 100%|██████████| 8200/8200 [1:33:52<00:00,  1.46batch/s]\n",
      "Processing Batches: 100%|██████████| 8200/8200 [1:30:17<00:00,  1.51batch/s]\n",
      "Processing Batches: 100%|██████████| 8200/8200 [1:31:37<00:00,  1.49batch/s]\n",
      "Processing Batches: 100%|██████████| 8199/8199 [1:33:16<00:00,  1.47batch/s]\n"
     ]
    }
   ],
   "execution_count": 3
  },
  {
   "metadata": {},
   "cell_type": "code",
   "source": [
    "input_file_path = '../data/beer_reviews_with_ids_15.csv'\n",
    "\n",
    "df = pd.read_csv(input_file_path)\n",
    "df.head()"
   ],
   "id": "d0e90b50001b286c",
   "outputs": [],
   "execution_count": null
  },
  {
   "metadata": {},
   "cell_type": "code",
   "source": [
    "sentiment_model = SentimentAnalysisModel(model_path=\"../../models/sentiment_model_1\")\n",
    "\n",
    "batch_size = 16\n",
    "dataset = CommentsDataset(df[\"text\"].astype(str).tolist())\n",
    "data_loader = DataLoader(\n",
    "    dataset,\n",
    "    batch_size=batch_size,\n",
    "    shuffle=False,\n",
    "    num_workers=12,\n",
    "    pin_memory=True,\n",
    "    persistent_workers=True\n",
    ")\n",
    "\n",
    "df[\"sentiment_bert\"] = process_all_batches(data_loader, sentiment_model)\n",
    "df.head()"
   ],
   "id": "94a4c8fa0265ceb7",
   "outputs": [],
   "execution_count": null
  },
  {
   "metadata": {},
   "cell_type": "code",
   "source": [
    "output_file_path = '../data/beer_reviews_with_sent_15.csv'\n",
    "df.to_csv(output_file_path, index=False)"
   ],
   "id": "22b2ba477ca220e8",
   "outputs": [],
   "execution_count": null
  },
  {
   "metadata": {},
   "cell_type": "code",
   "source": [
    "torch.mps.empty_cache()\n",
    "gc.collect()"
   ],
   "id": "afb9cef28e92d36f",
   "outputs": [],
   "execution_count": null
  }
 ],
 "metadata": {
  "kernelspec": {
   "display_name": "Python 3",
   "language": "python",
   "name": "python3"
  },
  "language_info": {
   "codemirror_mode": {
    "name": "ipython",
    "version": 2
   },
   "file_extension": ".py",
   "mimetype": "text/x-python",
   "name": "python",
   "nbconvert_exporter": "python",
   "pygments_lexer": "ipython2",
   "version": "2.7.6"
  }
 },
 "nbformat": 4,
 "nbformat_minor": 5
}
