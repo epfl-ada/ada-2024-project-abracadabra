{
 "cells": [
  {
   "metadata": {
    "ExecuteTime": {
     "end_time": "2024-12-01T19:37:30.326036Z",
     "start_time": "2024-12-01T19:37:30.084392Z"
    }
   },
   "cell_type": "code",
   "source": [
    "import re\n",
    "import csv\n",
    "from tqdm.notebook import tqdm\n",
    "import pandas as pd\n",
    "import numpy as np"
   ],
   "outputs": [],
   "execution_count": 2
  },
  {
   "metadata": {
    "ExecuteTime": {
     "end_time": "2024-12-04T07:42:55.077040Z",
     "start_time": "2024-12-04T07:42:54.528026Z"
    }
   },
   "cell_type": "code",
   "source": [
    "input_file_path = '../data/2_beer_reviews_with_sent_1.csv'\n",
    "\n",
    "ratings_df = pd.read_csv(input_file_path)\n",
    "print(len(ratings_df))"
   ],
   "outputs": [
    {
     "name": "stdout",
     "output_type": "stream",
     "text": [
      "131188\n"
     ]
    }
   ],
   "execution_count": 7
  },
  {
   "metadata": {
    "ExecuteTime": {
     "end_time": "2024-11-30T17:22:46.534697Z",
     "start_time": "2024-11-30T17:22:45.656853Z"
    }
   },
   "cell_type": "code",
   "source": [
    "print(\"num of nan in text\", str(ratings_df['text'].isna().sum()))\n",
    "print(len(ratings_df['text'])- ratings_df['text'].isna().sum())"
   ],
   "outputs": [
    {
     "name": "stdout",
     "output_type": "stream",
     "text": [
      "num of nan in text 5677771\n",
      "9839067\n"
     ]
    }
   ],
   "execution_count": 18
  },
  {
   "metadata": {
    "ExecuteTime": {
     "end_time": "2024-11-30T17:22:47.592658Z",
     "start_time": "2024-11-30T17:22:46.551953Z"
    }
   },
   "cell_type": "code",
   "source": [
    "beer_reviews_df = ratings_df[ratings_df['text'].notna()][['id', 'text']]\n",
    "beer_reviews_df.head()"
   ],
   "outputs": [
    {
     "data": {
      "text/plain": [
       "   id                                               text\n",
       "0   1  Puszka 0,33l dzięki Christoph . Kolor jasnozło...\n",
       "1   2  Cerveza pale lager gabonesa. MÃ¡s floja que la...\n",
       "2   3  Kolor- złoty, klarowny. Piana - drobna, średni...\n",
       "3   4  Botella, de GabÃ³n regalo familiar.31/01/2015C...\n",
       "4   5  Many thanks for this beer to Erzengel. Pours l..."
      ],
      "text/html": [
       "<div>\n",
       "<style scoped>\n",
       "    .dataframe tbody tr th:only-of-type {\n",
       "        vertical-align: middle;\n",
       "    }\n",
       "\n",
       "    .dataframe tbody tr th {\n",
       "        vertical-align: top;\n",
       "    }\n",
       "\n",
       "    .dataframe thead th {\n",
       "        text-align: right;\n",
       "    }\n",
       "</style>\n",
       "<table border=\"1\" class=\"dataframe\">\n",
       "  <thead>\n",
       "    <tr style=\"text-align: right;\">\n",
       "      <th></th>\n",
       "      <th>id</th>\n",
       "      <th>text</th>\n",
       "    </tr>\n",
       "  </thead>\n",
       "  <tbody>\n",
       "    <tr>\n",
       "      <th>0</th>\n",
       "      <td>1</td>\n",
       "      <td>Puszka 0,33l dzięki Christoph . Kolor jasnozło...</td>\n",
       "    </tr>\n",
       "    <tr>\n",
       "      <th>1</th>\n",
       "      <td>2</td>\n",
       "      <td>Cerveza pale lager gabonesa. MÃ¡s floja que la...</td>\n",
       "    </tr>\n",
       "    <tr>\n",
       "      <th>2</th>\n",
       "      <td>3</td>\n",
       "      <td>Kolor- złoty, klarowny. Piana - drobna, średni...</td>\n",
       "    </tr>\n",
       "    <tr>\n",
       "      <th>3</th>\n",
       "      <td>4</td>\n",
       "      <td>Botella, de GabÃ³n regalo familiar.31/01/2015C...</td>\n",
       "    </tr>\n",
       "    <tr>\n",
       "      <th>4</th>\n",
       "      <td>5</td>\n",
       "      <td>Many thanks for this beer to Erzengel. Pours l...</td>\n",
       "    </tr>\n",
       "  </tbody>\n",
       "</table>\n",
       "</div>"
      ]
     },
     "execution_count": 19,
     "metadata": {},
     "output_type": "execute_result"
    }
   ],
   "execution_count": 19
  },
  {
   "metadata": {
    "ExecuteTime": {
     "end_time": "2024-11-30T17:22:48.418472Z",
     "start_time": "2024-11-30T17:22:47.607876Z"
    }
   },
   "cell_type": "code",
   "source": [
    "print(\"num of nan in text\", str(beer_reviews_df['text'].isna().sum()))\n",
    "print(len(beer_reviews_df['text'])- beer_reviews_df['text'].isna().sum())"
   ],
   "outputs": [
    {
     "name": "stdout",
     "output_type": "stream",
     "text": [
      "num of nan in text 0\n",
      "9839067\n"
     ]
    }
   ],
   "execution_count": 20
  },
  {
   "cell_type": "code",
   "metadata": {
    "ExecuteTime": {
     "end_time": "2024-11-30T17:27:21.523554Z",
     "start_time": "2024-11-30T17:27:21.331456Z"
    }
   },
   "source": [
    "split_dfs = np.array_split(beer_reviews_df, 15)\n",
    "split_dfs"
   ],
   "outputs": [
    {
     "name": "stderr",
     "output_type": "stream",
     "text": [
      "/Users/gustavelapierre/Documents/EPFL/Ada/ada-2024-project-abracadabra/.venv/lib/python3.11/site-packages/numpy/_core/fromnumeric.py:57: FutureWarning: 'DataFrame.swapaxes' is deprecated and will be removed in a future version. Please use 'DataFrame.transpose' instead.\n",
      "  return bound(*args, **kwds)\n"
     ]
    },
    {
     "data": {
      "text/plain": [
       "[            id                                               text\n",
       " 0            1  Puszka 0,33l dzięki Christoph . Kolor jasnozło...\n",
       " 1            2  Cerveza pale lager gabonesa. MÃ¡s floja que la...\n",
       " 2            3  Kolor- złoty, klarowny. Piana - drobna, średni...\n",
       " 3            4  Botella, de GabÃ³n regalo familiar.31/01/2015C...\n",
       " 4            5  Many thanks for this beer to Erzengel. Pours l...\n",
       " ...        ...                                                ...\n",
       " 655962  655719  Can. clear without a head. Aroma and flavour o...\n",
       " 655963  655720  Can. Very pale golden colour with some white b...\n",
       " 655964  655721  Can.Aroma of glue,elderflower and solvent.Pour...\n",
       " 655965  655722  Can. A clear drink, slightly colored but only ...\n",
       " 655966  655723  Can 330ml. @ home.Clear light yellow color wit...\n",
       " \n",
       " [655938 rows x 2 columns],\n",
       "               id                                               text\n",
       " 655967    655724  very sweet elderflower,pale, clear, minimal he...\n",
       " 655968    655725  Almost no colour, only very light yellow-green...\n",
       " 655969    655726  Can at a Wolf Eyes concert. Clear golden - whi...\n",
       " 655970    655727  The color is like water with a splash of yello...\n",
       " 655971    655728  Can. Water colour (almost) Weird artificial st...\n",
       " ...          ...                                                ...\n",
       " 1311934  1311411  very pale, no head. The warmer its served the ...\n",
       " 1311935  1311412  smooth, but bland.  Reminds me of an overprice...\n",
       " 1311936  1311413  Donât like it, too bitter for me. Pale color...\n",
       " 1311937  1311414  Light and refreshing, and a beer one can drink...\n",
       " 1311938  1311415  Really pale color and by the time the beer got...\n",
       " \n",
       " [655938 rows x 2 columns],\n",
       "               id                                               text\n",
       " 1311939  1311416  A lighter weight beer than I usually drink, no...\n",
       " 1311940  1311417  A decent beer, however, itâs aftertaste ling...\n",
       " 1311941  1311418  Slightly hazy, low head despite good condition...\n",
       " 1311942  1311419  16 oz. can that pours clear golden color with ...\n",
       " 1311943  1311420  This is what you would expect from a German Pi...\n",
       " ...          ...                                                ...\n",
       " 1967917  1967194  [email protected]/*  */ Peredrups (Dutch candy...\n",
       " 1967918  1967195  38cl, Batch 9, on new oak and used (Red Wine) ...\n",
       " 1967919  1967196  37,5cl bottle at Joesâ La Trappe Oak Aged Ve...\n",
       " 1967920  1967197  Bottled from the monastery, tasted side by sid...\n",
       " 1967921  1967198  A clear light brown colored beer, with a small...\n",
       " \n",
       " [655938 rows x 2 columns],\n",
       "               id                                               text\n",
       " 1967922  1967199  Bottle @ Kulminator  Very very new , just rele...\n",
       " 1967923  1967200  On tap at Arendsnest. Nice orange body with me...\n",
       " 1967924  1967201  I had it draught (not available in bottle as f...\n",
       " 1967925  1967202  Draught at Kulminator. Hazy brown liquid with ...\n",
       " 1967926  1967203  On tap at Kulminator. Pours a cloudy orangish ...\n",
       " ...          ...                                                ...\n",
       " 2623874  2623151  Produces up a hazy, opaque orange amber with l...\n",
       " 2623875  2623152  Not a lot if aroma. Pours a dark golden orange...\n",
       " 2623876  2623153  355ml bottle. Pours a hazy medium amber, with ...\n",
       " 2623877  2623154  Pours coppery-amber with a fairly big frothy o...\n",
       " 2623878  2623155  Bottle from mane liquor. Nice amber pour with ...\n",
       " \n",
       " [655938 rows x 2 columns],\n",
       "               id                                               text\n",
       " 2623879  2623156  Bottle. Amber with an inch of white head. Flor...\n",
       " 2623880  2623157  Bottle. Pours a copper color with minimum laci...\n",
       " 2623881  2623158  Bottle from Mane Liquor. Pours a cloudy bright...\n",
       " 2623882  2623159  330mL bottle. Pours deep golden /orange with a...\n",
       " 2623883  2623160  Bottle from Mane Liquor. Great looking beer. S...\n",
       " ...          ...                                                ...\n",
       " 3279828  3278890  375 mL bottle, vintage 2011.  Pours black with...\n",
       " 3279829  3278891  Pours a deep cola brown, almost no head. Nose ...\n",
       " 3279830  3278892  Bottle at Sorbon, June 2012.Black with no head...\n",
       " 3279831  3278893  Trevlig sötaktig lakrits och tjära. Mycket god...\n",
       " 3279832  3278894  This came from THE LOCAL BEER BAR in Eureka, C...\n",
       " \n",
       " [655938 rows x 2 columns],\n",
       "               id                                               text\n",
       " 3279833  3278895  Finally get to rate one of my favorite beers. ...\n",
       " 3279834  3278896  Pours black with no head. Smell is strong toba...\n",
       " 3279835  3278897  375 ml bottle from Systembolaget. APPEARANCE: ...\n",
       " 3279836  3278898  (bottle) clear, bright, very dark brown colour...\n",
       " 3279837  3278899  La mÃªme bouteille de 37,5 cl ! A lâouvertur...\n",
       " ...          ...                                                ...\n",
       " 3935791  3934722  Dark pour for sure with small mocha top. Aroma...\n",
       " 3935792  3934723  Rating #2182 - 2015.11.17 - Bottle from BevMo....\n",
       " 3935793  3934724  This pours with a head that looks for all the ...\n",
       " 3935794  3934725  Pour black, with nice, big nuttybrown head, th...\n",
       " 3935795  3934726  AROMA: Coffee, chocolate, toast and anise;APPE...\n",
       " \n",
       " [655938 rows x 2 columns],\n",
       "               id                                               text\n",
       " 3935796  3934727  Date: September 24, 2011 Mode: Bottle Source: ...\n",
       " 3935797  3934728  Bottle bought @ Systembolaget and consumed on ...\n",
       " 3935798  3934729  Pours pitch black with minimal head.  Taste is...\n",
       " 3935799  3934730  Tra le birre piÃ¹ sopravalutate del pianeta. U...\n",
       " 3935800  3934731  Let there be no misconceptions.  This is an ex...\n",
       " ...          ...                                                ...\n",
       " 4591759  4590565  Sampled on draught at the breweryâs taproom ...\n",
       " 4591760  4590566  Tap at Wenonah. batch 231l. Pours a dirty mud ...\n",
       " 4591761  4590567  Sampled from the tap at the brewery. Pours a c...\n",
       " 4591762  4590568  keg @ Wenonah. Deep brown pour with a sma head...\n",
       " 4591763  4590569  On tap at Wenonah taproom. Pours A dark browni...\n",
       " \n",
       " [655938 rows x 2 columns],\n",
       "               id                                               text\n",
       " 4591764  4590570  Tap at Winona. Pours a nice gold with quickly ...\n",
       " 4591765  4590571  Sampled from the tap at the brewery. Pours a c...\n",
       " 4591766  4590572  Keg @ Wenonah. Slightly hazy copper pour with ...\n",
       " 4591767  4590573  Sampled on draught at the breweryâs taproom ...\n",
       " 4591768  4590574  Sampled on draught at the breweryâs taproom ...\n",
       " ...          ...                                                ...\n",
       " 5247708  5246514  What a nice surprise, and proof that chilis an...\n",
       " 5247709  5246515  A nice flavor. The taste is darker than the co...\n",
       " 5247710  5246516  Morbid curiousity made me want to see if someo...\n",
       " 5247711  5246517  Cracked this one open for Cinqo de Mayo.  Very...\n",
       " 5247712  5246518  Iâm surprised that more brewers havenât ex...\n",
       " \n",
       " [655938 rows x 2 columns],\n",
       "               id                                               text\n",
       " 5247713  5246519  To save money, Iâve decided to take shots of...\n",
       " 5247714  5246520  I love spicy stuff, but donât mess with my b...\n",
       " 5247715  5246521  Pepper in a bottle.  Itâs crazy enough, it j...\n",
       " 5247716  5246522  Ver sneaky, this beer is. The first sip gives ...\n",
       " 5247717  5246523  A very nice peppery beer, without having too m...\n",
       " ...          ...                                                ...\n",
       " 5903697  5902378  50 cl bottle. BBE 12.09.2012.Originally rated ...\n",
       " 5903698  5902379  Pitch dark black body with an off white head. ...\n",
       " 5903699  5902380  Bottle.  Black pour with a 2 inch brown head t...\n",
       " 5903700  5902381  This brew is indeed what  a porter should be a...\n",
       " 5903701  5902382  This beer is perfect. It has a full flavor in ...\n",
       " \n",
       " [655938 rows x 2 columns],\n",
       "               id                                               text\n",
       " 5903702  5902383  A: Pitch black body. Large bubbly khaki head t...\n",
       " 5903703  5902384  12oz bottle into a pint glass.Pours a dark bro...\n",
       " 5903704  5902385  12oz bottle, best by March 3, 2012.  Served at...\n",
       " 5903705  5902386  Two finger creamy tan head. Mild cocoa like ar...\n",
       " 5903706  5902387  Rich full-bodied porter, definetily one of the...\n",
       " ...          ...                                                ...\n",
       " 6559772  6558083  Bottle: Amber coloured, thin but lasting off-w...\n",
       " 6559773  6558084  Wasnt sure what to expect here. Aroma is malty...\n",
       " 6559774  6558085  (on tap @ toronado)light brown body with small...\n",
       " 6559775  6558086  Fruity aroma with hints of baking cake. Light ...\n",
       " 6559776  6558087  Draught At Pub Italia, Ottawa.  Poured clear a...\n",
       " \n",
       " [655938 rows x 2 columns],\n",
       "               id                                               text\n",
       " 6559777  6558088  well balanced ale.  for some reason i always e...\n",
       " 6559778  6558089  Poured cloudy dark amber with a minimal head, ...\n",
       " 6559779  6558090  Poured like a semi carbonated Maudite. Not a v...\n",
       " 6559780  6558091  On tap at Toronado. This reddish-brown ale pou...\n",
       " 6559781  6558092  Reddish, but clear, in the glass with a half i...\n",
       " ...          ...                                                ...\n",
       " 7313757  7312026  Pale mild ale 3.7% available all yearCopper co...\n",
       " 7313758  7312027  Golden body with huge foaming white head it re...\n",
       " 7313759  7312028  First brewed in March 2011 to celebrate the ma...\n",
       " 7313760  7312029  Rich chocolate brown body with nice thick whit...\n",
       " 7313761  7312030  I got this bottle from Jeremy (Blackhaddock) w...\n",
       " \n",
       " [655938 rows x 2 columns],\n",
       "               id                                               text\n",
       " 7313762  7312031  Brown 500ml bottle, best before 01-2011, drank...\n",
       " 7313763  7312032  Pours a hazy, murky red with purple hues (yes,...\n",
       " 7313764  7312033  After the excellent tour of Tucker's Maltings ...\n",
       " 7313765  7312034  I had a very pleasant visit to Tucker's Maltin...\n",
       " 7313766  7312035  Poured from a room temperature 500ml bottle in...\n",
       " ...          ...                                                ...\n",
       " 9127968  9126237  I wasnt aware that Anchor made a bock, until I...\n",
       " 9127969  9126238  12oz. bottlePours a rich mahogany color with a...\n",
       " 9127970  9126239  Serving: 12oz bottlePours and awesome umber br...\n",
       " 9127971  9126240  Bottle Inspection: Brown short bottle, twisty,...\n",
       " 9127972  9126241  I purchased a six of this, partially out of sh...\n",
       " \n",
       " [655938 rows x 2 columns],\n",
       "                 id                                               text\n",
       " 9127973    9126242  A - dark brown/black with crimson highlights, ...\n",
       " 9127974    9126243  12oz bottle into mug.Clear, but very dark brow...\n",
       " 9127975    9126244  Looks more like a stout than a bock. But still...\n",
       " 9127976    9126245  Date on the bottle 6BNPours mahogany with 4 fi...\n",
       " 9127977    9126246  Pours out a rich looking purplish ruby colored...\n",
       " ...            ...                                                ...\n",
       " 11225035  11223304  Appearance: Cloudy orange/amber with decent fo...\n",
       " 11225038  11223307  I love beer. I love apple cider. I've liked ev...\n",
       " 11225042  11223311  had this after a hot day at the lake with the ...\n",
       " 11225049  11223318  A- Pours slightly hazy golden yellow color wit...\n",
       " 11225051  11223320  This is the second &quot;Shock Top&quot; Beer ...\n",
       " \n",
       " [655937 rows x 2 columns],\n",
       "                 id                                               text\n",
       " 11225057  11223326  I am drinking this beer right now as I'm writi...\n",
       " 11225059  11223328  Up front the smell was okay, not so bad. Mouth...\n",
       " 11225071  11223340  (Previous review, transferred from beer journa...\n",
       " 11225073  11223342  Got this as part of a sampler pack with Shock ...\n",
       " 11225074  11223343  I bought a six-pack of Shock Top Honeycrisp Ap...\n",
       " ...            ...                                                ...\n",
       " 13458979  13457248  Big time carbonation on the pour. A nice murky...\n",
       " 13458980  13457249  The Hippie IPA pours from the bomber a nice de...\n",
       " 13458981  13457250  Pours a lightly hazy deep copper to amber colo...\n",
       " 13458982  13457251  Thanks to kmpitz2 for this one of 2 IPA's from...\n",
       " 13458983  13457252  bottle courtesy of richlikebeer...Appears an o...\n",
       " \n",
       " [655937 rows x 2 columns],\n",
       "                 id                                               text\n",
       " 13458984  13457253  A bomber hophead fix at $4 USD, bought at Chuc...\n",
       " 13458985  13457254  This is a nice copper color with a light tan h...\n",
       " 13458986  13457255  On-tap at the BBC pub.I recall the dark copper...\n",
       " 13458987  13457256  I cant say as Ive spent all that much time i...\n",
       " 13458988  13457257  Pours a clear amber color clear with a nice he...\n",
       " ...            ...                                                ...\n",
       " 15516832  15515101  It may say APA on this site, but talking to th...\n",
       " 15516833  15515102  I'll start off reviewing this beer with the fo...\n",
       " 15516834  15515103  Served on draft at the pub. Poured a clear yel...\n",
       " 15516835  15515104  Served on tap at the brewpub in a pint glass.A...\n",
       " 15516837  15515106  Dark brown brew served on tap at the brewpub. ...\n",
       " \n",
       " [655937 rows x 2 columns]]"
      ]
     },
     "execution_count": 27,
     "metadata": {},
     "output_type": "execute_result"
    }
   ],
   "execution_count": 27
  },
  {
   "metadata": {
    "ExecuteTime": {
     "end_time": "2024-11-30T17:27:56.020230Z",
     "start_time": "2024-11-30T17:27:27.853600Z"
    }
   },
   "cell_type": "code",
   "source": [
    "output_file_path = '../data/beer_reviews_with_ids'\n",
    "for i, part_df in enumerate(split_dfs, start=1):\n",
    "    part_file_path = f'{output_file_path}_{i}.csv'\n",
    "    part_df.to_csv(part_file_path, index=False)\n",
    "    print(f'Part {i} saved to {part_file_path}')"
   ],
   "outputs": [
    {
     "name": "stdout",
     "output_type": "stream",
     "text": [
      "Part 1 saved to ../data/beer_reviews_with_ids_1.csv\n",
      "Part 2 saved to ../data/beer_reviews_with_ids_2.csv\n",
      "Part 3 saved to ../data/beer_reviews_with_ids_3.csv\n",
      "Part 4 saved to ../data/beer_reviews_with_ids_4.csv\n",
      "Part 5 saved to ../data/beer_reviews_with_ids_5.csv\n",
      "Part 6 saved to ../data/beer_reviews_with_ids_6.csv\n",
      "Part 7 saved to ../data/beer_reviews_with_ids_7.csv\n",
      "Part 8 saved to ../data/beer_reviews_with_ids_8.csv\n",
      "Part 9 saved to ../data/beer_reviews_with_ids_9.csv\n",
      "Part 10 saved to ../data/beer_reviews_with_ids_10.csv\n",
      "Part 11 saved to ../data/beer_reviews_with_ids_11.csv\n",
      "Part 12 saved to ../data/beer_reviews_with_ids_12.csv\n",
      "Part 13 saved to ../data/beer_reviews_with_ids_13.csv\n",
      "Part 14 saved to ../data/beer_reviews_with_ids_14.csv\n",
      "Part 15 saved to ../data/beer_reviews_with_ids_15.csv\n"
     ]
    }
   ],
   "execution_count": 28
  },
  {
   "metadata": {
    "ExecuteTime": {
     "end_time": "2024-12-03T12:34:23.431956Z",
     "start_time": "2024-12-03T12:33:59.025457Z"
    }
   },
   "cell_type": "code",
   "source": [
    "import pandas as pd\n",
    "import math\n",
    "\n",
    "# Load the datasets\n",
    "file_13 = '../data/beer_reviews_with_sent_1.csv'\n",
    "file_15 = '../data/beer_reviews_with_sent_12.csv'\n",
    "\n",
    "df_13 = pd.read_csv(file_13)\n",
    "df_15 = pd.read_csv(file_15)\n",
    "\n",
    "# Fuse the datasets together\n",
    "fused_df = pd.concat([df_13, df_15])\n",
    "\n",
    "# Calculate the size of each split\n",
    "total_rows = len(fused_df)\n",
    "split_size = math.ceil(total_rows / 15)\n",
    "\n",
    "# Split the fused dataset and save each part with the specified naming convention\n",
    "for i in range(1, 16):\n",
    "    start_idx = (i - 1) * split_size\n",
    "    end_idx = start_idx + split_size\n",
    "    split_df = fused_df.iloc[start_idx:end_idx]\n",
    "    split_file_name = f'../data/2_beer_reviews_with_ids_{i}.csv'\n",
    "    split_df.to_csv(split_file_name, index=False)\n",
    "\n",
    "print(\"Datasets fused and split successfully!\")\n"
   ],
   "outputs": [
    {
     "name": "stdout",
     "output_type": "stream",
     "text": [
      "Datasets fused and split successfully!\n"
     ]
    }
   ],
   "execution_count": 3
  },
  {
   "metadata": {
    "ExecuteTime": {
     "end_time": "2024-12-05T12:18:12.927393Z",
     "start_time": "2024-12-05T12:17:20.967352Z"
    }
   },
   "cell_type": "code",
   "source": [
    "import pandas as pd\n",
    "\n",
    "file_paths = [f'../data/combined_beer_reviews_{i}.csv' for i in range(1, 3)]\n",
    "\n",
    "combined_data = pd.concat([pd.read_csv(file) for file in file_paths], ignore_index=True)\n",
    "\n",
    "output_path = '../data/beer_reviews_with_sent_full.csv'\n",
    "combined_data.to_csv(output_path, index=False)\n",
    "\n",
    "print(f\"Combined dataset saved to: {output_path}\")\n"
   ],
   "outputs": [
    {
     "name": "stdout",
     "output_type": "stream",
     "text": [
      "Combined dataset saved to: ../data/combined_beer_reviews.csv\n"
     ]
    }
   ],
   "execution_count": 3
  }
 ],
 "metadata": {
  "kernelspec": {
   "display_name": "myenv",
   "language": "python",
   "name": "python3"
  },
  "language_info": {
   "codemirror_mode": {
    "name": "ipython",
    "version": 3
   },
   "file_extension": ".py",
   "mimetype": "text/x-python",
   "name": "python",
   "nbconvert_exporter": "python",
   "pygments_lexer": "ipython3",
   "version": "3.9.6"
  }
 },
 "nbformat": 4,
 "nbformat_minor": 2
}
