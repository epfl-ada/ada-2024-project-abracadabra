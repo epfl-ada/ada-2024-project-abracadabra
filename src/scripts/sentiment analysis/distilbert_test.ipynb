{
 "cells": [
  {
   "metadata": {
    "ExecuteTime": {
     "end_time": "2024-11-13T23:12:57.970088Z",
     "start_time": "2024-11-13T23:12:57.245068Z"
    }
   },
   "cell_type": "code",
   "source": [
    "from transformers import AutoTokenizer, AutoModelForSequenceClassification\n",
    "import torch\n",
    "\n",
    "#Loading the model\n",
    "\n",
    "tokenizer = AutoTokenizer.from_pretrained(\"lxyuan/distilbert-base-multilingual-cased-sentiments-student\")\n",
    "model = AutoModelForSequenceClassification.from_pretrained(\"lxyuan/distilbert-base-multilingual-cased-sentiments-student\")"
   ],
   "id": "e4d0bf28a3822582",
   "outputs": [],
   "execution_count": 7
  },
  {
   "cell_type": "code",
   "id": "initial_id",
   "metadata": {
    "collapsed": true,
    "ExecuteTime": {
     "end_time": "2024-11-13T23:14:21.134563Z",
     "start_time": "2024-11-13T23:14:21.095429Z"
    }
   },
   "source": [
    "# Making sure the model works\n",
    "\n",
    "text = \"neutral\"\n",
    "\n",
    "inputs = tokenizer(text, return_tensors=\"pt\", padding=True, truncation=True, max_length=512)\n",
    "\n",
    "with torch.no_grad():\n",
    "    outputs = model(**inputs)\n",
    "\n",
    "logits = outputs.logits\n",
    "probabilities = torch.softmax(logits, dim=-1)\n",
    "\n",
    "predicted_class = torch.argmax(probabilities, dim=-1).item()\n"
   ],
   "outputs": [],
   "execution_count": 13
  },
  {
   "metadata": {
    "ExecuteTime": {
     "end_time": "2024-11-13T23:14:22.920390Z",
     "start_time": "2024-11-13T23:14:22.914506Z"
    }
   },
   "cell_type": "code",
   "source": "print(str(probabilities) + \" ; \" + str(predicted_class))",
   "id": "786c3abbe12d1c62",
   "outputs": [
    {
     "name": "stdout",
     "output_type": "stream",
     "text": [
      "tensor([[0.3233, 0.4621, 0.2146]]) ; 1\n"
     ]
    }
   ],
   "execution_count": 14
  },
  {
   "metadata": {
    "ExecuteTime": {
     "end_time": "2024-11-13T23:12:58.244958Z",
     "start_time": "2024-11-13T23:12:58.242Z"
    }
   },
   "cell_type": "code",
   "source": "",
   "id": "e8276628481bc059",
   "outputs": [],
   "execution_count": null
  }
 ],
 "metadata": {
  "kernelspec": {
   "display_name": "Python 3",
   "language": "python",
   "name": "python3"
  },
  "language_info": {
   "codemirror_mode": {
    "name": "ipython",
    "version": 2
   },
   "file_extension": ".py",
   "mimetype": "text/x-python",
   "name": "python",
   "nbconvert_exporter": "python",
   "pygments_lexer": "ipython2",
   "version": "2.7.6"
  }
 },
 "nbformat": 4,
 "nbformat_minor": 5
}
