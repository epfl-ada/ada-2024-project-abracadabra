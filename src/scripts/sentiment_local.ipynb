{
 "cells": [
  {
   "cell_type": "code",
   "id": "initial_id",
   "metadata": {
    "collapsed": true,
    "ExecuteTime": {
     "end_time": "2024-11-20T23:37:24.512606Z",
     "start_time": "2024-11-20T23:37:23.252334Z"
    }
   },
   "source": [
    "import torch\n",
    "from torch.utils.data import DataLoader, Dataset\n",
    "from transformers import AutoModelForSequenceClassification, AutoTokenizer\n",
    "from tqdm import tqdm\n",
    "import pandas as pd\n",
    "import os\n",
    "import gc\n"
   ],
   "outputs": [],
   "execution_count": 1
  },
  {
   "metadata": {
    "ExecuteTime": {
     "end_time": "2024-11-20T23:37:24.516722Z",
     "start_time": "2024-11-20T23:37:24.515305Z"
    }
   },
   "cell_type": "code",
   "source": "os.environ[\"TOKENIZERS_PARALLELISM\"] = \"false\"",
   "id": "a14260a2fd50f75",
   "outputs": [],
   "execution_count": 2
  },
  {
   "metadata": {
    "ExecuteTime": {
     "end_time": "2024-11-20T23:37:24.604238Z",
     "start_time": "2024-11-20T23:37:24.589800Z"
    }
   },
   "cell_type": "code",
   "source": [
    "output_file_path = '../data/beer_reviews_text.csv'\n",
    "\n",
    "num_rows= 6000\n",
    "\n",
    "df = pd.read_csv(output_file_path, nrows=num_rows)\n",
    "df.head()"
   ],
   "id": "dbf08bbc91758891",
   "outputs": [
    {
     "data": {
      "text/plain": [
       "                                                text\n",
       "0  Puszka 0,33l dzięki Christoph . Kolor jasnozło...\n",
       "1  Cerveza pale lager gabonesa. MÃ¡s floja que la...\n",
       "2  Kolor- złoty, klarowny. Piana - drobna, średni...\n",
       "3  Botella, de GabÃ³n regalo familiar.31/01/2015C...\n",
       "4  Many thanks for this beer to Erzengel. Pours l..."
      ],
      "text/html": [
       "<div>\n",
       "<style scoped>\n",
       "    .dataframe tbody tr th:only-of-type {\n",
       "        vertical-align: middle;\n",
       "    }\n",
       "\n",
       "    .dataframe tbody tr th {\n",
       "        vertical-align: top;\n",
       "    }\n",
       "\n",
       "    .dataframe thead th {\n",
       "        text-align: right;\n",
       "    }\n",
       "</style>\n",
       "<table border=\"1\" class=\"dataframe\">\n",
       "  <thead>\n",
       "    <tr style=\"text-align: right;\">\n",
       "      <th></th>\n",
       "      <th>text</th>\n",
       "    </tr>\n",
       "  </thead>\n",
       "  <tbody>\n",
       "    <tr>\n",
       "      <th>0</th>\n",
       "      <td>Puszka 0,33l dzięki Christoph . Kolor jasnozło...</td>\n",
       "    </tr>\n",
       "    <tr>\n",
       "      <th>1</th>\n",
       "      <td>Cerveza pale lager gabonesa. MÃ¡s floja que la...</td>\n",
       "    </tr>\n",
       "    <tr>\n",
       "      <th>2</th>\n",
       "      <td>Kolor- złoty, klarowny. Piana - drobna, średni...</td>\n",
       "    </tr>\n",
       "    <tr>\n",
       "      <th>3</th>\n",
       "      <td>Botella, de GabÃ³n regalo familiar.31/01/2015C...</td>\n",
       "    </tr>\n",
       "    <tr>\n",
       "      <th>4</th>\n",
       "      <td>Many thanks for this beer to Erzengel. Pours l...</td>\n",
       "    </tr>\n",
       "  </tbody>\n",
       "</table>\n",
       "</div>"
      ]
     },
     "execution_count": 3,
     "metadata": {},
     "output_type": "execute_result"
    }
   ],
   "execution_count": 3
  },
  {
   "metadata": {
    "ExecuteTime": {
     "end_time": "2024-11-20T23:37:24.625587Z",
     "start_time": "2024-11-20T23:37:24.623100Z"
    }
   },
   "cell_type": "code",
   "source": [
    "class SentimentAnalysisModel:\n",
    "    def __init__(self, model_path='multilingual-sentiment', weights=None):\n",
    "        if weights is not None:\n",
    "            self.weights = weights.to(\"mps\")\n",
    "        else:\n",
    "            self.weights = torch.tensor([[-1, -0.5, 0, 0.5, 1]], device=\"mps\").unsqueeze(0).unsqueeze(-1)\n",
    "        self.model = AutoModelForSequenceClassification.from_pretrained(model_path).to(\"mps\")\n",
    "        self.tokenizer = AutoTokenizer.from_pretrained(model_path)\n",
    "\n",
    "    def forward(self, **inputs):\n",
    "        with torch.no_grad():\n",
    "            with torch.autocast(\"mps\"):\n",
    "                outputs = self.model(**inputs)\n",
    "            predictions = outputs.logits\n",
    "            probabilities = torch.softmax(predictions, dim=-1).to(\"mps\")\n",
    "            sentiment_score = torch.matmul(probabilities, self.weights).squeeze()\n",
    "        return sentiment_score.cpu()  # Move back to CPU for further processing\n",
    "\n",
    "class CommentsDataset(Dataset):\n",
    "    def __init__(self, comments):\n",
    "        self.comments = comments\n",
    "\n",
    "    def __len__(self):\n",
    "        return len(self.comments)\n",
    "\n",
    "    def __getitem__(self, idx):\n",
    "        return self.comments[idx]"
   ],
   "id": "1d60730518592000",
   "outputs": [],
   "execution_count": 4
  },
  {
   "metadata": {
    "ExecuteTime": {
     "end_time": "2024-11-20T23:37:24.645727Z",
     "start_time": "2024-11-20T23:37:24.643689Z"
    }
   },
   "cell_type": "code",
   "source": [
    "def process_batch(batch, sentiment_model):\n",
    "    tokenized_batch = sentiment_model.tokenizer(\n",
    "        batch,\n",
    "        return_tensors=\"pt\",\n",
    "        padding=True,\n",
    "        truncation=True,\n",
    "        max_length=512\n",
    "    )\n",
    "    tokenized_batch = {key: val.to(\"mps\") for key, val in tokenized_batch.items()}\n",
    "    with torch.no_grad():\n",
    "        scores = sentiment_model.forward(**tokenized_batch)\n",
    "    del tokenized_batch\n",
    "    torch.mps.empty_cache()\n",
    "    return scores.tolist()\n",
    "\n",
    "def process_all_batches(data_loader, sentiment_model):\n",
    "    all_scores = []\n",
    "    for batch in tqdm(data_loader, desc=\"Processing Batches\", unit=\"batch\"):\n",
    "        batch_scores = process_batch(batch, sentiment_model)\n",
    "        all_scores.extend(batch_scores)\n",
    "    return all_scores\n"
   ],
   "id": "9eb71424ee159392",
   "outputs": [],
   "execution_count": 5
  },
  {
   "metadata": {
    "ExecuteTime": {
     "end_time": "2024-11-20T23:39:36.336532Z",
     "start_time": "2024-11-20T23:37:24.651486Z"
    }
   },
   "cell_type": "code",
   "source": [
    "if __name__ == \"__main__\":\n",
    "    sentiment_model = SentimentAnalysisModel(model_path=\"../models/sentiment_model_1\")\n",
    "\n",
    "    batch_size = 512\n",
    "    dataset = CommentsDataset(df.iloc[:, 0].astype(str).tolist())\n",
    "    data_loader = DataLoader(\n",
    "        dataset,\n",
    "        batch_size=batch_size,\n",
    "        shuffle=False,\n",
    "        num_workers=0,\n",
    "        pin_memory=True,\n",
    "        persistent_workers=False\n",
    "    )\n",
    "\n",
    "    df[\"sentiment_bert\"] = process_all_batches(data_loader, sentiment_model)\n"
   ],
   "id": "9a09197f7886995f",
   "outputs": [
    {
     "name": "stderr",
     "output_type": "stream",
     "text": [
      "Processing Batches: 100%|██████████| 12/12 [02:10<00:00, 10.90s/batch]\n"
     ]
    }
   ],
   "execution_count": 6
  },
  {
   "metadata": {
    "ExecuteTime": {
     "end_time": "2024-11-20T23:39:36.409442Z",
     "start_time": "2024-11-20T23:39:36.345985Z"
    }
   },
   "cell_type": "code",
   "source": [
    "torch.mps.empty_cache()\n",
    "gc.collect()"
   ],
   "id": "a16d1d3b7318901f",
   "outputs": [
    {
     "data": {
      "text/plain": [
       "0"
      ]
     },
     "execution_count": 7,
     "metadata": {},
     "output_type": "execute_result"
    }
   ],
   "execution_count": 7
  },
  {
   "metadata": {
    "ExecuteTime": {
     "end_time": "2024-11-20T23:39:36.419299Z",
     "start_time": "2024-11-20T23:39:36.416036Z"
    }
   },
   "cell_type": "code",
   "source": "df",
   "id": "5295f32821774781",
   "outputs": [
    {
     "data": {
      "text/plain": [
       "                                                   text  sentiment_bert\n",
       "0     Puszka 0,33l dzięki Christoph . Kolor jasnozło...        0.264435\n",
       "1     Cerveza pale lager gabonesa. MÃ¡s floja que la...       -0.433727\n",
       "2     Kolor- złoty, klarowny. Piana - drobna, średni...        0.146698\n",
       "3     Botella, de GabÃ³n regalo familiar.31/01/2015C...       -0.067261\n",
       "4     Many thanks for this beer to Erzengel. Pours l...        0.842057\n",
       "...                                                 ...             ...\n",
       "5995  How: Bottle Apperance: Clear yellow. Aroma: fl...       -0.140594\n",
       "5996  Typical international lager. Weak aroma with s...       -0.067390\n",
       "5997  Een pilsbier dat heel goudblond eruitziet als ...       -0.259747\n",
       "5998  Clear golden, huge frothy white head. Grainy, ...        0.315399\n",
       "5999  Average Lager. Clear and golden color. Minimal...       -0.055983\n",
       "\n",
       "[6000 rows x 2 columns]"
      ],
      "text/html": [
       "<div>\n",
       "<style scoped>\n",
       "    .dataframe tbody tr th:only-of-type {\n",
       "        vertical-align: middle;\n",
       "    }\n",
       "\n",
       "    .dataframe tbody tr th {\n",
       "        vertical-align: top;\n",
       "    }\n",
       "\n",
       "    .dataframe thead th {\n",
       "        text-align: right;\n",
       "    }\n",
       "</style>\n",
       "<table border=\"1\" class=\"dataframe\">\n",
       "  <thead>\n",
       "    <tr style=\"text-align: right;\">\n",
       "      <th></th>\n",
       "      <th>text</th>\n",
       "      <th>sentiment_bert</th>\n",
       "    </tr>\n",
       "  </thead>\n",
       "  <tbody>\n",
       "    <tr>\n",
       "      <th>0</th>\n",
       "      <td>Puszka 0,33l dzięki Christoph . Kolor jasnozło...</td>\n",
       "      <td>0.264435</td>\n",
       "    </tr>\n",
       "    <tr>\n",
       "      <th>1</th>\n",
       "      <td>Cerveza pale lager gabonesa. MÃ¡s floja que la...</td>\n",
       "      <td>-0.433727</td>\n",
       "    </tr>\n",
       "    <tr>\n",
       "      <th>2</th>\n",
       "      <td>Kolor- złoty, klarowny. Piana - drobna, średni...</td>\n",
       "      <td>0.146698</td>\n",
       "    </tr>\n",
       "    <tr>\n",
       "      <th>3</th>\n",
       "      <td>Botella, de GabÃ³n regalo familiar.31/01/2015C...</td>\n",
       "      <td>-0.067261</td>\n",
       "    </tr>\n",
       "    <tr>\n",
       "      <th>4</th>\n",
       "      <td>Many thanks for this beer to Erzengel. Pours l...</td>\n",
       "      <td>0.842057</td>\n",
       "    </tr>\n",
       "    <tr>\n",
       "      <th>...</th>\n",
       "      <td>...</td>\n",
       "      <td>...</td>\n",
       "    </tr>\n",
       "    <tr>\n",
       "      <th>5995</th>\n",
       "      <td>How: Bottle Apperance: Clear yellow. Aroma: fl...</td>\n",
       "      <td>-0.140594</td>\n",
       "    </tr>\n",
       "    <tr>\n",
       "      <th>5996</th>\n",
       "      <td>Typical international lager. Weak aroma with s...</td>\n",
       "      <td>-0.067390</td>\n",
       "    </tr>\n",
       "    <tr>\n",
       "      <th>5997</th>\n",
       "      <td>Een pilsbier dat heel goudblond eruitziet als ...</td>\n",
       "      <td>-0.259747</td>\n",
       "    </tr>\n",
       "    <tr>\n",
       "      <th>5998</th>\n",
       "      <td>Clear golden, huge frothy white head. Grainy, ...</td>\n",
       "      <td>0.315399</td>\n",
       "    </tr>\n",
       "    <tr>\n",
       "      <th>5999</th>\n",
       "      <td>Average Lager. Clear and golden color. Minimal...</td>\n",
       "      <td>-0.055983</td>\n",
       "    </tr>\n",
       "  </tbody>\n",
       "</table>\n",
       "<p>6000 rows × 2 columns</p>\n",
       "</div>"
      ]
     },
     "execution_count": 8,
     "metadata": {},
     "output_type": "execute_result"
    }
   ],
   "execution_count": 8
  },
  {
   "metadata": {
    "ExecuteTime": {
     "end_time": "2024-11-20T23:39:36.437022Z",
     "start_time": "2024-11-20T23:39:36.435915Z"
    }
   },
   "cell_type": "code",
   "source": "",
   "id": "88a6cb059bc1b103",
   "outputs": [],
   "execution_count": null
  }
 ],
 "metadata": {
  "kernelspec": {
   "display_name": "Python 3",
   "language": "python",
   "name": "python3"
  },
  "language_info": {
   "codemirror_mode": {
    "name": "ipython",
    "version": 2
   },
   "file_extension": ".py",
   "mimetype": "text/x-python",
   "name": "python",
   "nbconvert_exporter": "python",
   "pygments_lexer": "ipython2",
   "version": "2.7.6"
  }
 },
 "nbformat": 4,
 "nbformat_minor": 5
}
