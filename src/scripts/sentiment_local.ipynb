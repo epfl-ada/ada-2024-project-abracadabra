{
 "cells": [
  {
   "cell_type": "code",
   "id": "initial_id",
   "metadata": {
    "collapsed": true
   },
   "source": [
    "import torch\n",
    "from torch.utils.data import DataLoader\n",
    "import pandas as pd\n",
    "import os\n",
    "import gc\n",
    "import importlib\n",
    "import multiprocessing\n",
    "\n",
    "import sentiment_utils\n",
    "importlib.reload(sentiment_utils)\n",
    "from sentiment_utils import SentimentAnalysisModel, CommentsDataset, process_all_batches"
   ],
   "outputs": [],
   "execution_count": null
  },
  {
   "metadata": {},
   "cell_type": "code",
   "source": [
    "multiprocessing.set_start_method(\"fork\", force=True)\n",
    "os.environ[\"TOKENIZERS_PARALLELISM\"] = \"false\""
   ],
   "id": "a14260a2fd50f75",
   "outputs": [],
   "execution_count": null
  },
  {
   "metadata": {},
   "cell_type": "code",
   "source": [
    "output_file_path = '../data/beer_reviews_text.csv'\n",
    "\n",
    "num_rows= 6000\n",
    "\n",
    "df = pd.read_csv(output_file_path, nrows=num_rows)\n",
    "df.head()"
   ],
   "id": "dbf08bbc91758891",
   "outputs": [],
   "execution_count": null
  },
  {
   "metadata": {},
   "cell_type": "code",
   "source": [
    "sentiment_model = SentimentAnalysisModel(model_path=\"../models/sentiment_model_1\")\n",
    "\n",
    "batch_size = 16\n",
    "dataset = CommentsDataset(df[\"text\"].astype(str).tolist())\n",
    "data_loader = DataLoader(\n",
    "    dataset,\n",
    "    batch_size=batch_size,\n",
    "    shuffle=False,\n",
    "    num_workers=12,\n",
    "    pin_memory=True,\n",
    "    persistent_workers=True\n",
    ")\n",
    "\n",
    "df[\"sentiment_bert\"] = process_all_batches(data_loader, sentiment_model)\n",
    "df.head()\n"
   ],
   "id": "9a09197f7886995f",
   "outputs": [],
   "execution_count": null
  },
  {
   "metadata": {},
   "cell_type": "code",
   "source": [
    "torch.mps.empty_cache()\n",
    "gc.collect()"
   ],
   "id": "a16d1d3b7318901f",
   "outputs": [],
   "execution_count": null
  },
  {
   "metadata": {},
   "cell_type": "code",
   "source": "df",
   "id": "5295f32821774781",
   "outputs": [],
   "execution_count": null
  },
  {
   "metadata": {},
   "cell_type": "code",
   "source": "",
   "id": "421b0bd677479275",
   "outputs": [],
   "execution_count": null
  }
 ],
 "metadata": {
  "kernelspec": {
   "display_name": "Python 3",
   "language": "python",
   "name": "python3"
  },
  "language_info": {
   "codemirror_mode": {
    "name": "ipython",
    "version": 2
   },
   "file_extension": ".py",
   "mimetype": "text/x-python",
   "name": "python",
   "nbconvert_exporter": "python",
   "pygments_lexer": "ipython2",
   "version": "2.7.6"
  }
 },
 "nbformat": 4,
 "nbformat_minor": 5
}
