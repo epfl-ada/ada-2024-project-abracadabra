{
 "cells": [
  {
   "cell_type": "code",
   "id": "initial_id",
   "metadata": {
    "collapsed": true,
    "ExecuteTime": {
     "end_time": "2024-11-21T12:01:54.410757Z",
     "start_time": "2024-11-21T12:01:54.406693Z"
    }
   },
   "source": [
    "import torch\n",
    "from torch.utils.data import DataLoader\n",
    "import pandas as pd\n",
    "import os\n",
    "import gc\n",
    "import importlib\n",
    "import multiprocessing\n",
    "\n",
    "import sentiment_utils\n",
    "importlib.reload(sentiment_utils)\n",
    "from sentiment_utils import SentimentAnalysisModel, CommentsDataset, process_all_batches"
   ],
   "outputs": [],
   "execution_count": 27
  },
  {
   "metadata": {
    "ExecuteTime": {
     "end_time": "2024-11-21T12:01:54.416927Z",
     "start_time": "2024-11-21T12:01:54.414910Z"
    }
   },
   "cell_type": "code",
   "source": [
    "multiprocessing.set_start_method(\"fork\", force=True)\n",
    "os.environ[\"TOKENIZERS_PARALLELISM\"] = \"false\""
   ],
   "id": "a14260a2fd50f75",
   "outputs": [],
   "execution_count": 28
  },
  {
   "metadata": {
    "ExecuteTime": {
     "end_time": "2024-11-21T12:01:54.439426Z",
     "start_time": "2024-11-21T12:01:54.422644Z"
    }
   },
   "cell_type": "code",
   "source": [
    "output_file_path = '../data/beer_reviews_text.csv'\n",
    "\n",
    "num_rows= 6000\n",
    "\n",
    "df = pd.read_csv(output_file_path, nrows=num_rows)\n",
    "df.head()"
   ],
   "id": "dbf08bbc91758891",
   "outputs": [
    {
     "data": {
      "text/plain": [
       "                                                text\n",
       "0  Puszka 0,33l dzięki Christoph . Kolor jasnozło...\n",
       "1  Cerveza pale lager gabonesa. MÃ¡s floja que la...\n",
       "2  Kolor- złoty, klarowny. Piana - drobna, średni...\n",
       "3  Botella, de GabÃ³n regalo familiar.31/01/2015C...\n",
       "4  Many thanks for this beer to Erzengel. Pours l..."
      ],
      "text/html": [
       "<div>\n",
       "<style scoped>\n",
       "    .dataframe tbody tr th:only-of-type {\n",
       "        vertical-align: middle;\n",
       "    }\n",
       "\n",
       "    .dataframe tbody tr th {\n",
       "        vertical-align: top;\n",
       "    }\n",
       "\n",
       "    .dataframe thead th {\n",
       "        text-align: right;\n",
       "    }\n",
       "</style>\n",
       "<table border=\"1\" class=\"dataframe\">\n",
       "  <thead>\n",
       "    <tr style=\"text-align: right;\">\n",
       "      <th></th>\n",
       "      <th>text</th>\n",
       "    </tr>\n",
       "  </thead>\n",
       "  <tbody>\n",
       "    <tr>\n",
       "      <th>0</th>\n",
       "      <td>Puszka 0,33l dzięki Christoph . Kolor jasnozło...</td>\n",
       "    </tr>\n",
       "    <tr>\n",
       "      <th>1</th>\n",
       "      <td>Cerveza pale lager gabonesa. MÃ¡s floja que la...</td>\n",
       "    </tr>\n",
       "    <tr>\n",
       "      <th>2</th>\n",
       "      <td>Kolor- złoty, klarowny. Piana - drobna, średni...</td>\n",
       "    </tr>\n",
       "    <tr>\n",
       "      <th>3</th>\n",
       "      <td>Botella, de GabÃ³n regalo familiar.31/01/2015C...</td>\n",
       "    </tr>\n",
       "    <tr>\n",
       "      <th>4</th>\n",
       "      <td>Many thanks for this beer to Erzengel. Pours l...</td>\n",
       "    </tr>\n",
       "  </tbody>\n",
       "</table>\n",
       "</div>"
      ]
     },
     "execution_count": 29,
     "metadata": {},
     "output_type": "execute_result"
    }
   ],
   "execution_count": 29
  },
  {
   "metadata": {
    "ExecuteTime": {
     "end_time": "2024-11-21T12:12:00.197788Z",
     "start_time": "2024-11-21T12:10:34.937713Z"
    }
   },
   "cell_type": "code",
   "source": [
    "sentiment_model = SentimentAnalysisModel(model_path=\"../models/sentiment_model_1\")\n",
    "\n",
    "batch_size = 64\n",
    "dataset = CommentsDataset(df[\"text\"].astype(str).tolist())\n",
    "data_loader = DataLoader(\n",
    "    dataset,\n",
    "    batch_size=batch_size,\n",
    "    shuffle=False,\n",
    "    num_workers=12,\n",
    "    pin_memory=True,\n",
    "    persistent_workers=True\n",
    ")\n",
    "\n",
    "df[\"sentiment_bert\"] = process_all_batches(data_loader, sentiment_model)\n",
    "df.head()\n"
   ],
   "id": "9a09197f7886995f",
   "outputs": [
    {
     "name": "stderr",
     "output_type": "stream",
     "text": [
      "Processing Batches: 100%|██████████| 94/94 [01:25<00:00,  1.11batch/s]\n"
     ]
    },
    {
     "data": {
      "text/plain": [
       "                                                text  sentiment_bert\n",
       "0  Puszka 0,33l dzięki Christoph . Kolor jasnozło...        0.264435\n",
       "1  Cerveza pale lager gabonesa. MÃ¡s floja que la...       -0.433727\n",
       "2  Kolor- złoty, klarowny. Piana - drobna, średni...        0.146698\n",
       "3  Botella, de GabÃ³n regalo familiar.31/01/2015C...       -0.067261\n",
       "4  Many thanks for this beer to Erzengel. Pours l...        0.842057"
      ],
      "text/html": [
       "<div>\n",
       "<style scoped>\n",
       "    .dataframe tbody tr th:only-of-type {\n",
       "        vertical-align: middle;\n",
       "    }\n",
       "\n",
       "    .dataframe tbody tr th {\n",
       "        vertical-align: top;\n",
       "    }\n",
       "\n",
       "    .dataframe thead th {\n",
       "        text-align: right;\n",
       "    }\n",
       "</style>\n",
       "<table border=\"1\" class=\"dataframe\">\n",
       "  <thead>\n",
       "    <tr style=\"text-align: right;\">\n",
       "      <th></th>\n",
       "      <th>text</th>\n",
       "      <th>sentiment_bert</th>\n",
       "    </tr>\n",
       "  </thead>\n",
       "  <tbody>\n",
       "    <tr>\n",
       "      <th>0</th>\n",
       "      <td>Puszka 0,33l dzięki Christoph . Kolor jasnozło...</td>\n",
       "      <td>0.264435</td>\n",
       "    </tr>\n",
       "    <tr>\n",
       "      <th>1</th>\n",
       "      <td>Cerveza pale lager gabonesa. MÃ¡s floja que la...</td>\n",
       "      <td>-0.433727</td>\n",
       "    </tr>\n",
       "    <tr>\n",
       "      <th>2</th>\n",
       "      <td>Kolor- złoty, klarowny. Piana - drobna, średni...</td>\n",
       "      <td>0.146698</td>\n",
       "    </tr>\n",
       "    <tr>\n",
       "      <th>3</th>\n",
       "      <td>Botella, de GabÃ³n regalo familiar.31/01/2015C...</td>\n",
       "      <td>-0.067261</td>\n",
       "    </tr>\n",
       "    <tr>\n",
       "      <th>4</th>\n",
       "      <td>Many thanks for this beer to Erzengel. Pours l...</td>\n",
       "      <td>0.842057</td>\n",
       "    </tr>\n",
       "  </tbody>\n",
       "</table>\n",
       "</div>"
      ]
     },
     "execution_count": 35,
     "metadata": {},
     "output_type": "execute_result"
    }
   ],
   "execution_count": 35
  },
  {
   "metadata": {
    "ExecuteTime": {
     "end_time": "2024-11-21T12:04:11.188180Z",
     "start_time": "2024-11-21T12:04:11.026628Z"
    }
   },
   "cell_type": "code",
   "source": [
    "torch.mps.empty_cache()\n",
    "gc.collect()"
   ],
   "id": "a16d1d3b7318901f",
   "outputs": [
    {
     "data": {
      "text/plain": [
       "4035"
      ]
     },
     "execution_count": 31,
     "metadata": {},
     "output_type": "execute_result"
    }
   ],
   "execution_count": 31
  },
  {
   "metadata": {
    "ExecuteTime": {
     "end_time": "2024-11-21T12:04:11.206715Z",
     "start_time": "2024-11-21T12:04:11.202249Z"
    }
   },
   "cell_type": "code",
   "source": "df",
   "id": "5295f32821774781",
   "outputs": [
    {
     "data": {
      "text/plain": [
       "                                                   text  sentiment_bert\n",
       "0     Puszka 0,33l dzięki Christoph . Kolor jasnozło...        0.264435\n",
       "1     Cerveza pale lager gabonesa. MÃ¡s floja que la...       -0.433727\n",
       "2     Kolor- złoty, klarowny. Piana - drobna, średni...        0.146698\n",
       "3     Botella, de GabÃ³n regalo familiar.31/01/2015C...       -0.067261\n",
       "4     Many thanks for this beer to Erzengel. Pours l...        0.842057\n",
       "...                                                 ...             ...\n",
       "5995  How: Bottle Apperance: Clear yellow. Aroma: fl...       -0.140594\n",
       "5996  Typical international lager. Weak aroma with s...       -0.067390\n",
       "5997  Een pilsbier dat heel goudblond eruitziet als ...       -0.259747\n",
       "5998  Clear golden, huge frothy white head. Grainy, ...        0.315399\n",
       "5999  Average Lager. Clear and golden color. Minimal...       -0.055983\n",
       "\n",
       "[6000 rows x 2 columns]"
      ],
      "text/html": [
       "<div>\n",
       "<style scoped>\n",
       "    .dataframe tbody tr th:only-of-type {\n",
       "        vertical-align: middle;\n",
       "    }\n",
       "\n",
       "    .dataframe tbody tr th {\n",
       "        vertical-align: top;\n",
       "    }\n",
       "\n",
       "    .dataframe thead th {\n",
       "        text-align: right;\n",
       "    }\n",
       "</style>\n",
       "<table border=\"1\" class=\"dataframe\">\n",
       "  <thead>\n",
       "    <tr style=\"text-align: right;\">\n",
       "      <th></th>\n",
       "      <th>text</th>\n",
       "      <th>sentiment_bert</th>\n",
       "    </tr>\n",
       "  </thead>\n",
       "  <tbody>\n",
       "    <tr>\n",
       "      <th>0</th>\n",
       "      <td>Puszka 0,33l dzięki Christoph . Kolor jasnozło...</td>\n",
       "      <td>0.264435</td>\n",
       "    </tr>\n",
       "    <tr>\n",
       "      <th>1</th>\n",
       "      <td>Cerveza pale lager gabonesa. MÃ¡s floja que la...</td>\n",
       "      <td>-0.433727</td>\n",
       "    </tr>\n",
       "    <tr>\n",
       "      <th>2</th>\n",
       "      <td>Kolor- złoty, klarowny. Piana - drobna, średni...</td>\n",
       "      <td>0.146698</td>\n",
       "    </tr>\n",
       "    <tr>\n",
       "      <th>3</th>\n",
       "      <td>Botella, de GabÃ³n regalo familiar.31/01/2015C...</td>\n",
       "      <td>-0.067261</td>\n",
       "    </tr>\n",
       "    <tr>\n",
       "      <th>4</th>\n",
       "      <td>Many thanks for this beer to Erzengel. Pours l...</td>\n",
       "      <td>0.842057</td>\n",
       "    </tr>\n",
       "    <tr>\n",
       "      <th>...</th>\n",
       "      <td>...</td>\n",
       "      <td>...</td>\n",
       "    </tr>\n",
       "    <tr>\n",
       "      <th>5995</th>\n",
       "      <td>How: Bottle Apperance: Clear yellow. Aroma: fl...</td>\n",
       "      <td>-0.140594</td>\n",
       "    </tr>\n",
       "    <tr>\n",
       "      <th>5996</th>\n",
       "      <td>Typical international lager. Weak aroma with s...</td>\n",
       "      <td>-0.067390</td>\n",
       "    </tr>\n",
       "    <tr>\n",
       "      <th>5997</th>\n",
       "      <td>Een pilsbier dat heel goudblond eruitziet als ...</td>\n",
       "      <td>-0.259747</td>\n",
       "    </tr>\n",
       "    <tr>\n",
       "      <th>5998</th>\n",
       "      <td>Clear golden, huge frothy white head. Grainy, ...</td>\n",
       "      <td>0.315399</td>\n",
       "    </tr>\n",
       "    <tr>\n",
       "      <th>5999</th>\n",
       "      <td>Average Lager. Clear and golden color. Minimal...</td>\n",
       "      <td>-0.055983</td>\n",
       "    </tr>\n",
       "  </tbody>\n",
       "</table>\n",
       "<p>6000 rows × 2 columns</p>\n",
       "</div>"
      ]
     },
     "execution_count": 32,
     "metadata": {},
     "output_type": "execute_result"
    }
   ],
   "execution_count": 32
  },
  {
   "metadata": {
    "ExecuteTime": {
     "end_time": "2024-11-21T12:04:11.225867Z",
     "start_time": "2024-11-21T12:04:11.224621Z"
    }
   },
   "cell_type": "code",
   "source": "",
   "id": "421b0bd677479275",
   "outputs": [],
   "execution_count": null
  }
 ],
 "metadata": {
  "kernelspec": {
   "display_name": "Python 3",
   "language": "python",
   "name": "python3"
  },
  "language_info": {
   "codemirror_mode": {
    "name": "ipython",
    "version": 2
   },
   "file_extension": ".py",
   "mimetype": "text/x-python",
   "name": "python",
   "nbconvert_exporter": "python",
   "pygments_lexer": "ipython2",
   "version": "2.7.6"
  }
 },
 "nbformat": 4,
 "nbformat_minor": 5
}
