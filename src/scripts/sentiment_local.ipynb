{
 "cells": [
  {
   "cell_type": "code",
   "id": "initial_id",
   "metadata": {
    "collapsed": true
   },
   "source": [
    "import torch\n",
    "from torch.utils.data import DataLoader, Dataset\n",
    "from transformers import AutoModelForSequenceClassification, AutoTokenizer\n",
    "from multiprocessing import Pool\n",
    "import pandas as pd"
   ],
   "outputs": [],
   "execution_count": null
  },
  {
   "metadata": {},
   "cell_type": "code",
   "source": [
    "output_file_path = '../data/beer_reviews_text.csv'\n",
    "\n",
    "num_rows= 600\n",
    "\n",
    "df = pd.read_csv(output_file_path, nrows=num_rows)\n",
    "df.head()"
   ],
   "id": "dbf08bbc91758891",
   "outputs": [],
   "execution_count": null
  },
  {
   "metadata": {},
   "cell_type": "code",
   "source": [
    "class SentimentAnalysisModel:\n",
    "    def __init__(self, model_path='multilingual-sentiment', weights=None):\n",
    "        if weights is not None:\n",
    "            self.weights = weights\n",
    "        else:\n",
    "            self.weights = torch.tensor([[-1, -0.5, 0, 0.5, 1]]).unsqueeze(0).unsqueeze(-1)\n",
    "        self.model = AutoModelForSequenceClassification.from_pretrained(model_path).to(\"mps\")\n",
    "        self.tokenizer = AutoTokenizer.from_pretrained(model_path)\n",
    "\n",
    "    def forward(self, **inputs):\n",
    "        \"\"\"\n",
    "        Calculate sentiment score ranging from -1 to 1.\n",
    "        \"\"\"\n",
    "        with torch.no_grad():\n",
    "            outputs = self.model(**inputs)\n",
    "        predictions = outputs.logits\n",
    "        probabilities = torch.softmax(predictions, dim=-1)\n",
    "        sentiment_score = torch.matmul(probabilities, self.weights).squeeze()\n",
    "        return sentiment_score.cpu()  # Move back to CPU for further processing\n",
    "\n",
    "sentiment_model = SentimentAnalysisModel(model_path=\"../models/sentiment_model_1\")\n",
    "\n",
    "# Define dataset class for DataLoader\n",
    "class CommentsDataset(Dataset):\n",
    "    def __init__(self, comments):\n",
    "        self.comments = comments\n",
    "\n",
    "    def __len__(self):\n",
    "        return len(self.comments)\n",
    "\n",
    "    def __getitem__(self, idx):\n",
    "        return self.comments[idx]\n",
    "\n",
    "def process_batch(batch):\n",
    "    \"\"\"\n",
    "    Tokenize a batch of comments and compute sentiment scores.\n",
    "    \"\"\"\n",
    "    tokenized_batch = sentiment_model.tokenizer(\n",
    "        batch,\n",
    "        return_tensors=\"pt\",\n",
    "        padding=True,\n",
    "        truncation=True,\n",
    "        max_length=512\n",
    "    )\n",
    "    tokenized_batch = {key: val.to(\"mps\") for key, val in tokenized_batch.items()}\n",
    "    with torch.no_grad():\n",
    "        scores = sentiment_model.forward(**tokenized_batch)\n",
    "    return scores.tolist()\n",
    "\n",
    "batch_size = 50\n",
    "dataset = CommentsDataset(df.iloc[:, 0].astype(str).tolist())\n",
    "data_loader = DataLoader(dataset, batch_size=batch_size, shuffle=False)\n",
    "\n",
    "# Process batches in parallel\n",
    "def process_all_batches(data_loader):\n",
    "    all_scores = []\n",
    "    for batch in data_loader:\n",
    "        batch_scores = process_batch(batch)\n",
    "        all_scores.extend(batch_scores)\n",
    "    return all_scores\n",
    "\n",
    "df[\"sentiment_bert\"] = process_all_batches(data_loader)\n"
   ],
   "id": "1d60730518592000",
   "outputs": [],
   "execution_count": null
  },
  {
   "metadata": {},
   "cell_type": "code",
   "source": "print(df)",
   "id": "9eb71424ee159392",
   "outputs": [],
   "execution_count": null
  },
  {
   "metadata": {},
   "cell_type": "code",
   "source": "",
   "id": "9a09197f7886995f",
   "outputs": [],
   "execution_count": null
  }
 ],
 "metadata": {
  "kernelspec": {
   "display_name": "Python 3",
   "language": "python",
   "name": "python3"
  },
  "language_info": {
   "codemirror_mode": {
    "name": "ipython",
    "version": 2
   },
   "file_extension": ".py",
   "mimetype": "text/x-python",
   "name": "python",
   "nbconvert_exporter": "python",
   "pygments_lexer": "ipython2",
   "version": "2.7.6"
  }
 },
 "nbformat": 4,
 "nbformat_minor": 5
}
