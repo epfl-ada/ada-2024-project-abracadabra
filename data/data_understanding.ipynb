{
 "cells": [
  {
   "cell_type": "code",
   "execution_count": 1,
   "metadata": {},
   "outputs": [],
   "source": [
    "import pandas as pd\n",
    "import os\n",
    "from pathlib import Path"
   ]
  },
  {
   "cell_type": "code",
   "execution_count": 2,
   "metadata": {},
   "outputs": [],
   "source": [
    "root = Path(os.getcwd()).parent.parent\n",
    "\n",
    "#Change for each one of where your data is. For me in Dataset I have all the three folders\n",
    "parent_directory = os.path.dirname(root)\n",
    "dataset_path = os.path.join(root,'Dataset')\n",
    "\n",
    "ADVOCATE = \"advocate\"\n",
    "RATEBEER = \"ratebeer\"\n",
    "MATCHED = \"matched\"\n",
    "\n",
    "ADVOCATE_PATH = os.path.join(dataset_path,ADVOCATE)\n",
    "RATEBEER_PATH = os.path.join(dataset_path,RATEBEER)\n",
    "MATCHED_PATH = os.path.join(dataset_path,MATCHED)"
   ]
  },
  {
   "cell_type": "markdown",
   "metadata": {},
   "source": [
    "**Understanding the difference between the three datasets**\n",
    "\n",
    "We use the breweries dataset first as it is smallest to understand how it was build"
   ]
  },
  {
   "cell_type": "code",
   "execution_count": 3,
   "metadata": {},
   "outputs": [
    {
     "name": "stdout",
     "output_type": "stream",
     "text": [
      "Length of the three datasets:\n",
      "-advocate: 16758 \n",
      "-matched: 8281 \n",
      "-ratebeer: 24189\n"
     ]
    }
   ],
   "source": [
    "breweries_advocate = pd.read_csv(os.path.join(ADVOCATE_PATH,'breweries.csv'))\n",
    "breweries_matched = pd.read_csv(os.path.join(MATCHED_PATH,'breweries.csv'),header=1)\n",
    "breweries_ratebeer = pd.read_csv(os.path.join(RATEBEER_PATH,'breweries.csv'))\n",
    "\n",
    "print(\"Length of the three datasets:\\n-advocate:\",len(breweries_advocate),\"\\n-matched:\", len(breweries_matched),\"\\n-ratebeer:\", len(breweries_ratebeer))"
   ]
  },
  {
   "cell_type": "code",
   "execution_count": 4,
   "metadata": {},
   "outputs": [
    {
     "data": {
      "text/html": [
       "<div>\n",
       "<style scoped>\n",
       "    .dataframe tbody tr th:only-of-type {\n",
       "        vertical-align: middle;\n",
       "    }\n",
       "\n",
       "    .dataframe tbody tr th {\n",
       "        vertical-align: top;\n",
       "    }\n",
       "\n",
       "    .dataframe thead th {\n",
       "        text-align: right;\n",
       "    }\n",
       "</style>\n",
       "<table border=\"1\" class=\"dataframe\">\n",
       "  <thead>\n",
       "    <tr style=\"text-align: right;\">\n",
       "      <th></th>\n",
       "      <th>id</th>\n",
       "      <th>location</th>\n",
       "      <th>name</th>\n",
       "      <th>nbr_beers</th>\n",
       "      <th>id.1</th>\n",
       "      <th>location.1</th>\n",
       "      <th>name.1</th>\n",
       "      <th>nbr_beers.1</th>\n",
       "      <th>diff</th>\n",
       "      <th>sim</th>\n",
       "    </tr>\n",
       "  </thead>\n",
       "  <tbody>\n",
       "    <tr>\n",
       "      <th>0</th>\n",
       "      <td>10093</td>\n",
       "      <td>Northern Ireland</td>\n",
       "      <td>Strangford Lough Brewing Company Ltd</td>\n",
       "      <td>5</td>\n",
       "      <td>4959</td>\n",
       "      <td>Northern Ireland</td>\n",
       "      <td>Strangford Lough</td>\n",
       "      <td>5</td>\n",
       "      <td>0.431275</td>\n",
       "      <td>0.889062</td>\n",
       "    </tr>\n",
       "    <tr>\n",
       "      <th>1</th>\n",
       "      <td>32848</td>\n",
       "      <td>Northern Ireland</td>\n",
       "      <td>The Sheelin Brewery</td>\n",
       "      <td>4</td>\n",
       "      <td>17616</td>\n",
       "      <td>Northern Ireland</td>\n",
       "      <td>Sheelin</td>\n",
       "      <td>2</td>\n",
       "      <td>0.526388</td>\n",
       "      <td>0.863596</td>\n",
       "    </tr>\n",
       "    <tr>\n",
       "      <th>2</th>\n",
       "      <td>40360</td>\n",
       "      <td>Northern Ireland</td>\n",
       "      <td>Walled City Brewing Company</td>\n",
       "      <td>6</td>\n",
       "      <td>24866</td>\n",
       "      <td>Northern Ireland</td>\n",
       "      <td>Walled City</td>\n",
       "      <td>3</td>\n",
       "      <td>0.527852</td>\n",
       "      <td>0.954183</td>\n",
       "    </tr>\n",
       "    <tr>\n",
       "      <th>3</th>\n",
       "      <td>40309</td>\n",
       "      <td>Northern Ireland</td>\n",
       "      <td>Ards Brewing Company</td>\n",
       "      <td>7</td>\n",
       "      <td>13538</td>\n",
       "      <td>Northern Ireland</td>\n",
       "      <td>Ards Brewing Co.</td>\n",
       "      <td>13</td>\n",
       "      <td>0.554395</td>\n",
       "      <td>0.896098</td>\n",
       "    </tr>\n",
       "    <tr>\n",
       "      <th>4</th>\n",
       "      <td>41205</td>\n",
       "      <td>Northern Ireland</td>\n",
       "      <td>Barrahooley Brewery</td>\n",
       "      <td>3</td>\n",
       "      <td>22304</td>\n",
       "      <td>Northern Ireland</td>\n",
       "      <td>Barrahooley Craft Brewery</td>\n",
       "      <td>4</td>\n",
       "      <td>0.602544</td>\n",
       "      <td>0.896205</td>\n",
       "    </tr>\n",
       "    <tr>\n",
       "      <th>5</th>\n",
       "      <td>45082</td>\n",
       "      <td>Northern Ireland</td>\n",
       "      <td>Bullhouse Brewing Company</td>\n",
       "      <td>6</td>\n",
       "      <td>27006</td>\n",
       "      <td>Northern Ireland</td>\n",
       "      <td>Bullhouse Brewing Company</td>\n",
       "      <td>6</td>\n",
       "      <td>0.658297</td>\n",
       "      <td>1.000000</td>\n",
       "    </tr>\n",
       "    <tr>\n",
       "      <th>6</th>\n",
       "      <td>19223</td>\n",
       "      <td>Northern Ireland</td>\n",
       "      <td>Clanconnel Brewing Company</td>\n",
       "      <td>6</td>\n",
       "      <td>12090</td>\n",
       "      <td>Northern Ireland</td>\n",
       "      <td>Clanconnel</td>\n",
       "      <td>7</td>\n",
       "      <td>0.598105</td>\n",
       "      <td>0.939808</td>\n",
       "    </tr>\n",
       "    <tr>\n",
       "      <th>7</th>\n",
       "      <td>35512</td>\n",
       "      <td>Northern Ireland</td>\n",
       "      <td>Clearsky Brewing Co.</td>\n",
       "      <td>2</td>\n",
       "      <td>18096</td>\n",
       "      <td>Northern Ireland</td>\n",
       "      <td>Clearsky</td>\n",
       "      <td>3</td>\n",
       "      <td>0.474283</td>\n",
       "      <td>0.903298</td>\n",
       "    </tr>\n",
       "    <tr>\n",
       "      <th>8</th>\n",
       "      <td>36583</td>\n",
       "      <td>Northern Ireland</td>\n",
       "      <td>Farmageddon Brewing Co-op</td>\n",
       "      <td>22</td>\n",
       "      <td>19507</td>\n",
       "      <td>Northern Ireland</td>\n",
       "      <td>Farmageddon Brewing Co-Op</td>\n",
       "      <td>23</td>\n",
       "      <td>0.439740</td>\n",
       "      <td>1.000000</td>\n",
       "    </tr>\n",
       "    <tr>\n",
       "      <th>9</th>\n",
       "      <td>40310</td>\n",
       "      <td>Northern Ireland</td>\n",
       "      <td>Glens of Antrim Ale</td>\n",
       "      <td>4</td>\n",
       "      <td>21530</td>\n",
       "      <td>Northern Ireland</td>\n",
       "      <td>Glens of Antrim</td>\n",
       "      <td>3</td>\n",
       "      <td>0.555796</td>\n",
       "      <td>0.933282</td>\n",
       "    </tr>\n",
       "  </tbody>\n",
       "</table>\n",
       "</div>"
      ],
      "text/plain": [
       "      id          location                                  name  nbr_beers  \\\n",
       "0  10093  Northern Ireland  Strangford Lough Brewing Company Ltd          5   \n",
       "1  32848  Northern Ireland                   The Sheelin Brewery          4   \n",
       "2  40360  Northern Ireland           Walled City Brewing Company          6   \n",
       "3  40309  Northern Ireland                  Ards Brewing Company          7   \n",
       "4  41205  Northern Ireland                   Barrahooley Brewery          3   \n",
       "5  45082  Northern Ireland             Bullhouse Brewing Company          6   \n",
       "6  19223  Northern Ireland            Clanconnel Brewing Company          6   \n",
       "7  35512  Northern Ireland                  Clearsky Brewing Co.          2   \n",
       "8  36583  Northern Ireland             Farmageddon Brewing Co-op         22   \n",
       "9  40310  Northern Ireland                   Glens of Antrim Ale          4   \n",
       "\n",
       "    id.1        location.1                     name.1  nbr_beers.1      diff  \\\n",
       "0   4959  Northern Ireland           Strangford Lough            5  0.431275   \n",
       "1  17616  Northern Ireland                    Sheelin            2  0.526388   \n",
       "2  24866  Northern Ireland                Walled City            3  0.527852   \n",
       "3  13538  Northern Ireland           Ards Brewing Co.           13  0.554395   \n",
       "4  22304  Northern Ireland  Barrahooley Craft Brewery            4  0.602544   \n",
       "5  27006  Northern Ireland  Bullhouse Brewing Company            6  0.658297   \n",
       "6  12090  Northern Ireland                 Clanconnel            7  0.598105   \n",
       "7  18096  Northern Ireland                   Clearsky            3  0.474283   \n",
       "8  19507  Northern Ireland  Farmageddon Brewing Co-Op           23  0.439740   \n",
       "9  21530  Northern Ireland            Glens of Antrim            3  0.555796   \n",
       "\n",
       "        sim  \n",
       "0  0.889062  \n",
       "1  0.863596  \n",
       "2  0.954183  \n",
       "3  0.896098  \n",
       "4  0.896205  \n",
       "5  1.000000  \n",
       "6  0.939808  \n",
       "7  0.903298  \n",
       "8  1.000000  \n",
       "9  0.933282  "
      ]
     },
     "execution_count": 4,
     "metadata": {},
     "output_type": "execute_result"
    }
   ],
   "source": [
    "breweries_matched.head(10)"
   ]
  },
  {
   "cell_type": "markdown",
   "metadata": {},
   "source": [
    "Do a special case for a certain value to make sure we understand what is hapening"
   ]
  },
  {
   "cell_type": "code",
   "execution_count": 5,
   "metadata": {},
   "outputs": [
    {
     "name": "stdout",
     "output_type": "stream",
     "text": [
      "id                              41217\n",
      "location                       Canada\n",
      "name           Wheelhouse Brewing Co.\n",
      "nbr_beers                           1\n",
      "id.1                            18583\n",
      "location.1                     Canada\n",
      "name.1             Wheelhouse Brewing\n",
      "nbr_beers.1                        12\n",
      "diff                          0.49904\n",
      "sim                          0.928055\n",
      "Name: 1000, dtype: object\n",
      "41217\n",
      "18583\n"
     ]
    }
   ],
   "source": [
    "N = 1000\n",
    "print(breweries_matched.iloc[N])\n",
    "print(breweries_matched.iloc[N].id)\n",
    "print(breweries_matched.iloc[N][\"id.1\"])"
   ]
  },
  {
   "cell_type": "code",
   "execution_count": 6,
   "metadata": {},
   "outputs": [
    {
     "data": {
      "text/html": [
       "<div>\n",
       "<style scoped>\n",
       "    .dataframe tbody tr th:only-of-type {\n",
       "        vertical-align: middle;\n",
       "    }\n",
       "\n",
       "    .dataframe tbody tr th {\n",
       "        vertical-align: top;\n",
       "    }\n",
       "\n",
       "    .dataframe thead th {\n",
       "        text-align: right;\n",
       "    }\n",
       "</style>\n",
       "<table border=\"1\" class=\"dataframe\">\n",
       "  <thead>\n",
       "    <tr style=\"text-align: right;\">\n",
       "      <th></th>\n",
       "      <th>id</th>\n",
       "      <th>location</th>\n",
       "      <th>name</th>\n",
       "      <th>nbr_beers</th>\n",
       "    </tr>\n",
       "  </thead>\n",
       "  <tbody>\n",
       "    <tr>\n",
       "      <th>2120</th>\n",
       "      <td>41217</td>\n",
       "      <td>Canada</td>\n",
       "      <td>Wheelhouse Brewing Co.</td>\n",
       "      <td>1</td>\n",
       "    </tr>\n",
       "  </tbody>\n",
       "</table>\n",
       "</div>"
      ],
      "text/plain": [
       "         id location                    name  nbr_beers\n",
       "2120  41217   Canada  Wheelhouse Brewing Co.          1"
      ]
     },
     "execution_count": 6,
     "metadata": {},
     "output_type": "execute_result"
    }
   ],
   "source": [
    "breweries_advocate[breweries_advocate.id==breweries_matched.iloc[N].id].head()"
   ]
  },
  {
   "cell_type": "code",
   "execution_count": 7,
   "metadata": {},
   "outputs": [
    {
     "data": {
      "text/html": [
       "<div>\n",
       "<style scoped>\n",
       "    .dataframe tbody tr th:only-of-type {\n",
       "        vertical-align: middle;\n",
       "    }\n",
       "\n",
       "    .dataframe tbody tr th {\n",
       "        vertical-align: top;\n",
       "    }\n",
       "\n",
       "    .dataframe thead th {\n",
       "        text-align: right;\n",
       "    }\n",
       "</style>\n",
       "<table border=\"1\" class=\"dataframe\">\n",
       "  <thead>\n",
       "    <tr style=\"text-align: right;\">\n",
       "      <th></th>\n",
       "      <th>id</th>\n",
       "      <th>location</th>\n",
       "      <th>name</th>\n",
       "      <th>nbr_beers</th>\n",
       "    </tr>\n",
       "  </thead>\n",
       "  <tbody>\n",
       "    <tr>\n",
       "      <th>1468</th>\n",
       "      <td>18583</td>\n",
       "      <td>Canada</td>\n",
       "      <td>Wheelhouse Brewing</td>\n",
       "      <td>12</td>\n",
       "    </tr>\n",
       "  </tbody>\n",
       "</table>\n",
       "</div>"
      ],
      "text/plain": [
       "         id location                name  nbr_beers\n",
       "1468  18583   Canada  Wheelhouse Brewing         12"
      ]
     },
     "execution_count": 7,
     "metadata": {},
     "output_type": "execute_result"
    }
   ],
   "source": [
    "breweries_ratebeer[breweries_ratebeer.id==breweries_matched.iloc[N][\"id.1\"]].head()"
   ]
  },
  {
   "cell_type": "markdown",
   "metadata": {},
   "source": [
    "The names differ but those are the same breweries. Let's see what are the beers that differ from it. We will look at the different beers of the beers of this N value."
   ]
  },
  {
   "cell_type": "code",
   "execution_count": 8,
   "metadata": {},
   "outputs": [
    {
     "name": "stdout",
     "output_type": "stream",
     "text": [
      "Length of the three datasets:\n",
      "-advocate: 280823 \n",
      "-matched: 45640 \n",
      "-ratebeer: 442081\n"
     ]
    }
   ],
   "source": [
    "beers_advocate = pd.read_csv(os.path.join(ADVOCATE_PATH,'beers.csv'))\n",
    "beers_matched = pd.read_csv(os.path.join(MATCHED_PATH,'beers.csv'),header=1)\n",
    "beers_ratebeer = pd.read_csv(os.path.join(RATEBEER_PATH,'beers.csv'))\n",
    "\n",
    "print(\"Length of the three datasets:\\n-advocate:\",len(beers_advocate),\"\\n-matched:\", len(beers_matched),\"\\n-ratebeer:\", len(beers_ratebeer))"
   ]
  },
  {
   "cell_type": "code",
   "execution_count": 9,
   "metadata": {},
   "outputs": [
    {
     "name": "stdout",
     "output_type": "stream",
     "text": [
      "Index(['abv', 'avg', 'avg_computed', 'avg_matched_valid_ratings', 'ba_score',\n",
      "       'beer_id', 'beer_name', 'beer_wout_brewery_name', 'brewery_id',\n",
      "       'brewery_name', 'bros_score', 'nbr_matched_valid_ratings',\n",
      "       'nbr_ratings', 'nbr_reviews', 'style', 'zscore', 'abv.1', 'avg.1',\n",
      "       'avg_computed.1', 'avg_matched_valid_ratings.1', 'beer_id.1',\n",
      "       'beer_name.1', 'beer_wout_brewery_name.1', 'brewery_id.1',\n",
      "       'brewery_name.1', 'nbr_matched_valid_ratings.1', 'nbr_ratings.1',\n",
      "       'overall_score', 'style.1', 'style_score', 'zscore.1', 'diff', 'sim'],\n",
      "      dtype='object')\n"
     ]
    }
   ],
   "source": [
    "print(beers_matched.columns)"
   ]
  },
  {
   "cell_type": "code",
   "execution_count": 10,
   "metadata": {},
   "outputs": [
    {
     "data": {
      "text/html": [
       "<div>\n",
       "<style scoped>\n",
       "    .dataframe tbody tr th:only-of-type {\n",
       "        vertical-align: middle;\n",
       "    }\n",
       "\n",
       "    .dataframe tbody tr th {\n",
       "        vertical-align: top;\n",
       "    }\n",
       "\n",
       "    .dataframe thead th {\n",
       "        text-align: right;\n",
       "    }\n",
       "</style>\n",
       "<table border=\"1\" class=\"dataframe\">\n",
       "  <thead>\n",
       "    <tr style=\"text-align: right;\">\n",
       "      <th></th>\n",
       "      <th>abv</th>\n",
       "      <th>avg</th>\n",
       "      <th>avg_computed</th>\n",
       "      <th>avg_matched_valid_ratings</th>\n",
       "      <th>ba_score</th>\n",
       "      <th>beer_id</th>\n",
       "      <th>beer_name</th>\n",
       "      <th>beer_wout_brewery_name</th>\n",
       "      <th>brewery_id</th>\n",
       "      <th>brewery_name</th>\n",
       "      <th>...</th>\n",
       "      <th>brewery_id.1</th>\n",
       "      <th>brewery_name.1</th>\n",
       "      <th>nbr_matched_valid_ratings.1</th>\n",
       "      <th>nbr_ratings.1</th>\n",
       "      <th>overall_score</th>\n",
       "      <th>style.1</th>\n",
       "      <th>style_score</th>\n",
       "      <th>zscore.1</th>\n",
       "      <th>diff</th>\n",
       "      <th>sim</th>\n",
       "    </tr>\n",
       "  </thead>\n",
       "  <tbody>\n",
       "    <tr>\n",
       "      <th>5005</th>\n",
       "      <td>5.3</td>\n",
       "      <td>3.46</td>\n",
       "      <td>3.46</td>\n",
       "      <td>3.46</td>\n",
       "      <td>NaN</td>\n",
       "      <td>281481</td>\n",
       "      <td>Flagship Pale Ale</td>\n",
       "      <td>Flagship Pale Ale</td>\n",
       "      <td>41217</td>\n",
       "      <td>Wheelhouse Brewing Co.</td>\n",
       "      <td>...</td>\n",
       "      <td>18583</td>\n",
       "      <td>Wheelhouse Brewing</td>\n",
       "      <td>3</td>\n",
       "      <td>3</td>\n",
       "      <td>NaN</td>\n",
       "      <td>American Pale Ale</td>\n",
       "      <td>NaN</td>\n",
       "      <td>-0.430073</td>\n",
       "      <td>0.776539</td>\n",
       "      <td>1.0</td>\n",
       "    </tr>\n",
       "  </tbody>\n",
       "</table>\n",
       "<p>1 rows × 33 columns</p>\n",
       "</div>"
      ],
      "text/plain": [
       "      abv   avg  avg_computed  avg_matched_valid_ratings  ba_score  beer_id  \\\n",
       "5005  5.3  3.46          3.46                       3.46       NaN   281481   \n",
       "\n",
       "              beer_name beer_wout_brewery_name  brewery_id  \\\n",
       "5005  Flagship Pale Ale      Flagship Pale Ale       41217   \n",
       "\n",
       "                brewery_name  ...  brewery_id.1      brewery_name.1  \\\n",
       "5005  Wheelhouse Brewing Co.  ...         18583  Wheelhouse Brewing   \n",
       "\n",
       "      nbr_matched_valid_ratings.1  nbr_ratings.1 overall_score  \\\n",
       "5005                            3              3           NaN   \n",
       "\n",
       "                style.1  style_score  zscore.1      diff  sim  \n",
       "5005  American Pale Ale          NaN -0.430073  0.776539  1.0  \n",
       "\n",
       "[1 rows x 33 columns]"
      ]
     },
     "execution_count": 10,
     "metadata": {},
     "output_type": "execute_result"
    }
   ],
   "source": [
    "beers_matched[beers_matched.brewery_id==breweries_matched.iloc[N].id]"
   ]
  },
  {
   "cell_type": "code",
   "execution_count": 11,
   "metadata": {},
   "outputs": [
    {
     "name": "stdout",
     "output_type": "stream",
     "text": [
      "5005    Flagship Pale Ale\n",
      "Name: beer_name, dtype: object\n",
      "5005    Wheelhouse Flagship Pale Ale\n",
      "Name: beer_name.1, dtype: object\n"
     ]
    }
   ],
   "source": [
    "\n",
    "print(beers_matched[beers_matched.brewery_id==breweries_matched.iloc[N].id].beer_name)\n",
    "print(beers_matched[beers_matched.brewery_id==breweries_matched.iloc[N].id][\"beer_name.1\"])"
   ]
  },
  {
   "cell_type": "code",
   "execution_count": 12,
   "metadata": {},
   "outputs": [
    {
     "data": {
      "text/html": [
       "<div>\n",
       "<style scoped>\n",
       "    .dataframe tbody tr th:only-of-type {\n",
       "        vertical-align: middle;\n",
       "    }\n",
       "\n",
       "    .dataframe tbody tr th {\n",
       "        vertical-align: top;\n",
       "    }\n",
       "\n",
       "    .dataframe thead th {\n",
       "        text-align: right;\n",
       "    }\n",
       "</style>\n",
       "<table border=\"1\" class=\"dataframe\">\n",
       "  <thead>\n",
       "    <tr style=\"text-align: right;\">\n",
       "      <th></th>\n",
       "      <th>beer_id</th>\n",
       "      <th>beer_name</th>\n",
       "      <th>brewery_id</th>\n",
       "      <th>brewery_name</th>\n",
       "      <th>style</th>\n",
       "      <th>nbr_ratings</th>\n",
       "      <th>overall_score</th>\n",
       "      <th>style_score</th>\n",
       "      <th>avg</th>\n",
       "      <th>abv</th>\n",
       "      <th>avg_computed</th>\n",
       "      <th>zscore</th>\n",
       "      <th>nbr_matched_valid_ratings</th>\n",
       "      <th>avg_matched_valid_ratings</th>\n",
       "    </tr>\n",
       "  </thead>\n",
       "  <tbody>\n",
       "    <tr>\n",
       "      <th>22457</th>\n",
       "      <td>314963</td>\n",
       "      <td>Wheelhouse / Three Ranges Yellowhead Imperial Red</td>\n",
       "      <td>18583</td>\n",
       "      <td>Wheelhouse Brewing</td>\n",
       "      <td>American Strong Ale</td>\n",
       "      <td>0</td>\n",
       "      <td>NaN</td>\n",
       "      <td>NaN</td>\n",
       "      <td>NaN</td>\n",
       "      <td>8.0</td>\n",
       "      <td>NaN</td>\n",
       "      <td>NaN</td>\n",
       "      <td>0</td>\n",
       "      <td>NaN</td>\n",
       "    </tr>\n",
       "    <tr>\n",
       "      <th>22458</th>\n",
       "      <td>372420</td>\n",
       "      <td>Wheelhouse / Yellow Dog First Mate White IPA</td>\n",
       "      <td>18583</td>\n",
       "      <td>Wheelhouse Brewing</td>\n",
       "      <td>India Pale Ale (IPA)</td>\n",
       "      <td>1</td>\n",
       "      <td>NaN</td>\n",
       "      <td>NaN</td>\n",
       "      <td>2.92</td>\n",
       "      <td>NaN</td>\n",
       "      <td>2.900000</td>\n",
       "      <td>NaN</td>\n",
       "      <td>0</td>\n",
       "      <td>NaN</td>\n",
       "    </tr>\n",
       "    <tr>\n",
       "      <th>22459</th>\n",
       "      <td>246707</td>\n",
       "      <td>Wheelhouse Blacksmith Brown Ale</td>\n",
       "      <td>18583</td>\n",
       "      <td>Wheelhouse Brewing</td>\n",
       "      <td>Brown Ale</td>\n",
       "      <td>2</td>\n",
       "      <td>NaN</td>\n",
       "      <td>NaN</td>\n",
       "      <td>3.11</td>\n",
       "      <td>NaN</td>\n",
       "      <td>3.450000</td>\n",
       "      <td>NaN</td>\n",
       "      <td>0</td>\n",
       "      <td>NaN</td>\n",
       "    </tr>\n",
       "    <tr>\n",
       "      <th>22460</th>\n",
       "      <td>448321</td>\n",
       "      <td>Wheelhouse Divide Rides Shred Red</td>\n",
       "      <td>18583</td>\n",
       "      <td>Wheelhouse Brewing</td>\n",
       "      <td>Amber Ale</td>\n",
       "      <td>1</td>\n",
       "      <td>NaN</td>\n",
       "      <td>NaN</td>\n",
       "      <td>2.83</td>\n",
       "      <td>NaN</td>\n",
       "      <td>2.500000</td>\n",
       "      <td>NaN</td>\n",
       "      <td>0</td>\n",
       "      <td>NaN</td>\n",
       "    </tr>\n",
       "    <tr>\n",
       "      <th>22461</th>\n",
       "      <td>246706</td>\n",
       "      <td>Wheelhouse Flagship Pale Ale</td>\n",
       "      <td>18583</td>\n",
       "      <td>Wheelhouse Brewing</td>\n",
       "      <td>American Pale Ale</td>\n",
       "      <td>3</td>\n",
       "      <td>NaN</td>\n",
       "      <td>NaN</td>\n",
       "      <td>3.04</td>\n",
       "      <td>5.3</td>\n",
       "      <td>3.200000</td>\n",
       "      <td>-0.430073</td>\n",
       "      <td>3</td>\n",
       "      <td>3.2</td>\n",
       "    </tr>\n",
       "    <tr>\n",
       "      <th>22462</th>\n",
       "      <td>246705</td>\n",
       "      <td>Wheelhouse Gillnetter Golden Ale</td>\n",
       "      <td>18583</td>\n",
       "      <td>Wheelhouse Brewing</td>\n",
       "      <td>Golden Ale/Blond Ale</td>\n",
       "      <td>3</td>\n",
       "      <td>NaN</td>\n",
       "      <td>NaN</td>\n",
       "      <td>2.81</td>\n",
       "      <td>4.8</td>\n",
       "      <td>2.666667</td>\n",
       "      <td>NaN</td>\n",
       "      <td>0</td>\n",
       "      <td>NaN</td>\n",
       "    </tr>\n",
       "    <tr>\n",
       "      <th>22463</th>\n",
       "      <td>329038</td>\n",
       "      <td>Wheelhouse Kazu Maru IPA</td>\n",
       "      <td>18583</td>\n",
       "      <td>Wheelhouse Brewing</td>\n",
       "      <td>India Pale Ale (IPA)</td>\n",
       "      <td>1</td>\n",
       "      <td>NaN</td>\n",
       "      <td>NaN</td>\n",
       "      <td>2.79</td>\n",
       "      <td>NaN</td>\n",
       "      <td>2.300000</td>\n",
       "      <td>NaN</td>\n",
       "      <td>0</td>\n",
       "      <td>NaN</td>\n",
       "    </tr>\n",
       "    <tr>\n",
       "      <th>22464</th>\n",
       "      <td>448322</td>\n",
       "      <td>Wheelhouse Northern Berry Saison</td>\n",
       "      <td>18583</td>\n",
       "      <td>Wheelhouse Brewing</td>\n",
       "      <td>Saison</td>\n",
       "      <td>1</td>\n",
       "      <td>NaN</td>\n",
       "      <td>NaN</td>\n",
       "      <td>2.83</td>\n",
       "      <td>NaN</td>\n",
       "      <td>2.500000</td>\n",
       "      <td>NaN</td>\n",
       "      <td>0</td>\n",
       "      <td>NaN</td>\n",
       "    </tr>\n",
       "    <tr>\n",
       "      <th>22465</th>\n",
       "      <td>372412</td>\n",
       "      <td>Wheelhouse Scurvy Dog Spruce Tip</td>\n",
       "      <td>18583</td>\n",
       "      <td>Wheelhouse Brewing</td>\n",
       "      <td>Spice/Herb/Vegetable</td>\n",
       "      <td>2</td>\n",
       "      <td>NaN</td>\n",
       "      <td>NaN</td>\n",
       "      <td>3.05</td>\n",
       "      <td>5.3</td>\n",
       "      <td>3.300000</td>\n",
       "      <td>NaN</td>\n",
       "      <td>0</td>\n",
       "      <td>NaN</td>\n",
       "    </tr>\n",
       "    <tr>\n",
       "      <th>22466</th>\n",
       "      <td>372421</td>\n",
       "      <td>Wheelhouse Smoked Kolsch</td>\n",
       "      <td>18583</td>\n",
       "      <td>Wheelhouse Brewing</td>\n",
       "      <td>Smoked</td>\n",
       "      <td>2</td>\n",
       "      <td>NaN</td>\n",
       "      <td>NaN</td>\n",
       "      <td>3.05</td>\n",
       "      <td>5.3</td>\n",
       "      <td>3.300000</td>\n",
       "      <td>NaN</td>\n",
       "      <td>0</td>\n",
       "      <td>NaN</td>\n",
       "    </tr>\n",
       "    <tr>\n",
       "      <th>22467</th>\n",
       "      <td>418412</td>\n",
       "      <td>Wheelhouse Smokehouse Porter</td>\n",
       "      <td>18583</td>\n",
       "      <td>Wheelhouse Brewing</td>\n",
       "      <td>Porter</td>\n",
       "      <td>2</td>\n",
       "      <td>NaN</td>\n",
       "      <td>NaN</td>\n",
       "      <td>3.23</td>\n",
       "      <td>6.3</td>\n",
       "      <td>3.800000</td>\n",
       "      <td>NaN</td>\n",
       "      <td>0</td>\n",
       "      <td>NaN</td>\n",
       "    </tr>\n",
       "    <tr>\n",
       "      <th>22468</th>\n",
       "      <td>497953</td>\n",
       "      <td>Wheelhouse Vitamin Sea</td>\n",
       "      <td>18583</td>\n",
       "      <td>Wheelhouse Brewing</td>\n",
       "      <td>American Pale Ale</td>\n",
       "      <td>0</td>\n",
       "      <td>NaN</td>\n",
       "      <td>NaN</td>\n",
       "      <td>NaN</td>\n",
       "      <td>4.8</td>\n",
       "      <td>NaN</td>\n",
       "      <td>NaN</td>\n",
       "      <td>0</td>\n",
       "      <td>NaN</td>\n",
       "    </tr>\n",
       "  </tbody>\n",
       "</table>\n",
       "</div>"
      ],
      "text/plain": [
       "       beer_id                                          beer_name  brewery_id  \\\n",
       "22457   314963  Wheelhouse / Three Ranges Yellowhead Imperial Red       18583   \n",
       "22458   372420       Wheelhouse / Yellow Dog First Mate White IPA       18583   \n",
       "22459   246707                    Wheelhouse Blacksmith Brown Ale       18583   \n",
       "22460   448321                  Wheelhouse Divide Rides Shred Red       18583   \n",
       "22461   246706                       Wheelhouse Flagship Pale Ale       18583   \n",
       "22462   246705                   Wheelhouse Gillnetter Golden Ale       18583   \n",
       "22463   329038                           Wheelhouse Kazu Maru IPA       18583   \n",
       "22464   448322                   Wheelhouse Northern Berry Saison       18583   \n",
       "22465   372412                   Wheelhouse Scurvy Dog Spruce Tip       18583   \n",
       "22466   372421                           Wheelhouse Smoked Kolsch       18583   \n",
       "22467   418412                       Wheelhouse Smokehouse Porter       18583   \n",
       "22468   497953                             Wheelhouse Vitamin Sea       18583   \n",
       "\n",
       "             brewery_name                 style  nbr_ratings  overall_score  \\\n",
       "22457  Wheelhouse Brewing  American Strong Ale             0            NaN   \n",
       "22458  Wheelhouse Brewing  India Pale Ale (IPA)            1            NaN   \n",
       "22459  Wheelhouse Brewing             Brown Ale            2            NaN   \n",
       "22460  Wheelhouse Brewing             Amber Ale            1            NaN   \n",
       "22461  Wheelhouse Brewing     American Pale Ale            3            NaN   \n",
       "22462  Wheelhouse Brewing  Golden Ale/Blond Ale            3            NaN   \n",
       "22463  Wheelhouse Brewing  India Pale Ale (IPA)            1            NaN   \n",
       "22464  Wheelhouse Brewing                Saison            1            NaN   \n",
       "22465  Wheelhouse Brewing  Spice/Herb/Vegetable            2            NaN   \n",
       "22466  Wheelhouse Brewing                Smoked            2            NaN   \n",
       "22467  Wheelhouse Brewing                Porter            2            NaN   \n",
       "22468  Wheelhouse Brewing     American Pale Ale            0            NaN   \n",
       "\n",
       "       style_score   avg  abv  avg_computed    zscore  \\\n",
       "22457          NaN   NaN  8.0           NaN       NaN   \n",
       "22458          NaN  2.92  NaN      2.900000       NaN   \n",
       "22459          NaN  3.11  NaN      3.450000       NaN   \n",
       "22460          NaN  2.83  NaN      2.500000       NaN   \n",
       "22461          NaN  3.04  5.3      3.200000 -0.430073   \n",
       "22462          NaN  2.81  4.8      2.666667       NaN   \n",
       "22463          NaN  2.79  NaN      2.300000       NaN   \n",
       "22464          NaN  2.83  NaN      2.500000       NaN   \n",
       "22465          NaN  3.05  5.3      3.300000       NaN   \n",
       "22466          NaN  3.05  5.3      3.300000       NaN   \n",
       "22467          NaN  3.23  6.3      3.800000       NaN   \n",
       "22468          NaN   NaN  4.8           NaN       NaN   \n",
       "\n",
       "       nbr_matched_valid_ratings  avg_matched_valid_ratings  \n",
       "22457                          0                        NaN  \n",
       "22458                          0                        NaN  \n",
       "22459                          0                        NaN  \n",
       "22460                          0                        NaN  \n",
       "22461                          3                        3.2  \n",
       "22462                          0                        NaN  \n",
       "22463                          0                        NaN  \n",
       "22464                          0                        NaN  \n",
       "22465                          0                        NaN  \n",
       "22466                          0                        NaN  \n",
       "22467                          0                        NaN  \n",
       "22468                          0                        NaN  "
      ]
     },
     "execution_count": 12,
     "metadata": {},
     "output_type": "execute_result"
    }
   ],
   "source": [
    "beers_ratebeer[beers_ratebeer.brewery_id==breweries_matched.iloc[N][\"id.1\"]]"
   ]
  },
  {
   "cell_type": "code",
   "execution_count": 13,
   "metadata": {},
   "outputs": [
    {
     "data": {
      "text/html": [
       "<div>\n",
       "<style scoped>\n",
       "    .dataframe tbody tr th:only-of-type {\n",
       "        vertical-align: middle;\n",
       "    }\n",
       "\n",
       "    .dataframe tbody tr th {\n",
       "        vertical-align: top;\n",
       "    }\n",
       "\n",
       "    .dataframe thead th {\n",
       "        text-align: right;\n",
       "    }\n",
       "</style>\n",
       "<table border=\"1\" class=\"dataframe\">\n",
       "  <thead>\n",
       "    <tr style=\"text-align: right;\">\n",
       "      <th></th>\n",
       "      <th>beer_id</th>\n",
       "      <th>beer_name</th>\n",
       "      <th>brewery_id</th>\n",
       "      <th>brewery_name</th>\n",
       "      <th>style</th>\n",
       "      <th>nbr_ratings</th>\n",
       "      <th>nbr_reviews</th>\n",
       "      <th>avg</th>\n",
       "      <th>ba_score</th>\n",
       "      <th>bros_score</th>\n",
       "      <th>abv</th>\n",
       "      <th>avg_computed</th>\n",
       "      <th>zscore</th>\n",
       "      <th>nbr_matched_valid_ratings</th>\n",
       "      <th>avg_matched_valid_ratings</th>\n",
       "    </tr>\n",
       "  </thead>\n",
       "  <tbody>\n",
       "    <tr>\n",
       "      <th>23236</th>\n",
       "      <td>281481</td>\n",
       "      <td>Flagship Pale Ale</td>\n",
       "      <td>41217</td>\n",
       "      <td>Wheelhouse Brewing Co.</td>\n",
       "      <td>American Pale Ale (APA)</td>\n",
       "      <td>1</td>\n",
       "      <td>1</td>\n",
       "      <td>3.46</td>\n",
       "      <td>NaN</td>\n",
       "      <td>NaN</td>\n",
       "      <td>5.3</td>\n",
       "      <td>3.46</td>\n",
       "      <td>-1.202327</td>\n",
       "      <td>1</td>\n",
       "      <td>3.46</td>\n",
       "    </tr>\n",
       "  </tbody>\n",
       "</table>\n",
       "</div>"
      ],
      "text/plain": [
       "       beer_id          beer_name  brewery_id            brewery_name  \\\n",
       "23236   281481  Flagship Pale Ale       41217  Wheelhouse Brewing Co.   \n",
       "\n",
       "                         style  nbr_ratings  nbr_reviews   avg  ba_score  \\\n",
       "23236  American Pale Ale (APA)            1            1  3.46       NaN   \n",
       "\n",
       "       bros_score  abv  avg_computed    zscore  nbr_matched_valid_ratings  \\\n",
       "23236         NaN  5.3          3.46 -1.202327                          1   \n",
       "\n",
       "       avg_matched_valid_ratings  \n",
       "23236                       3.46  "
      ]
     },
     "execution_count": 13,
     "metadata": {},
     "output_type": "execute_result"
    }
   ],
   "source": [
    "beers_advocate[beers_advocate.brewery_id==breweries_matched.iloc[N][\"id\"]]"
   ]
  },
  {
   "cell_type": "markdown",
   "metadata": {},
   "source": [
    "So we see that the matched dataset contains the matched data between the two datasets it took care of issues like brewery name/beer name difference. Now let's see how many breweries we really have. However the matched dataset will tell us how many beers each dataset have, but we must check how many of those beers are matched etc..."
   ]
  },
  {
   "cell_type": "code",
   "execution_count": 14,
   "metadata": {},
   "outputs": [
    {
     "name": "stdout",
     "output_type": "stream",
     "text": [
      "Previous of the three datasets:\n",
      "-advocate: 16758 \n",
      "-matched: 8281 \n",
      "-ratebeer: 24189\n",
      "New length of of the three datasets:\n",
      "-advocate: 8477 \n",
      "-matched: 8281 \n",
      "-ratebeer: 15954\n",
      "The unique number of breweries is: 32712\n"
     ]
    }
   ],
   "source": [
    "breweries_ratebeer_solo = breweries_ratebeer[~breweries_ratebeer.id.isin(breweries_matched['id.1'])]\n",
    "breweries_advocate_solo = breweries_advocate[~breweries_advocate.id.isin(breweries_matched['id'])]\n",
    "\n",
    "\n",
    "total_len = len(breweries_advocate_solo) + len(breweries_ratebeer_solo) + len(breweries_matched)\n",
    "print(\"Previous of the three datasets:\\n-advocate:\",len(breweries_advocate),\"\\n-matched:\", len(breweries_matched),\"\\n-ratebeer:\", len(breweries_ratebeer))\n",
    "print(\"New length of of the three datasets:\\n-advocate:\",len(breweries_advocate_solo),\"\\n-matched:\", len(breweries_matched),\"\\n-ratebeer:\", len(breweries_ratebeer_solo))\n",
    "print(\"The unique number of breweries is:\", total_len)"
   ]
  },
  {
   "cell_type": "markdown",
   "metadata": {},
   "source": [
    "But 24189 -8281 = 15908 and not 15954. But every match has an id in ratebeer what is the issue?"
   ]
  },
  {
   "cell_type": "code",
   "execution_count": 15,
   "metadata": {},
   "outputs": [
    {
     "data": {
      "text/html": [
       "<div>\n",
       "<style scoped>\n",
       "    .dataframe tbody tr th:only-of-type {\n",
       "        vertical-align: middle;\n",
       "    }\n",
       "\n",
       "    .dataframe tbody tr th {\n",
       "        vertical-align: top;\n",
       "    }\n",
       "\n",
       "    .dataframe thead th {\n",
       "        text-align: right;\n",
       "    }\n",
       "</style>\n",
       "<table border=\"1\" class=\"dataframe\">\n",
       "  <thead>\n",
       "    <tr style=\"text-align: right;\">\n",
       "      <th></th>\n",
       "      <th>id</th>\n",
       "      <th>location</th>\n",
       "      <th>name</th>\n",
       "      <th>nbr_beers</th>\n",
       "    </tr>\n",
       "  </thead>\n",
       "  <tbody>\n",
       "  </tbody>\n",
       "</table>\n",
       "</div>"
      ],
      "text/plain": [
       "Empty DataFrame\n",
       "Columns: [id, location, name, nbr_beers]\n",
       "Index: []"
      ]
     },
     "execution_count": 15,
     "metadata": {},
     "output_type": "execute_result"
    }
   ],
   "source": [
    "breweries_ratebeer_solo_test = breweries_ratebeer[~breweries_ratebeer.id.isin(breweries_matched['id.1'])]\n",
    "test = breweries_ratebeer_solo_test[breweries_ratebeer_solo_test.id.isin(breweries_matched['id.1'])]\n",
    "test.head()"
   ]
  },
  {
   "cell_type": "code",
   "execution_count": 16,
   "metadata": {},
   "outputs": [
    {
     "data": {
      "text/html": [
       "<div>\n",
       "<style scoped>\n",
       "    .dataframe tbody tr th:only-of-type {\n",
       "        vertical-align: middle;\n",
       "    }\n",
       "\n",
       "    .dataframe tbody tr th {\n",
       "        vertical-align: top;\n",
       "    }\n",
       "\n",
       "    .dataframe thead th {\n",
       "        text-align: right;\n",
       "    }\n",
       "</style>\n",
       "<table border=\"1\" class=\"dataframe\">\n",
       "  <thead>\n",
       "    <tr style=\"text-align: right;\">\n",
       "      <th></th>\n",
       "      <th>id</th>\n",
       "      <th>location</th>\n",
       "      <th>name</th>\n",
       "      <th>nbr_beers</th>\n",
       "      <th>id.1</th>\n",
       "      <th>location.1</th>\n",
       "      <th>name.1</th>\n",
       "      <th>nbr_beers.1</th>\n",
       "      <th>diff</th>\n",
       "      <th>sim</th>\n",
       "    </tr>\n",
       "  </thead>\n",
       "  <tbody>\n",
       "    <tr>\n",
       "      <th>219</th>\n",
       "      <td>37180</td>\n",
       "      <td>England</td>\n",
       "      <td>Seven Bro7hers</td>\n",
       "      <td>4</td>\n",
       "      <td>20891</td>\n",
       "      <td>England</td>\n",
       "      <td>Seven Bro7hers</td>\n",
       "      <td>7</td>\n",
       "      <td>0.528802</td>\n",
       "      <td>1.000000</td>\n",
       "    </tr>\n",
       "    <tr>\n",
       "      <th>220</th>\n",
       "      <td>45243</td>\n",
       "      <td>England</td>\n",
       "      <td>Seven Bro7hers Brewery</td>\n",
       "      <td>0</td>\n",
       "      <td>20891</td>\n",
       "      <td>England</td>\n",
       "      <td>Seven Bro7hers</td>\n",
       "      <td>7</td>\n",
       "      <td>0.450217</td>\n",
       "      <td>0.972413</td>\n",
       "    </tr>\n",
       "    <tr>\n",
       "      <th>447</th>\n",
       "      <td>25939</td>\n",
       "      <td>England</td>\n",
       "      <td>Dartmoor Brewery</td>\n",
       "      <td>3</td>\n",
       "      <td>3480</td>\n",
       "      <td>England</td>\n",
       "      <td>Dartmoor</td>\n",
       "      <td>16</td>\n",
       "      <td>0.662249</td>\n",
       "      <td>0.955910</td>\n",
       "    </tr>\n",
       "    <tr>\n",
       "      <th>448</th>\n",
       "      <td>22832</td>\n",
       "      <td>England</td>\n",
       "      <td>Dartmoor Brewery Ltd.</td>\n",
       "      <td>0</td>\n",
       "      <td>3480</td>\n",
       "      <td>England</td>\n",
       "      <td>Dartmoor</td>\n",
       "      <td>16</td>\n",
       "      <td>0.388168</td>\n",
       "      <td>0.824178</td>\n",
       "    </tr>\n",
       "    <tr>\n",
       "      <th>614</th>\n",
       "      <td>24935</td>\n",
       "      <td>China</td>\n",
       "      <td>Great Leap Brewery</td>\n",
       "      <td>24</td>\n",
       "      <td>12325</td>\n",
       "      <td>China</td>\n",
       "      <td>Great Leap Brewing</td>\n",
       "      <td>53</td>\n",
       "      <td>0.382026</td>\n",
       "      <td>0.946753</td>\n",
       "    </tr>\n",
       "  </tbody>\n",
       "</table>\n",
       "</div>"
      ],
      "text/plain": [
       "        id location                    name  nbr_beers   id.1 location.1  \\\n",
       "219  37180  England          Seven Bro7hers          4  20891    England   \n",
       "220  45243  England  Seven Bro7hers Brewery          0  20891    England   \n",
       "447  25939  England        Dartmoor Brewery          3   3480    England   \n",
       "448  22832  England   Dartmoor Brewery Ltd.          0   3480    England   \n",
       "614  24935    China      Great Leap Brewery         24  12325      China   \n",
       "\n",
       "                 name.1  nbr_beers.1      diff       sim  \n",
       "219      Seven Bro7hers            7  0.528802  1.000000  \n",
       "220      Seven Bro7hers            7  0.450217  0.972413  \n",
       "447            Dartmoor           16  0.662249  0.955910  \n",
       "448            Dartmoor           16  0.388168  0.824178  \n",
       "614  Great Leap Brewing           53  0.382026  0.946753  "
      ]
     },
     "execution_count": 16,
     "metadata": {},
     "output_type": "execute_result"
    }
   ],
   "source": [
    "duplicates = breweries_matched['id.1'].duplicated()\n",
    "duplicate_rows = breweries_matched[breweries_matched['id.1'].duplicated(keep=False)]\n",
    "#print(len(duplicate_rows))\n",
    "duplicate_rows.head()\n",
    "#print(duplicates.any())"
   ]
  },
  {
   "cell_type": "markdown",
   "metadata": {},
   "source": [
    "Oh! So there are duplicates, how to treat them? Well good question, but at least we now know why there was more data in the solo dataset than expected. Let's check the other dataset."
   ]
  },
  {
   "cell_type": "code",
   "execution_count": 17,
   "metadata": {},
   "outputs": [
    {
     "data": {
      "text/html": [
       "<div>\n",
       "<style scoped>\n",
       "    .dataframe tbody tr th:only-of-type {\n",
       "        vertical-align: middle;\n",
       "    }\n",
       "\n",
       "    .dataframe tbody tr th {\n",
       "        vertical-align: top;\n",
       "    }\n",
       "\n",
       "    .dataframe thead th {\n",
       "        text-align: right;\n",
       "    }\n",
       "</style>\n",
       "<table border=\"1\" class=\"dataframe\">\n",
       "  <thead>\n",
       "    <tr style=\"text-align: right;\">\n",
       "      <th></th>\n",
       "      <th>id</th>\n",
       "      <th>location</th>\n",
       "      <th>name</th>\n",
       "      <th>nbr_beers</th>\n",
       "      <th>id.1</th>\n",
       "      <th>location.1</th>\n",
       "      <th>name.1</th>\n",
       "      <th>nbr_beers.1</th>\n",
       "      <th>diff</th>\n",
       "      <th>sim</th>\n",
       "    </tr>\n",
       "  </thead>\n",
       "  <tbody>\n",
       "  </tbody>\n",
       "</table>\n",
       "</div>"
      ],
      "text/plain": [
       "Empty DataFrame\n",
       "Columns: [id, location, name, nbr_beers, id.1, location.1, name.1, nbr_beers.1, diff, sim]\n",
       "Index: []"
      ]
     },
     "execution_count": 17,
     "metadata": {},
     "output_type": "execute_result"
    }
   ],
   "source": [
    "duplicates = breweries_matched['id'].duplicated()\n",
    "duplicate_rows = breweries_matched[breweries_matched['id'].duplicated(keep=False)]\n",
    "#print(len(duplicate_rows))\n",
    "duplicate_rows.head()"
   ]
  },
  {
   "cell_type": "markdown",
   "metadata": {},
   "source": [
    "No duplication for the id of advocate. But it means that certain ids of brewery have different ids on advocate whereas rateeer has just one value for those.\n",
    "We will have to be carefull for this depending on what we want to do with the data. Can we make sure that there are no other duplicates then in each dataset, like a same brewerie with different names/id etc..?"
   ]
  },
  {
   "cell_type": "markdown",
   "metadata": {},
   "source": [
    "**The question remains what is then the real total number of breweries in the dataset, if we consider that duplicates should be considered as one single brewery?**"
   ]
  },
  {
   "cell_type": "code",
   "execution_count": 18,
   "metadata": {},
   "outputs": [
    {
     "name": "stdout",
     "output_type": "stream",
     "text": [
      "45\n"
     ]
    }
   ],
   "source": [
    "duplicated_ids_var = breweries_matched[breweries_matched['id.1'].duplicated(keep=False)]\n",
    "duplicated_ids = duplicated_ids_var['id.1']\n",
    "\n",
    "duplicated_tes_max_value_id = duplicated_ids_var.groupby(\"id.1\")[\"id\"].min()\n",
    "print(len(duplicated_tes_max_value_id))\n"
   ]
  },
  {
   "cell_type": "code",
   "execution_count": 19,
   "metadata": {},
   "outputs": [
    {
     "name": "stdout",
     "output_type": "stream",
     "text": [
      "Previous of the three datasets:\n",
      "-advocate: 16758 \n",
      "-matched: 8281 \n",
      "-ratebeer: 24189\n",
      "New length of of the three datasets:\n",
      "-advocate: 8477 \n",
      "-matched: 8235 \n",
      "-ratebeer: 15954\n",
      "The unique number of breweries is: 32666\n"
     ]
    }
   ],
   "source": [
    "breweries_ratebeer_solo = breweries_ratebeer[~breweries_ratebeer.id.isin(breweries_matched['id.1'])]\n",
    "breweries_advocate_solo = breweries_advocate[~breweries_advocate.id.isin(breweries_matched['id'])]\n",
    "breweries_matched_solo = breweries_matched[~((breweries_matched[\"id.1\"].isin(duplicated_ids)) & ~(breweries_matched.id.isin(duplicated_tes_max_value_id)))]#Keep only min value of id of duplicated id set and making sure that it is an id that is duplicated in ratebeer\n",
    "\n",
    "total_len = len(breweries_advocate_solo) + len(breweries_ratebeer_solo) + len(breweries_matched_solo)\n",
    "print(\"Previous of the three datasets:\\n-advocate:\",len(breweries_advocate),\"\\n-matched:\", len(breweries_matched),\"\\n-ratebeer:\", len(breweries_ratebeer))\n",
    "print(\"New length of of the three datasets:\\n-advocate:\",len(breweries_advocate_solo),\"\\n-matched:\", len(breweries_matched_solo),\"\\n-ratebeer:\", len(breweries_ratebeer_solo))\n",
    "print(\"The unique number of breweries is:\", total_len)"
   ]
  },
  {
   "cell_type": "markdown",
   "metadata": {},
   "source": [
    "Okay now we want to see if there can be duplicates in the users, beers and maybe ratings. Let's begin with the users."
   ]
  },
  {
   "cell_type": "markdown",
   "metadata": {},
   "source": [
    "**USERS DUPLICATES**"
   ]
  },
  {
   "cell_type": "code",
   "execution_count": 44,
   "metadata": {},
   "outputs": [
    {
     "name": "stdout",
     "output_type": "stream",
     "text": [
      "3020\n",
      "3341\n",
      "153704\n",
      "70174\n"
     ]
    }
   ],
   "source": [
    "users_matched = pd.read_csv(os.path.join(MATCHED_PATH,'users.csv'),header=1)\n",
    "users_approx_matched = pd.read_csv(os.path.join(MATCHED_PATH,'users_approx.csv'),header=1)\n",
    "users_advocate = pd.read_csv(os.path.join(ADVOCATE_PATH,'users.csv'))\n",
    "users_ratebeer = pd.read_csv(os.path.join(RATEBEER_PATH,'users.csv'))\n",
    "\n",
    "print(len(users_matched))\n",
    "print(len(users_approx_matched))\n",
    "print(len(users_advocate))\n",
    "print(len(users_ratebeer))\n"
   ]
  },
  {
   "cell_type": "markdown",
   "metadata": {},
   "source": [
    "Let us first try and understand the difference between the two datasets."
   ]
  },
  {
   "cell_type": "code",
   "execution_count": 45,
   "metadata": {},
   "outputs": [
    {
     "name": "stdout",
     "output_type": "stream",
     "text": [
      "309\n",
      "0\n",
      "0.966091783079296\n"
     ]
    }
   ],
   "source": [
    "users_approx_matched_unique = users_approx_matched[~users_approx_matched.user_id.isin(users_matched.user_id)]\n",
    "users_matched_unique = users_matched[~users_matched.user_id.isin(users_approx_matched.user_id)]\n",
    "\n",
    "print(len(users_approx_matched_unique))\n",
    "print(len(users_matched_unique))\n",
    "print(users_approx_matched_unique.sim.max())\n"
   ]
  },
  {
   "cell_type": "code",
   "execution_count": 46,
   "metadata": {},
   "outputs": [
    {
     "name": "stdout",
     "output_type": "stream",
     "text": [
      "            joined location  nbr_ratings  nbr_reviews             user_id  \\\n",
      "1155  1.483009e+09    Spain            3            0  magicuenca.1185749   \n",
      "\n",
      "       user_name user_name_lower      joined.1 location.1  nbr_ratings.1  \\\n",
      "1155  MAGICuenca      magicuenca  1.481108e+09      Spain              9   \n",
      "\n",
      "      user_id.1 user_name.1 user_name_lower.1  \n",
      "1155     437310  MAGICuenca        magicuenca  \n",
      "            joined location  nbr_ratings  nbr_reviews             user_id  \\\n",
      "0     1.483009e+09    Spain            3            0  magicuenca.1185749   \n",
      "1260  1.483009e+09    Spain            3            0  magicuenca.1185749   \n",
      "\n",
      "       user_name user_name_lower      joined.1 location.1  nbr_ratings.1  \\\n",
      "0     MAGICuenca      magicuenca  1.484046e+09      Spain             89   \n",
      "1260  MAGICuenca      magicuenca  1.481108e+09      Spain              9   \n",
      "\n",
      "      user_id.1   user_name.1 user_name_lower.1       sim  \n",
      "0        442761  MAGICuenca91      magicuenca91  0.904534  \n",
      "1260     437310    MAGICuenca        magicuenca  1.000000  \n"
     ]
    }
   ],
   "source": [
    "print((users_matched[users_matched.user_id==\"magicuenca.1185749\"]))\n",
    "print((users_approx_matched[users_approx_matched.user_id==\"magicuenca.1185749\"]))"
   ]
  },
  {
   "cell_type": "markdown",
   "metadata": {},
   "source": [
    "Again there seems to be duplication, but first: approx seems to be the likelihood of a user to be the same. ANd herre in approx there is a duplication of a user because a user in one set is similar to two other users names in the other dataset. Maybe the three of them are the same person maybe not. Certain users are not sure to be similar so it will be up to us to decide how we treat them.\n",
    "\n",
    "Now let's count the duplicates."
   ]
  },
  {
   "cell_type": "code",
   "execution_count": 49,
   "metadata": {},
   "outputs": [
    {
     "data": {
      "text/html": [
       "<div>\n",
       "<style scoped>\n",
       "    .dataframe tbody tr th:only-of-type {\n",
       "        vertical-align: middle;\n",
       "    }\n",
       "\n",
       "    .dataframe tbody tr th {\n",
       "        vertical-align: top;\n",
       "    }\n",
       "\n",
       "    .dataframe thead th {\n",
       "        text-align: right;\n",
       "    }\n",
       "</style>\n",
       "<table border=\"1\" class=\"dataframe\">\n",
       "  <thead>\n",
       "    <tr style=\"text-align: right;\">\n",
       "      <th></th>\n",
       "      <th>joined</th>\n",
       "      <th>location</th>\n",
       "      <th>nbr_ratings</th>\n",
       "      <th>nbr_reviews</th>\n",
       "      <th>user_id</th>\n",
       "      <th>user_name</th>\n",
       "      <th>user_name_lower</th>\n",
       "      <th>joined.1</th>\n",
       "      <th>location.1</th>\n",
       "      <th>nbr_ratings.1</th>\n",
       "      <th>user_id.1</th>\n",
       "      <th>user_name.1</th>\n",
       "      <th>user_name_lower.1</th>\n",
       "    </tr>\n",
       "  </thead>\n",
       "  <tbody>\n",
       "    <tr>\n",
       "      <th>793</th>\n",
       "      <td>1.225537e+09</td>\n",
       "      <td>United States, Oklahoma</td>\n",
       "      <td>247</td>\n",
       "      <td>230</td>\n",
       "      <td>webbcreative.262113</td>\n",
       "      <td>webbcreative</td>\n",
       "      <td>webbcreative</td>\n",
       "      <td>1.228734e+09</td>\n",
       "      <td>United States, Oklahoma</td>\n",
       "      <td>98</td>\n",
       "      <td>84287</td>\n",
       "      <td>webbcreative</td>\n",
       "      <td>webbcreative</td>\n",
       "    </tr>\n",
       "  </tbody>\n",
       "</table>\n",
       "</div>"
      ],
      "text/plain": [
       "           joined                 location  nbr_ratings  nbr_reviews  \\\n",
       "793  1.225537e+09  United States, Oklahoma          247          230   \n",
       "\n",
       "                 user_id     user_name user_name_lower      joined.1  \\\n",
       "793  webbcreative.262113  webbcreative    webbcreative  1.228734e+09   \n",
       "\n",
       "                  location.1  nbr_ratings.1  user_id.1   user_name.1  \\\n",
       "793  United States, Oklahoma             98      84287  webbcreative   \n",
       "\n",
       "    user_name_lower.1  \n",
       "793      webbcreative  "
      ]
     },
     "execution_count": 49,
     "metadata": {},
     "output_type": "execute_result"
    }
   ],
   "source": [
    "users_matched.sample()"
   ]
  },
  {
   "cell_type": "code",
   "execution_count": null,
   "metadata": {},
   "outputs": [
    {
     "name": "stdout",
     "output_type": "stream",
     "text": [
      "0\n",
      "0\n",
      "47\n",
      "0\n",
      "2\n",
      "1\n"
     ]
    }
   ],
   "source": [
    "duplicated_users_in_advocate = users_matched[users_matched.user_id.duplicated(keep=False)]\n",
    "duplicated_users_in_ratebeer = users_matched[users_matched[\"user_id.1\"].duplicated(keep=False)]\n",
    "print(len(duplicated_users_in_advocate))\n",
    "print(len(duplicated_users_in_ratebeer))\n",
    "#No duplicated and verify in the approx file\n",
    "duplicated_users_in_advocate = users_approx_matched[users_approx_matched.user_id.duplicated(keep=False)]\n",
    "duplicated_users_in_ratebeer = users_approx_matched[users_approx_matched[\"user_id.1\"].duplicated(keep=False)]\n",
    "print(len(duplicated_users_in_advocate))\n",
    "print(len(duplicated_users_in_ratebeer))\n",
    "#Just verify that the one found earlier is here:\n",
    "print(len(duplicated_users_in_advocate[duplicated_users_in_advocate.user_id==\"magicuenca.1185749\"]))\n",
    "print(len(users_matched[users_matched.user_id == \"magicuenca.1185749\"])) #And so there is only one in the main file\n",
    "#It is here, so again some users are duplicated"
   ]
  },
  {
   "cell_type": "markdown",
   "metadata": {},
   "source": [
    "Again there are duplicates in the dataset. This time ratebeer has multiple users linked to a single users, but only in the approximation  not the main file. COntrary to the breweries the duplicates are in the ratebeer and not advocate. "
   ]
  },
  {
   "cell_type": "markdown",
   "metadata": {},
   "source": [
    "**BEERS DUPLICATES**"
   ]
  },
  {
   "cell_type": "code",
   "execution_count": 59,
   "metadata": {},
   "outputs": [
    {
     "name": "stdout",
     "output_type": "stream",
     "text": [
      "45640\n",
      "280823\n",
      "442081\n"
     ]
    }
   ],
   "source": [
    "beers_matched = pd.read_csv(os.path.join(MATCHED_PATH,'beers.csv'),header=1)\n",
    "beers_advocate = pd.read_csv(os.path.join(ADVOCATE_PATH,'beers.csv'))\n",
    "beers_ratebeer = pd.read_csv(os.path.join(RATEBEER_PATH,'beers.csv'))\n",
    "\n",
    "print(len(beers_matched))\n",
    "print(len(beers_advocate))\n",
    "print(len(beers_ratebeer))\n"
   ]
  },
  {
   "cell_type": "code",
   "execution_count": 65,
   "metadata": {},
   "outputs": [
    {
     "name": "stdout",
     "output_type": "stream",
     "text": [
      "0\n",
      "0\n"
     ]
    }
   ],
   "source": [
    "duplicated_beers_in_advocate = beers_matched[beers_matched.beer_id.duplicated(keep=False)]\n",
    "duplicated_beers_in_ratebeer = beers_matched[beers_matched[\"beer_id.1\"].duplicated(keep=False)]\n",
    "print(len(duplicated_beers_in_advocate))\n",
    "print(len(duplicated_beers_in_ratebeer))"
   ]
  },
  {
   "cell_type": "code",
   "execution_count": 66,
   "metadata": {},
   "outputs": [
    {
     "data": {
      "text/plain": [
       "0     19827\n",
       "1     20841\n",
       "2     20842\n",
       "3     22659\n",
       "4    178681\n",
       "Name: beer_id, dtype: int64"
      ]
     },
     "execution_count": 66,
     "metadata": {},
     "output_type": "execute_result"
    }
   ],
   "source": [
    "beers_matched.beer_id.head(5)"
   ]
  },
  {
   "cell_type": "code",
   "execution_count": 67,
   "metadata": {},
   "outputs": [
    {
     "data": {
      "text/plain": [
       "0     37923\n",
       "1     41286\n",
       "2     41287\n",
       "3     41285\n",
       "4    230283\n",
       "Name: beer_id.1, dtype: int64"
      ]
     },
     "execution_count": 67,
     "metadata": {},
     "output_type": "execute_result"
    }
   ],
   "source": [
    "beers_matched[\"beer_id.1\"].head(5)"
   ]
  },
  {
   "cell_type": "code",
   "execution_count": 69,
   "metadata": {},
   "outputs": [
    {
     "name": "stdout",
     "output_type": "stream",
     "text": [
      "Previous of the three datasets:\n",
      "-advocate: 280823 \n",
      "-matched: 45640 \n",
      "-ratebeer: 442081\n",
      "New length of of the three datasets:\n",
      "-advocate: 235183 \n",
      "-matched: 45640 \n",
      "-ratebeer: 396441\n",
      "The unique number of breweries is: 677264\n"
     ]
    }
   ],
   "source": [
    "beers_ratebeer_solo = beers_ratebeer[~beers_ratebeer.beer_id.isin(beers_matched['beer_id.1'])]\n",
    "beers_advocate_solo = beers_advocate[~beers_advocate.beer_id.isin(beers_matched['beer_id'])]\n",
    "\n",
    "total_len = len(beers_ratebeer_solo) + len(beers_advocate_solo) + len(beers_matched)\n",
    "print(\"Previous of the three datasets:\\n-advocate:\",len(beers_advocate),\"\\n-matched:\", len(beers_matched),\"\\n-ratebeer:\", len(beers_ratebeer))\n",
    "print(\"New length of of the three datasets:\\n-advocate:\",len(beers_advocate_solo),\"\\n-matched:\", len(beers_matched),\"\\n-ratebeer:\", len(beers_ratebeer_solo))\n",
    "print(\"The unique number of breweries is:\", total_len)"
   ]
  },
  {
   "cell_type": "markdown",
   "metadata": {},
   "source": [
    "No duplicates for the beers. Much seempler to treat XD (For duplication only :(   )"
   ]
  },
  {
   "cell_type": "markdown",
   "metadata": {},
   "source": [
    "**Ratings analysis**\n",
    "\n",
    "The ratings has multiple files for the different ratings/reviews."
   ]
  },
  {
   "cell_type": "code",
   "execution_count": 132,
   "metadata": {},
   "outputs": [
    {
     "name": "stdout",
     "output_type": "stream",
     "text": [
      "21964\n",
      "955968\n",
      "289025\n",
      "1020638\n",
      "1020599\n"
     ]
    }
   ],
   "source": [
    "ratings_matched = pd.read_csv(os.path.join(MATCHED_PATH,'ratings.csv'),header=1)\n",
    "ratings_ba_matched = pd.read_csv(os.path.join(MATCHED_PATH,'ratings_ba.csv'))\n",
    "ratings_ba_with_text_matched = pd.read_csv(os.path.join(MATCHED_PATH,'ratings_ba_with_text.csv'))\n",
    "ratings_rb_matched = pd.read_csv(os.path.join(MATCHED_PATH,'ratings_rb.csv'))\n",
    "ratings_rb_with_text_matched = pd.read_csv(os.path.join(MATCHED_PATH,'ratings_rb_with_text.csv'))\n",
    "\n",
    "print(len(ratings_matched))\n",
    "print(len(ratings_ba_matched))\n",
    "print(len(ratings_ba_with_text_matched))\n",
    "print(len(ratings_rb_matched))\n",
    "print(len(ratings_rb_with_text_matched))\n"
   ]
  },
  {
   "cell_type": "markdown",
   "metadata": {},
   "source": [
    "The different files have different categories for the attributes (here we care about matched):\n",
    "- ratings.csv: appearance, aroma, overall, palate, rating, review, style, taste, appearance.1, aroma.1, overall.1, palate.1, ratings.1, style.1, taste.1 and text.1\n",
    "    review just tells us if there is a text or not => all the attributes are duplicated for both datasets\n",
    "- ratings_ba.csv: style, appearance, aroma, palate, taste, overall rating, text, review\n",
    "- ratings_ba_with_text.csv: style, appearance, aroma, palate, taste, overall rating, text, review => they have the same columns just thay make sure that the later one contains text.\n",
    "- ratings_rb.csv: style, appearance, aroma, palate, taste, overall rating, text\n",
    "- ratings_rb_with_text.csv: style, appearance, aroma, palate, taste, overall rating, text => they have the same columns just thay make sure that the later one contains text.\n",
    "Only difference between the last four files if there is a review column."
   ]
  },
  {
   "cell_type": "code",
   "execution_count": 77,
   "metadata": {},
   "outputs": [
    {
     "name": "stdout",
     "output_type": "stream",
     "text": [
      "0        False\n",
      "1        False\n",
      "2         True\n",
      "3         True\n",
      "4         True\n",
      "         ...  \n",
      "21959     True\n",
      "21960     True\n",
      "21961    False\n",
      "21962    False\n",
      "21963    False\n",
      "Length: 21964, dtype: bool\n"
     ]
    }
   ],
   "source": [
    "print(ratings_matched.palate==ratings_matched[\"palate.1\"])"
   ]
  },
  {
   "cell_type": "markdown",
   "metadata": {},
   "source": [
    "We checked for the text and with palate, the attributes can differ. "
   ]
  },
  {
   "cell_type": "code",
   "execution_count": 140,
   "metadata": {},
   "outputs": [
    {
     "data": {
      "text/plain": [
       "Index(['beer_name', 'beer_id', 'brewery_name', 'brewery_id', 'style', 'abv',\n",
       "       'date', 'user_name', 'user_id', 'appearance', 'aroma', 'palate',\n",
       "       'taste', 'overall', 'rating', 'text'],\n",
       "      dtype='object')"
      ]
     },
     "execution_count": 140,
     "metadata": {},
     "output_type": "execute_result"
    }
   ],
   "source": [
    "ratings_rb_with_text_matched.columns"
   ]
  },
  {
   "cell_type": "markdown",
   "metadata": {},
   "source": [
    "What makes ratings matched? Lets look at the date or beer id."
   ]
  },
  {
   "cell_type": "code",
   "execution_count": 86,
   "metadata": {},
   "outputs": [
    {
     "data": {
      "text/html": [
       "<div>\n",
       "<style scoped>\n",
       "    .dataframe tbody tr th:only-of-type {\n",
       "        vertical-align: middle;\n",
       "    }\n",
       "\n",
       "    .dataframe tbody tr th {\n",
       "        vertical-align: top;\n",
       "    }\n",
       "\n",
       "    .dataframe thead th {\n",
       "        text-align: right;\n",
       "    }\n",
       "</style>\n",
       "<table border=\"1\" class=\"dataframe\">\n",
       "  <thead>\n",
       "    <tr style=\"text-align: right;\">\n",
       "      <th></th>\n",
       "      <th>date</th>\n",
       "      <th>date.1</th>\n",
       "    </tr>\n",
       "  </thead>\n",
       "  <tbody>\n",
       "    <tr>\n",
       "      <th>10181</th>\n",
       "      <td>1454497200</td>\n",
       "      <td>1394622000</td>\n",
       "    </tr>\n",
       "    <tr>\n",
       "      <th>3993</th>\n",
       "      <td>1419159600</td>\n",
       "      <td>1419159600</td>\n",
       "    </tr>\n",
       "    <tr>\n",
       "      <th>12531</th>\n",
       "      <td>1211018400</td>\n",
       "      <td>1211018400</td>\n",
       "    </tr>\n",
       "    <tr>\n",
       "      <th>6123</th>\n",
       "      <td>1467540000</td>\n",
       "      <td>1467453600</td>\n",
       "    </tr>\n",
       "    <tr>\n",
       "      <th>20155</th>\n",
       "      <td>1278237600</td>\n",
       "      <td>1278151200</td>\n",
       "    </tr>\n",
       "  </tbody>\n",
       "</table>\n",
       "</div>"
      ],
      "text/plain": [
       "             date      date.1\n",
       "10181  1454497200  1394622000\n",
       "3993   1419159600  1419159600\n",
       "12531  1211018400  1211018400\n",
       "6123   1467540000  1467453600\n",
       "20155  1278237600  1278151200"
      ]
     },
     "execution_count": 86,
     "metadata": {},
     "output_type": "execute_result"
    }
   ],
   "source": [
    "ratings_matched[[\"date\",\"date.1\"]].sample(5)"
   ]
  },
  {
   "cell_type": "code",
   "execution_count": 128,
   "metadata": {},
   "outputs": [
    {
     "data": {
      "text/html": [
       "<div>\n",
       "<style scoped>\n",
       "    .dataframe tbody tr th:only-of-type {\n",
       "        vertical-align: middle;\n",
       "    }\n",
       "\n",
       "    .dataframe tbody tr th {\n",
       "        vertical-align: top;\n",
       "    }\n",
       "\n",
       "    .dataframe thead th {\n",
       "        text-align: right;\n",
       "    }\n",
       "</style>\n",
       "<table border=\"1\" class=\"dataframe\">\n",
       "  <thead>\n",
       "    <tr style=\"text-align: right;\">\n",
       "      <th></th>\n",
       "      <th>joined</th>\n",
       "      <th>location</th>\n",
       "      <th>nbr_ratings</th>\n",
       "      <th>nbr_reviews</th>\n",
       "      <th>user_id</th>\n",
       "      <th>user_name</th>\n",
       "      <th>user_name_lower</th>\n",
       "      <th>joined.1</th>\n",
       "      <th>location.1</th>\n",
       "      <th>nbr_ratings.1</th>\n",
       "      <th>user_id.1</th>\n",
       "      <th>user_name.1</th>\n",
       "      <th>user_name_lower.1</th>\n",
       "    </tr>\n",
       "  </thead>\n",
       "  <tbody>\n",
       "    <tr>\n",
       "      <th>29</th>\n",
       "      <td>True</td>\n",
       "      <td>True</td>\n",
       "      <td>True</td>\n",
       "      <td>True</td>\n",
       "      <td>True</td>\n",
       "      <td>True</td>\n",
       "      <td>True</td>\n",
       "      <td>True</td>\n",
       "      <td>True</td>\n",
       "      <td>True</td>\n",
       "      <td>True</td>\n",
       "      <td>True</td>\n",
       "      <td>True</td>\n",
       "    </tr>\n",
       "  </tbody>\n",
       "</table>\n",
       "</div>"
      ],
      "text/plain": [
       "    joined  location  nbr_ratings  nbr_reviews  user_id  user_name  \\\n",
       "29    True      True         True         True     True       True   \n",
       "\n",
       "    user_name_lower  joined.1  location.1  nbr_ratings.1  user_id.1  \\\n",
       "29             True      True        True           True       True   \n",
       "\n",
       "    user_name.1  user_name_lower.1  \n",
       "29         True               True  "
      ]
     },
     "execution_count": 128,
     "metadata": {},
     "output_type": "execute_result"
    }
   ],
   "source": [
    "N = 1000\n",
    "beer_id_advocate = ratings_matched.iloc[N].beer_id\n",
    "beer_id_ratebeer = ratings_matched.iloc[N][\"beer_id.1\"]\n",
    "\n",
    "user_id_advocate = ratings_matched.iloc[N].user_id\n",
    "user_id_ratebeer = ratings_matched.iloc[N][\"user_id.1\"]\n",
    "\n",
    "beers_matched[beers_matched.beer_id == beer_id_advocate]==beers_matched[beers_matched[\"beer_id.1\"] == beer_id_ratebeer]\n",
    "users_matched[users_matched.user_id == user_id_advocate]==users_matched[users_matched[\"user_id.1\"] == user_id_ratebeer]"
   ]
  },
  {
   "cell_type": "markdown",
   "metadata": {},
   "source": [
    "No its not the date of the comment, the beer drank makes a beer in match, if the beer is in both files (in the matched beer dataset). Now maybe one is not rated on the other dataset. Let us check that by looking at Nan's ie verify that a matched comment is a beer that has been commented on both websites."
   ]
  },
  {
   "cell_type": "code",
   "execution_count": 129,
   "metadata": {},
   "outputs": [
    {
     "name": "stdout",
     "output_type": "stream",
     "text": [
      "Number of Nan values for  appearance : 2669\n",
      "Number of Nan values for  aroma : 2669\n",
      "Number of Nan values for  overall : 2669\n",
      "Number of Nan values for  palate : 2669\n",
      "Number of Nan values for  rating : 0\n",
      "Number of Nan values for  review : 0\n",
      "Number of Nan values for  style : 0\n",
      "Number of Nan values for  taste : 2669\n",
      "Number of Nan values for  appearance.1 : 0\n",
      "Number of Nan values for  aroma.1 : 0\n",
      "Number of Nan values for  overall.1 : 0\n",
      "Number of Nan values for  palate.1 : 0\n",
      "Number of Nan values for  rating.1 : 0\n",
      "Number of Nan values for  style.1 : 0\n",
      "Number of Nan values for  taste.1 : 0\n"
     ]
    }
   ],
   "source": [
    "advocate_criterions = [\"appearance\", \"aroma\", \"overall\", \"palate\", \"rating\", \"review\", \"style\", \"taste\"]\n",
    "ratebeer_criterions = [\"appearance.1\", \"aroma.1\", \"overall.1\", \"palate.1\", \"rating.1\", \"style.1\", \"taste.1\"]\n",
    "\n",
    "for i,attribute in enumerate(advocate_criterions+ratebeer_criterions):\n",
    "    nan_ratings = ratings_matched[ratings_matched[attribute].isna()]\n",
    "    print(\"Number of Nan values for \", attribute, \":\", len(nan_ratings))\n"
   ]
  },
  {
   "cell_type": "markdown",
   "metadata": {},
   "source": [
    "So from what wera seeing it is matches of comments made about a same beer, by the same user. He may have not answered one column.\n",
    "\n",
    "Why are certain ratings in ratings_ba and ratings_rb. We suppose that it is because the user and the beer has been identify as a match. Now let's check this hypothesis."
   ]
  },
  {
   "cell_type": "code",
   "execution_count": 185,
   "metadata": {},
   "outputs": [
    {
     "name": "stdout",
     "output_type": "stream",
     "text": [
      "dcmchew.760280 23358\n",
      "1\n",
      "1\n"
     ]
    }
   ],
   "source": [
    "N = 1200\n",
    "\n",
    "user_id = ratings_ba_matched.iloc[N][\"user_id\"]\n",
    "beer_id = ratings_ba_matched.iloc[N][\"beer_id\"]\n",
    "print(user_id, beer_id)\n",
    "print(len(beers_matched[beers_matched[\"beer_id\"]==beer_id]))\n",
    "print(len(users_matched[users_matched[\"user_id\"]==user_id]))"
   ]
  },
  {
   "cell_type": "code",
   "execution_count": 188,
   "metadata": {},
   "outputs": [
    {
     "name": "stdout",
     "output_type": "stream",
     "text": [
      "17095 300727\n",
      "1\n",
      "1\n"
     ]
    }
   ],
   "source": [
    "N = 1200\n",
    "\n",
    "user_id = ratings_rb_matched.iloc[N][\"user_id\"]\n",
    "beer_id = ratings_rb_matched.iloc[N][\"beer_id\"]\n",
    "print(user_id, beer_id)\n",
    "print(len(beers_matched[beers_matched[\"beer_id.1\"]==beer_id]))\n",
    "print(len(users_matched[users_matched[\"user_id.1\"]==user_id]))"
   ]
  },
  {
   "cell_type": "markdown",
   "metadata": {},
   "source": [
    "Bingo it seems that the ratings in ba/rb matched corresponds to user matching that have made a comment about a beer that has a match. We checked it by hand for one value now lets check it for all ratings in ratings_ba and rb."
   ]
  },
  {
   "cell_type": "code",
   "execution_count": 201,
   "metadata": {},
   "outputs": [
    {
     "name": "stdout",
     "output_type": "stream",
     "text": [
      "All ratings are for a matching beer or user.\n",
      "There were 955968 with at least the beer or user having a match but 78544 had the user and beer match for a 955968 number of comment\n"
     ]
    }
   ],
   "source": [
    "all_beers_matched = ratings_ba_matched[\"beer_id\"].isin(beers_matched[\"beer_id\"])\n",
    "all_users_matched = ratings_ba_matched[\"user_id\"].isin(users_matched[\"user_id\"])\n",
    "all_ratings_have_match_and = all_beers_matched & all_users_matched\n",
    "all_ratings_have_match_or = all_beers_matched | all_users_matched\n",
    "\n",
    "if all_ratings_have_match_and.all():\n",
    "    print(\"All ratings are for a matching beer and user.\")\n",
    "if all_ratings_have_match_or.all():\n",
    "    print(\"All ratings are for a matching beer or user.\")\n",
    "    print(\"There were {} with at least the beer or user having a match but {} had the user and beer match for a {} number of comment\".format(all_ratings_have_match_or.sum(),all_ratings_have_match_and.sum(), len(all_ratings_have_match_and)))"
   ]
  },
  {
   "cell_type": "code",
   "execution_count": 202,
   "metadata": {},
   "outputs": [
    {
     "name": "stdout",
     "output_type": "stream",
     "text": [
      "All ratings are for a matching beer or user.\n",
      "There were 1020638 with at least the beer or user having a match but 122372 had the user and beer match for a 1020638 number of comment\n"
     ]
    }
   ],
   "source": [
    "all_beers_matched = ratings_rb_matched[\"beer_id\"].isin(beers_matched[\"beer_id.1\"])\n",
    "all_users_matched = ratings_rb_matched[\"user_id\"].isin(users_matched[\"user_id.1\"])\n",
    "all_ratings_have_match_and = all_beers_matched & all_users_matched\n",
    "all_ratings_have_match_or = all_beers_matched | all_users_matched\n",
    "\n",
    "if all_ratings_have_match_and.all():\n",
    "    print(\"All ratings are for a matching beer and user.\")\n",
    "if all_ratings_have_match_or.all():\n",
    "    print(\"All ratings are for a matching beer or user.\")\n",
    "    print(\"There were {} with at least the beer or user having a match but {} had the user and beer match for a {} number of comment\".format(all_ratings_have_match_or.sum(),all_ratings_have_match_and.sum(), len(all_ratings_have_match_and)))"
   ]
  },
  {
   "cell_type": "markdown",
   "metadata": {},
   "source": [
    "OH NOOOOO. It is not for a matching beer and user, but rather if either the beer or the user has a match."
   ]
  },
  {
   "cell_type": "markdown",
   "metadata": {},
   "source": [
    "Lets us check if one dataset contains more often a nan value or not:"
   ]
  },
  {
   "cell_type": "code",
   "execution_count": 147,
   "metadata": {},
   "outputs": [
    {
     "name": "stdout",
     "output_type": "stream",
     "text": [
      "Number of Nan values for  beer_name : 0\n",
      "Number of Nan values for  beer_id : 0\n",
      "Number of Nan values for  brewery_name : 0\n",
      "Number of Nan values for  brewery_id : 0\n",
      "Number of Nan values for  style : 0\n",
      "Number of Nan values for  abv : 0\n",
      "Number of Nan values for  date : 0\n",
      "Number of Nan values for  user_name : 5\n",
      "Number of Nan values for  user_id : 0\n",
      "Number of Nan values for  appearance : 363750\n",
      "Number of Nan values for  aroma : 363750\n",
      "Number of Nan values for  palate : 363750\n",
      "Number of Nan values for  taste : 363750\n",
      "Number of Nan values for  overall : 363750\n",
      "Number of Nan values for  rating : 0\n",
      "Number of Nan values for  text : 666943\n",
      "Number of Nan values for  review : 0\n"
     ]
    }
   ],
   "source": [
    "for i,attribute in enumerate(ratings_ba_matched.columns):\n",
    "    nan_ratings = ratings_ba_matched[ratings_ba_matched[attribute].isna()]\n",
    "    print(\"Number of Nan values for \", attribute, \":\", len(nan_ratings))"
   ]
  },
  {
   "cell_type": "code",
   "execution_count": null,
   "metadata": {},
   "outputs": [
    {
     "name": "stdout",
     "output_type": "stream",
     "text": [
      "Number of Nan values for  beer_name : 0\n",
      "Number of Nan values for  beer_id : 0\n",
      "Number of Nan values for  brewery_name : 0\n",
      "Number of Nan values for  brewery_id : 0\n",
      "Number of Nan values for  style : 0\n",
      "Number of Nan values for  abv : 0\n",
      "Number of Nan values for  date : 0\n",
      "Number of Nan values for  user_name : 0\n",
      "Number of Nan values for  user_id : 0\n",
      "Number of Nan values for  appearance : 0\n",
      "Number of Nan values for  aroma : 0\n",
      "Number of Nan values for  palate : 0\n",
      "Number of Nan values for  taste : 0\n",
      "Number of Nan values for  overall : 0\n",
      "Number of Nan values for  rating : 0\n",
      "Number of Nan values for  text : 39\n"
     ]
    }
   ],
   "source": [
    "for i,attribute in enumerate(ratings_rb_matched.columns):\n",
    "    nan_ratings = ratings_rb_matched[ratings_rb_matched[attribute].isna()]\n",
    "    print(\"Number of Nan values for \", attribute, \":\", len(nan_ratings))"
   ]
  },
  {
   "cell_type": "markdown",
   "metadata": {},
   "source": [
    "Advocates match ratings contains certain attribute not rated by times. For ratebeer this is never the case. In both cases a text may be missing."
   ]
  },
  {
   "cell_type": "code",
   "execution_count": 173,
   "metadata": {},
   "outputs": [
    {
     "data": {
      "text/html": [
       "<div>\n",
       "<style scoped>\n",
       "    .dataframe tbody tr th:only-of-type {\n",
       "        vertical-align: middle;\n",
       "    }\n",
       "\n",
       "    .dataframe tbody tr th {\n",
       "        vertical-align: top;\n",
       "    }\n",
       "\n",
       "    .dataframe thead th {\n",
       "        text-align: right;\n",
       "    }\n",
       "</style>\n",
       "<table border=\"1\" class=\"dataframe\">\n",
       "  <thead>\n",
       "    <tr style=\"text-align: right;\">\n",
       "      <th></th>\n",
       "      <th>beer_name</th>\n",
       "      <th>beer_id</th>\n",
       "      <th>brewery_name</th>\n",
       "      <th>brewery_id</th>\n",
       "      <th>style</th>\n",
       "      <th>abv</th>\n",
       "      <th>date</th>\n",
       "      <th>user_name</th>\n",
       "      <th>user_id</th>\n",
       "      <th>appearance</th>\n",
       "      <th>aroma</th>\n",
       "      <th>palate</th>\n",
       "      <th>taste</th>\n",
       "      <th>overall</th>\n",
       "      <th>rating</th>\n",
       "      <th>text</th>\n",
       "    </tr>\n",
       "  </thead>\n",
       "  <tbody>\n",
       "    <tr>\n",
       "      <th>475045</th>\n",
       "      <td>Magnify Seasonally Appropriate</td>\n",
       "      <td>357019</td>\n",
       "      <td>Magnify Brewing Company</td>\n",
       "      <td>23248</td>\n",
       "      <td>Berliner Weisse</td>\n",
       "      <td>4.5</td>\n",
       "      <td>1441188000</td>\n",
       "      <td>vtafro</td>\n",
       "      <td>85502</td>\n",
       "      <td>5</td>\n",
       "      <td>5</td>\n",
       "      <td>5</td>\n",
       "      <td>7</td>\n",
       "      <td>13</td>\n",
       "      <td>3.5</td>\n",
       "      <td>Draft. Golden pour with white lacing. Light fr...</td>\n",
       "    </tr>\n",
       "    <tr>\n",
       "      <th>361213</th>\n",
       "      <td>Furthermore Knot Stock</td>\n",
       "      <td>61941</td>\n",
       "      <td>Furthermore</td>\n",
       "      <td>6951</td>\n",
       "      <td>Spice/Herb/Vegetable</td>\n",
       "      <td>5.5</td>\n",
       "      <td>1251108000</td>\n",
       "      <td>zizzybalubba</td>\n",
       "      <td>57664</td>\n",
       "      <td>3</td>\n",
       "      <td>6</td>\n",
       "      <td>3</td>\n",
       "      <td>4</td>\n",
       "      <td>9</td>\n",
       "      <td>2.5</td>\n",
       "      <td>12 oz. bottle from Steveâs Liquors in Madiso...</td>\n",
       "    </tr>\n",
       "    <tr>\n",
       "      <th>79399</th>\n",
       "      <td>Malthus Baluba</td>\n",
       "      <td>44669</td>\n",
       "      <td>Il Birrificio di Como</td>\n",
       "      <td>5735</td>\n",
       "      <td>Spice/Herb/Vegetable</td>\n",
       "      <td>6.9</td>\n",
       "      <td>1137063600</td>\n",
       "      <td>rauchbier</td>\n",
       "      <td>2463</td>\n",
       "      <td>3</td>\n",
       "      <td>8</td>\n",
       "      <td>3</td>\n",
       "      <td>8</td>\n",
       "      <td>15</td>\n",
       "      <td>3.7</td>\n",
       "      <td>Bottle, courtesy of Lorenzo @ ZBF 2005. Deep c...</td>\n",
       "    </tr>\n",
       "    <tr>\n",
       "      <th>707230</th>\n",
       "      <td>Jolly Pumpkin Fuego del Otono (Autumn Fire)</td>\n",
       "      <td>53557</td>\n",
       "      <td>Jolly Pumpkin Artisan Ales</td>\n",
       "      <td>4923</td>\n",
       "      <td>Belgian Ale</td>\n",
       "      <td>6.1</td>\n",
       "      <td>1370944800</td>\n",
       "      <td>OKplus</td>\n",
       "      <td>237085</td>\n",
       "      <td>3</td>\n",
       "      <td>6</td>\n",
       "      <td>3</td>\n",
       "      <td>8</td>\n",
       "      <td>16</td>\n",
       "      <td>3.6</td>\n",
       "      <td>Split this one with the wife.750ml served into...</td>\n",
       "    </tr>\n",
       "    <tr>\n",
       "      <th>351090</th>\n",
       "      <td>Kinn Gamleguten</td>\n",
       "      <td>207987</td>\n",
       "      <td>Kinn Bryggeri</td>\n",
       "      <td>11098</td>\n",
       "      <td>Old Ale</td>\n",
       "      <td>7.0</td>\n",
       "      <td>1401098400</td>\n",
       "      <td>fonefan</td>\n",
       "      <td>38926</td>\n",
       "      <td>3</td>\n",
       "      <td>6</td>\n",
       "      <td>3</td>\n",
       "      <td>7</td>\n",
       "      <td>13</td>\n",
       "      <td>3.2</td>\n",
       "      <td>Bottle 750ml. @ [ Fastelavn Smagning - Carniva...</td>\n",
       "    </tr>\n",
       "  </tbody>\n",
       "</table>\n",
       "</div>"
      ],
      "text/plain": [
       "                                          beer_name  beer_id  \\\n",
       "475045               Magnify Seasonally Appropriate   357019   \n",
       "361213                       Furthermore Knot Stock    61941   \n",
       "79399                                Malthus Baluba    44669   \n",
       "707230  Jolly Pumpkin Fuego del Otono (Autumn Fire)    53557   \n",
       "351090                              Kinn Gamleguten   207987   \n",
       "\n",
       "                      brewery_name  brewery_id                 style  abv  \\\n",
       "475045     Magnify Brewing Company       23248       Berliner Weisse  4.5   \n",
       "361213                 Furthermore        6951  Spice/Herb/Vegetable  5.5   \n",
       "79399        Il Birrificio di Como        5735  Spice/Herb/Vegetable  6.9   \n",
       "707230  Jolly Pumpkin Artisan Ales        4923           Belgian Ale  6.1   \n",
       "351090               Kinn Bryggeri       11098               Old Ale  7.0   \n",
       "\n",
       "              date     user_name  user_id  appearance  aroma  palate  taste  \\\n",
       "475045  1441188000        vtafro    85502           5      5       5      7   \n",
       "361213  1251108000  zizzybalubba    57664           3      6       3      4   \n",
       "79399   1137063600     rauchbier     2463           3      8       3      8   \n",
       "707230  1370944800        OKplus   237085           3      6       3      8   \n",
       "351090  1401098400       fonefan    38926           3      6       3      7   \n",
       "\n",
       "        overall  rating                                               text  \n",
       "475045       13     3.5  Draft. Golden pour with white lacing. Light fr...  \n",
       "361213        9     2.5  12 oz. bottle from Steveâs Liquors in Madiso...  \n",
       "79399        15     3.7  Bottle, courtesy of Lorenzo @ ZBF 2005. Deep c...  \n",
       "707230       16     3.6  Split this one with the wife.750ml served into...  \n",
       "351090       13     3.2  Bottle 750ml. @ [ Fastelavn Smagning - Carniva...  "
      ]
     },
     "execution_count": 173,
     "metadata": {},
     "output_type": "execute_result"
    }
   ],
   "source": [
    "ratings_rb_matched.sample(5)"
   ]
  },
  {
   "cell_type": "code",
   "execution_count": null,
   "metadata": {},
   "outputs": [],
   "source": []
  }
 ],
 "metadata": {
  "kernelspec": {
   "display_name": "ada",
   "language": "python",
   "name": "python3"
  },
  "language_info": {
   "codemirror_mode": {
    "name": "ipython",
    "version": 3
   },
   "file_extension": ".py",
   "mimetype": "text/x-python",
   "name": "python",
   "nbconvert_exporter": "python",
   "pygments_lexer": "ipython3",
   "version": "3.11.9"
  }
 },
 "nbformat": 4,
 "nbformat_minor": 2
}
