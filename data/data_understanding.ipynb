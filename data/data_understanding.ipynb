{
 "cells": [
  {
   "cell_type": "code",
   "execution_count": null,
   "metadata": {},
   "outputs": [
    {
     "name": "stdout",
     "output_type": "stream",
     "text": [
      "c:\\Users\\valen\\OneDrive\\Documents\\MA 3\\CS 401\\Dataset\\advocate\n"
     ]
    }
   ],
   "source": [
    "import pandas as pd\n",
    "import os\n",
    "from pathlib import Path\n",
    "\n",
    "\n",
    "\n",
    "root = Path(os.getcwd()).parent.parent\n",
    "\n",
    "#Change for each one of where your data is. For me in Dataset I have all the three folders\n",
    "parent_directory = os.path.dirname(root)\n",
    "dataset_path = os.path.join(root,'Dataset')\n",
    "\n",
    "ADVOCATE = \"advocate\"\n",
    "RATEBEER = \"ratebeer\"\n",
    "MATCHED = \"matched\"\n",
    "\n",
    "ADVOCATE_PATH = os.path.join(dataset_path,ADVOCATE)\n",
    "RATEBEER_PATH = os.path.join(dataset_path,RATEBEER)\n",
    "MATCHED_PATH = os.path.join(dataset_path,MATCHED)"
   ]
  },
  {
   "cell_type": "markdown",
   "metadata": {},
   "source": [
    "**Understanding the difference between the three datasets**\n",
    "\n",
    "We use the breweries dataset first as it is smallest to understand how it was build"
   ]
  },
  {
   "cell_type": "code",
   "execution_count": null,
   "metadata": {},
   "outputs": [],
   "source": []
  }
 ],
 "metadata": {
  "kernelspec": {
   "display_name": "ada",
   "language": "python",
   "name": "python3"
  },
  "language_info": {
   "codemirror_mode": {
    "name": "ipython",
    "version": 3
   },
   "file_extension": ".py",
   "mimetype": "text/x-python",
   "name": "python",
   "nbconvert_exporter": "python",
   "pygments_lexer": "ipython3",
   "version": "3.11.9"
  }
 },
 "nbformat": 4,
 "nbformat_minor": 2
}
