{
 "cells": [
  {
   "cell_type": "code",
   "execution_count": 1,
   "metadata": {},
   "outputs": [
    {
     "data": {
      "text/plain": [
       "<module 'src.utils.utils_functions' from 'c:\\\\Users\\\\nouxy\\\\Documents\\\\MA3\\\\Applied data analysis\\\\Project\\\\GIT_PROJECT\\\\src\\\\utils\\\\utils_functions.py'>"
      ]
     },
     "execution_count": 1,
     "metadata": {},
     "output_type": "execute_result"
    }
   ],
   "source": [
    "from importlib import reload\n",
    "import src.utils.utils_functions\n",
    "reload(src.utils.utils_functions)"
   ]
  },
  {
   "cell_type": "code",
   "execution_count": 2,
   "metadata": {},
   "outputs": [],
   "source": [
    "import pandas as pd\n",
    "import matplotlib.pyplot as plt\n",
    "import math\n",
    "import seaborn as sns\n",
    "import numpy as np\n",
    "import os\n",
    "from pathlib import Path\n",
    "\n",
    "from src.utils.utils_functions import *"
   ]
  },
  {
   "cell_type": "code",
   "execution_count": 3,
   "metadata": {},
   "outputs": [
    {
     "name": "stderr",
     "output_type": "stream",
     "text": [
      "C:\\Users\\nouxy\\AppData\\Local\\Temp\\ipykernel_22592\\2803423297.py:10: DtypeWarning: Columns (7,8) have mixed types. Specify dtype option on import or set low_memory=False.\n",
      "  beers_df = pd.read_csv(os.path.join(FULL_PATH, 'beers.csv'))\n",
      "C:\\Users\\nouxy\\AppData\\Local\\Temp\\ipykernel_22592\\2803423297.py:11: DtypeWarning: Columns (5) have mixed types. Specify dtype option on import or set low_memory=False.\n",
      "  users_df = pd.read_csv(os.path.join(FULL_PATH, 'users.csv'))\n"
     ]
    }
   ],
   "source": [
    "root = Path(os.getcwd()).parent\n",
    "\n",
    "#Change for each one of where your data is. For me in Dataset I have all the three folders\n",
    "dataset_path = os.path.join(root,'Dataset')\n",
    "\n",
    "FULL = \"full\"\n",
    "FULL_PATH = os.path.join(dataset_path,FULL)\n",
    "\n",
    "breweries_df = pd.read_csv(os.path.join(FULL_PATH, 'breweries.csv'))\n",
    "beers_df = pd.read_csv(os.path.join(FULL_PATH, 'beers.csv'))\n",
    "users_df = pd.read_csv(os.path.join(FULL_PATH, 'users.csv'))\n",
    "ratings_df_tmp = pd.read_csv(os.path.join(FULL_PATH,'ratings.csv'))\n",
    "sentiment_df = pd.read_csv(os.path.join(FULL_PATH, 'beer_reviews_with_sent.csv'))"
   ]
  },
  {
   "cell_type": "code",
   "execution_count": 34,
   "metadata": {},
   "outputs": [],
   "source": [
    "sentiment_df = pd.read_csv(os.path.join(FULL_PATH, 'beer_reviews_with_sent.csv'))"
   ]
  },
  {
   "cell_type": "code",
   "execution_count": 29,
   "metadata": {},
   "outputs": [],
   "source": [
    "ratings_df = ratings_df_tmp.copy(deep=True)"
   ]
  },
  {
   "cell_type": "code",
   "execution_count": 30,
   "metadata": {},
   "outputs": [
    {
     "data": {
      "text/html": [
       "<div>\n",
       "<style scoped>\n",
       "    .dataframe tbody tr th:only-of-type {\n",
       "        vertical-align: middle;\n",
       "    }\n",
       "\n",
       "    .dataframe tbody tr th {\n",
       "        vertical-align: top;\n",
       "    }\n",
       "\n",
       "    .dataframe thead th {\n",
       "        text-align: right;\n",
       "    }\n",
       "</style>\n",
       "<table border=\"1\" class=\"dataframe\">\n",
       "  <thead>\n",
       "    <tr style=\"text-align: right;\">\n",
       "      <th></th>\n",
       "      <th>date</th>\n",
       "      <th>appearance</th>\n",
       "      <th>aroma</th>\n",
       "      <th>palate</th>\n",
       "      <th>taste</th>\n",
       "      <th>overall</th>\n",
       "      <th>rating</th>\n",
       "      <th>text</th>\n",
       "      <th>dataset</th>\n",
       "      <th>id</th>\n",
       "      <th>id_brewery</th>\n",
       "      <th>id_user</th>\n",
       "      <th>id_beer</th>\n",
       "      <th>matched</th>\n",
       "    </tr>\n",
       "  </thead>\n",
       "  <tbody>\n",
       "    <tr>\n",
       "      <th>0</th>\n",
       "      <td>1461664800</td>\n",
       "      <td>2.0</td>\n",
       "      <td>4.0</td>\n",
       "      <td>2.0</td>\n",
       "      <td>4.0</td>\n",
       "      <td>8.0</td>\n",
       "      <td>2.0</td>\n",
       "      <td>Puszka 0,33l dzięki Christoph . Kolor jasnozło...</td>\n",
       "      <td>rb</td>\n",
       "      <td>1</td>\n",
       "      <td>16713</td>\n",
       "      <td>3317.0</td>\n",
       "      <td>45641</td>\n",
       "      <td>NaN</td>\n",
       "    </tr>\n",
       "    <tr>\n",
       "      <th>1</th>\n",
       "      <td>1487329200</td>\n",
       "      <td>2.0</td>\n",
       "      <td>3.0</td>\n",
       "      <td>2.0</td>\n",
       "      <td>4.0</td>\n",
       "      <td>8.0</td>\n",
       "      <td>1.9</td>\n",
       "      <td>Cerveza pale lager gabonesa. MÃ¡s floja que la...</td>\n",
       "      <td>rb</td>\n",
       "      <td>2</td>\n",
       "      <td>16713</td>\n",
       "      <td>3295.0</td>\n",
       "      <td>45642</td>\n",
       "      <td>NaN</td>\n",
       "    </tr>\n",
       "    <tr>\n",
       "      <th>2</th>\n",
       "      <td>1466762400</td>\n",
       "      <td>3.0</td>\n",
       "      <td>3.0</td>\n",
       "      <td>2.0</td>\n",
       "      <td>3.0</td>\n",
       "      <td>5.0</td>\n",
       "      <td>1.6</td>\n",
       "      <td>Kolor- złoty, klarowny. Piana - drobna, średni...</td>\n",
       "      <td>rb</td>\n",
       "      <td>3</td>\n",
       "      <td>16713</td>\n",
       "      <td>3318.0</td>\n",
       "      <td>45642</td>\n",
       "      <td>NaN</td>\n",
       "    </tr>\n",
       "  </tbody>\n",
       "</table>\n",
       "</div>"
      ],
      "text/plain": [
       "         date  appearance  aroma  palate  taste  overall  rating  \\\n",
       "0  1461664800         2.0    4.0     2.0    4.0      8.0     2.0   \n",
       "1  1487329200         2.0    3.0     2.0    4.0      8.0     1.9   \n",
       "2  1466762400         3.0    3.0     2.0    3.0      5.0     1.6   \n",
       "\n",
       "                                                text dataset  id  id_brewery  \\\n",
       "0  Puszka 0,33l dzięki Christoph . Kolor jasnozło...      rb   1       16713   \n",
       "1  Cerveza pale lager gabonesa. MÃ¡s floja que la...      rb   2       16713   \n",
       "2  Kolor- złoty, klarowny. Piana - drobna, średni...      rb   3       16713   \n",
       "\n",
       "   id_user  id_beer  matched  \n",
       "0   3317.0    45641      NaN  \n",
       "1   3295.0    45642      NaN  \n",
       "2   3318.0    45642      NaN  "
      ]
     },
     "execution_count": 30,
     "metadata": {},
     "output_type": "execute_result"
    }
   ],
   "source": [
    "ratings_df.head(3)"
   ]
  },
  {
   "cell_type": "code",
   "execution_count": 31,
   "metadata": {},
   "outputs": [],
   "source": [
    "#sentiment_df = sentiment_df.rename(columns={'id':'id_beer'})"
   ]
  },
  {
   "cell_type": "code",
   "execution_count": 35,
   "metadata": {},
   "outputs": [
    {
     "data": {
      "text/html": [
       "<div>\n",
       "<style scoped>\n",
       "    .dataframe tbody tr th:only-of-type {\n",
       "        vertical-align: middle;\n",
       "    }\n",
       "\n",
       "    .dataframe tbody tr th {\n",
       "        vertical-align: top;\n",
       "    }\n",
       "\n",
       "    .dataframe thead th {\n",
       "        text-align: right;\n",
       "    }\n",
       "</style>\n",
       "<table border=\"1\" class=\"dataframe\">\n",
       "  <thead>\n",
       "    <tr style=\"text-align: right;\">\n",
       "      <th></th>\n",
       "      <th>id</th>\n",
       "      <th>sentiment_bert</th>\n",
       "    </tr>\n",
       "  </thead>\n",
       "  <tbody>\n",
       "    <tr>\n",
       "      <th>0</th>\n",
       "      <td>1</td>\n",
       "      <td>0.264435</td>\n",
       "    </tr>\n",
       "    <tr>\n",
       "      <th>1</th>\n",
       "      <td>2</td>\n",
       "      <td>-0.433727</td>\n",
       "    </tr>\n",
       "    <tr>\n",
       "      <th>2</th>\n",
       "      <td>3</td>\n",
       "      <td>0.146698</td>\n",
       "    </tr>\n",
       "    <tr>\n",
       "      <th>3</th>\n",
       "      <td>4</td>\n",
       "      <td>-0.067261</td>\n",
       "    </tr>\n",
       "    <tr>\n",
       "      <th>4</th>\n",
       "      <td>5</td>\n",
       "      <td>0.842057</td>\n",
       "    </tr>\n",
       "  </tbody>\n",
       "</table>\n",
       "</div>"
      ],
      "text/plain": [
       "   id  sentiment_bert\n",
       "0   1        0.264435\n",
       "1   2       -0.433727\n",
       "2   3        0.146698\n",
       "3   4       -0.067261\n",
       "4   5        0.842057"
      ]
     },
     "execution_count": 35,
     "metadata": {},
     "output_type": "execute_result"
    }
   ],
   "source": [
    "sentiment_df.head()"
   ]
  },
  {
   "cell_type": "code",
   "execution_count": 36,
   "metadata": {},
   "outputs": [],
   "source": [
    "sentiment_df = sentiment_df.set_index('id')"
   ]
  },
  {
   "cell_type": "code",
   "execution_count": 37,
   "metadata": {},
   "outputs": [
    {
     "data": {
      "text/html": [
       "<div>\n",
       "<style scoped>\n",
       "    .dataframe tbody tr th:only-of-type {\n",
       "        vertical-align: middle;\n",
       "    }\n",
       "\n",
       "    .dataframe tbody tr th {\n",
       "        vertical-align: top;\n",
       "    }\n",
       "\n",
       "    .dataframe thead th {\n",
       "        text-align: right;\n",
       "    }\n",
       "</style>\n",
       "<table border=\"1\" class=\"dataframe\">\n",
       "  <thead>\n",
       "    <tr style=\"text-align: right;\">\n",
       "      <th></th>\n",
       "      <th>sentiment_bert</th>\n",
       "    </tr>\n",
       "    <tr>\n",
       "      <th>id</th>\n",
       "      <th></th>\n",
       "    </tr>\n",
       "  </thead>\n",
       "  <tbody>\n",
       "    <tr>\n",
       "      <th>1</th>\n",
       "      <td>0.264435</td>\n",
       "    </tr>\n",
       "    <tr>\n",
       "      <th>2</th>\n",
       "      <td>-0.433727</td>\n",
       "    </tr>\n",
       "    <tr>\n",
       "      <th>3</th>\n",
       "      <td>0.146698</td>\n",
       "    </tr>\n",
       "    <tr>\n",
       "      <th>4</th>\n",
       "      <td>-0.067261</td>\n",
       "    </tr>\n",
       "    <tr>\n",
       "      <th>5</th>\n",
       "      <td>0.842057</td>\n",
       "    </tr>\n",
       "  </tbody>\n",
       "</table>\n",
       "</div>"
      ],
      "text/plain": [
       "    sentiment_bert\n",
       "id                \n",
       "1         0.264435\n",
       "2        -0.433727\n",
       "3         0.146698\n",
       "4        -0.067261\n",
       "5         0.842057"
      ]
     },
     "execution_count": 37,
     "metadata": {},
     "output_type": "execute_result"
    }
   ],
   "source": [
    "sentiment_df.head()"
   ]
  },
  {
   "cell_type": "code",
   "execution_count": 38,
   "metadata": {},
   "outputs": [],
   "source": [
    "ratings_df_with_sent = ratings_df.copy(deep=True)"
   ]
  },
  {
   "cell_type": "code",
   "execution_count": 39,
   "metadata": {},
   "outputs": [
    {
     "data": {
      "text/html": [
       "<div>\n",
       "<style scoped>\n",
       "    .dataframe tbody tr th:only-of-type {\n",
       "        vertical-align: middle;\n",
       "    }\n",
       "\n",
       "    .dataframe tbody tr th {\n",
       "        vertical-align: top;\n",
       "    }\n",
       "\n",
       "    .dataframe thead th {\n",
       "        text-align: right;\n",
       "    }\n",
       "</style>\n",
       "<table border=\"1\" class=\"dataframe\">\n",
       "  <thead>\n",
       "    <tr style=\"text-align: right;\">\n",
       "      <th></th>\n",
       "      <th>date</th>\n",
       "      <th>appearance</th>\n",
       "      <th>aroma</th>\n",
       "      <th>palate</th>\n",
       "      <th>taste</th>\n",
       "      <th>overall</th>\n",
       "      <th>rating</th>\n",
       "      <th>text</th>\n",
       "      <th>dataset</th>\n",
       "      <th>id</th>\n",
       "      <th>id_brewery</th>\n",
       "      <th>id_user</th>\n",
       "      <th>id_beer</th>\n",
       "      <th>matched</th>\n",
       "    </tr>\n",
       "  </thead>\n",
       "  <tbody>\n",
       "    <tr>\n",
       "      <th>636547</th>\n",
       "      <td>1497261600</td>\n",
       "      <td>3.0</td>\n",
       "      <td>7.0</td>\n",
       "      <td>3.0</td>\n",
       "      <td>6.0</td>\n",
       "      <td>12.0</td>\n",
       "      <td>3.1</td>\n",
       "      <td>Bottle at Ãlfestival 2017. Hazy golden colour...</td>\n",
       "      <td>rb</td>\n",
       "      <td>636304</td>\n",
       "      <td>1601</td>\n",
       "      <td>3445.0</td>\n",
       "      <td>89598</td>\n",
       "      <td>NaN</td>\n",
       "    </tr>\n",
       "  </tbody>\n",
       "</table>\n",
       "</div>"
      ],
      "text/plain": [
       "              date  appearance  aroma  palate  taste  overall  rating  \\\n",
       "636547  1497261600         3.0    7.0     3.0    6.0     12.0     3.1   \n",
       "\n",
       "                                                     text dataset      id  \\\n",
       "636547  Bottle at Ãlfestival 2017. Hazy golden colour...      rb  636304   \n",
       "\n",
       "        id_brewery  id_user  id_beer  matched  \n",
       "636547        1601   3445.0    89598      NaN  "
      ]
     },
     "execution_count": 39,
     "metadata": {},
     "output_type": "execute_result"
    }
   ],
   "source": [
    "ratings_df_with_sent.sample(1)"
   ]
  },
  {
   "cell_type": "code",
   "execution_count": 40,
   "metadata": {},
   "outputs": [],
   "source": [
    "ratings_df_with_sent = ratings_df_with_sent.join(sentiment_df, on='id')"
   ]
  },
  {
   "cell_type": "code",
   "execution_count": 41,
   "metadata": {},
   "outputs": [],
   "source": [
    "ratings_df = recompute_grade(ratings_df, min_grade_value = 1, max_grade_value = 5)"
   ]
  },
  {
   "cell_type": "code",
   "execution_count": 42,
   "metadata": {},
   "outputs": [
    {
     "data": {
      "text/html": [
       "<div>\n",
       "<style scoped>\n",
       "    .dataframe tbody tr th:only-of-type {\n",
       "        vertical-align: middle;\n",
       "    }\n",
       "\n",
       "    .dataframe tbody tr th {\n",
       "        vertical-align: top;\n",
       "    }\n",
       "\n",
       "    .dataframe thead th {\n",
       "        text-align: right;\n",
       "    }\n",
       "</style>\n",
       "<table border=\"1\" class=\"dataframe\">\n",
       "  <thead>\n",
       "    <tr style=\"text-align: right;\">\n",
       "      <th></th>\n",
       "      <th>date</th>\n",
       "      <th>appearance</th>\n",
       "      <th>aroma</th>\n",
       "      <th>palate</th>\n",
       "      <th>taste</th>\n",
       "      <th>overall</th>\n",
       "      <th>rating</th>\n",
       "      <th>text</th>\n",
       "      <th>dataset</th>\n",
       "      <th>id</th>\n",
       "      <th>id_brewery</th>\n",
       "      <th>id_user</th>\n",
       "      <th>id_beer</th>\n",
       "      <th>matched</th>\n",
       "      <th>sentiment_bert</th>\n",
       "    </tr>\n",
       "  </thead>\n",
       "  <tbody>\n",
       "    <tr>\n",
       "      <th>3168</th>\n",
       "      <td>1315821600</td>\n",
       "      <td>4.0</td>\n",
       "      <td>5.0</td>\n",
       "      <td>3.0</td>\n",
       "      <td>5.0</td>\n",
       "      <td>9.0</td>\n",
       "      <td>2.6</td>\n",
       "      <td>Appearance: Pours a clear, medium-brown body, ...</td>\n",
       "      <td>rb</td>\n",
       "      <td>3169</td>\n",
       "      <td>1</td>\n",
       "      <td>57.0</td>\n",
       "      <td>1</td>\n",
       "      <td>7122106.0</td>\n",
       "      <td>-0.010681</td>\n",
       "    </tr>\n",
       "    <tr>\n",
       "      <th>3174</th>\n",
       "      <td>1310032800</td>\n",
       "      <td>4.0</td>\n",
       "      <td>6.0</td>\n",
       "      <td>3.0</td>\n",
       "      <td>6.0</td>\n",
       "      <td>10.0</td>\n",
       "      <td>2.9</td>\n",
       "      <td>This one is labeled Product of the USA.  It po...</td>\n",
       "      <td>rb</td>\n",
       "      <td>3175</td>\n",
       "      <td>1</td>\n",
       "      <td>58.0</td>\n",
       "      <td>1</td>\n",
       "      <td>7122111.0</td>\n",
       "      <td>0.188293</td>\n",
       "    </tr>\n",
       "  </tbody>\n",
       "</table>\n",
       "</div>"
      ],
      "text/plain": [
       "            date  appearance  aroma  palate  taste  overall  rating  \\\n",
       "3168  1315821600         4.0    5.0     3.0    5.0      9.0     2.6   \n",
       "3174  1310032800         4.0    6.0     3.0    6.0     10.0     2.9   \n",
       "\n",
       "                                                   text dataset    id  \\\n",
       "3168  Appearance: Pours a clear, medium-brown body, ...      rb  3169   \n",
       "3174  This one is labeled Product of the USA.  It po...      rb  3175   \n",
       "\n",
       "      id_brewery  id_user  id_beer    matched  sentiment_bert  \n",
       "3168           1     57.0        1  7122106.0       -0.010681  \n",
       "3174           1     58.0        1  7122111.0        0.188293  "
      ]
     },
     "execution_count": 42,
     "metadata": {},
     "output_type": "execute_result"
    }
   ],
   "source": [
    "ratings_df_with_sent = ratings_df_with_sent.dropna(axis=0)\n",
    "ratings_df_with_sent.head(2)"
   ]
  },
  {
   "cell_type": "code",
   "execution_count": 43,
   "metadata": {},
   "outputs": [],
   "source": [
    "ratings_df_with_sent = recompute_grade_with_sent(ratings_df_with_sent, min_grade_value = 1, max_grade_value = 5)"
   ]
  },
  {
   "cell_type": "code",
   "execution_count": 44,
   "metadata": {},
   "outputs": [
    {
     "data": {
      "text/html": [
       "<div>\n",
       "<style scoped>\n",
       "    .dataframe tbody tr th:only-of-type {\n",
       "        vertical-align: middle;\n",
       "    }\n",
       "\n",
       "    .dataframe tbody tr th {\n",
       "        vertical-align: top;\n",
       "    }\n",
       "\n",
       "    .dataframe thead th {\n",
       "        text-align: right;\n",
       "    }\n",
       "</style>\n",
       "<table border=\"1\" class=\"dataframe\">\n",
       "  <thead>\n",
       "    <tr style=\"text-align: right;\">\n",
       "      <th></th>\n",
       "      <th>date</th>\n",
       "      <th>appearance</th>\n",
       "      <th>aroma</th>\n",
       "      <th>palate</th>\n",
       "      <th>taste</th>\n",
       "      <th>overall</th>\n",
       "      <th>rating</th>\n",
       "      <th>text</th>\n",
       "      <th>dataset</th>\n",
       "      <th>id</th>\n",
       "      <th>id_brewery</th>\n",
       "      <th>id_user</th>\n",
       "      <th>id_beer</th>\n",
       "      <th>matched</th>\n",
       "      <th>sentiment_bert</th>\n",
       "    </tr>\n",
       "  </thead>\n",
       "  <tbody>\n",
       "    <tr>\n",
       "      <th>4018160</th>\n",
       "      <td>1056880800</td>\n",
       "      <td>3.00</td>\n",
       "      <td>3.222222</td>\n",
       "      <td>3.00</td>\n",
       "      <td>2.333333</td>\n",
       "      <td>3.947368</td>\n",
       "      <td>3.311111</td>\n",
       "      <td>This brew poured a small head of fine bubbles ...</td>\n",
       "      <td>rb</td>\n",
       "      <td>4017091</td>\n",
       "      <td>8215</td>\n",
       "      <td>106.0</td>\n",
       "      <td>24323</td>\n",
       "      <td>11450283.0</td>\n",
       "      <td>2.757010</td>\n",
       "    </tr>\n",
       "    <tr>\n",
       "      <th>7646278</th>\n",
       "      <td>1495620000</td>\n",
       "      <td>4.25</td>\n",
       "      <td>4.250000</td>\n",
       "      <td>4.25</td>\n",
       "      <td>4.250000</td>\n",
       "      <td>4.250000</td>\n",
       "      <td>4.250000</td>\n",
       "      <td>Sample at Mikkeller Beer Celebration Copenhage...</td>\n",
       "      <td>ad</td>\n",
       "      <td>7644547</td>\n",
       "      <td>1585</td>\n",
       "      <td>301.0</td>\n",
       "      <td>7378</td>\n",
       "      <td>833091.0</td>\n",
       "      <td>4.112595</td>\n",
       "    </tr>\n",
       "  </tbody>\n",
       "</table>\n",
       "</div>"
      ],
      "text/plain": [
       "               date  appearance     aroma  palate     taste   overall  \\\n",
       "4018160  1056880800        3.00  3.222222    3.00  2.333333  3.947368   \n",
       "7646278  1495620000        4.25  4.250000    4.25  4.250000  4.250000   \n",
       "\n",
       "           rating                                               text dataset  \\\n",
       "4018160  3.311111  This brew poured a small head of fine bubbles ...      rb   \n",
       "7646278  4.250000  Sample at Mikkeller Beer Celebration Copenhage...      ad   \n",
       "\n",
       "              id  id_brewery  id_user  id_beer     matched  sentiment_bert  \n",
       "4018160  4017091        8215    106.0    24323  11450283.0        2.757010  \n",
       "7646278  7644547        1585    301.0     7378    833091.0        4.112595  "
      ]
     },
     "execution_count": 44,
     "metadata": {},
     "output_type": "execute_result"
    }
   ],
   "source": [
    "ratings_df_with_sent.sample(2)"
   ]
  },
  {
   "cell_type": "code",
   "execution_count": 45,
   "metadata": {},
   "outputs": [
    {
     "name": "stdout",
     "output_type": "stream",
     "text": [
      "Pourcentage of ratings remaining after dropping rows with nan values in selected attributes: 76.65 %\n",
      "Pourcentage of ratings remaining after dropping rating for which beer has too few valid ratings : 68.65 %\n",
      "Pourcentage of beers remaining after dropping rating for which a beer has too few valid ratings : 100.00 %\n",
      "Pourcentage of breweries remaining after dropping rating for which a beer has too few valid ratings : 100.00 %\n",
      "Pourcentage of users remaining after dropping rating for which a beer has too few valid ratings : 100.00 %\n"
     ]
    }
   ],
   "source": [
    "ratings_df, breweries_df, beers_df, users_df = filter_ratings_new(ratings_df, beers_df, breweries_df, users_df, 10, ['overall', 'aroma', 'palate', 'taste', 'appearance'])"
   ]
  },
  {
   "cell_type": "code",
   "execution_count": 46,
   "metadata": {},
   "outputs": [
    {
     "name": "stdout",
     "output_type": "stream",
     "text": [
      "Pourcentage of ratings remaining after dropping rows with nan values in selected attributes: 100.00 %\n",
      "Pourcentage of ratings remaining after dropping rating for which beer has too few valid ratings : 46.43 %\n",
      "Pourcentage of beers remaining after dropping rating for which a beer has too few valid ratings : 0.49 %\n",
      "Pourcentage of breweries remaining after dropping rating for which a beer has too few valid ratings : 2.11 %\n",
      "Pourcentage of users remaining after dropping rating for which a beer has too few valid ratings : 0.44 %\n"
     ]
    }
   ],
   "source": [
    "ratings_df_with_sent, breweries_df_with_sent, beers_df_with_sent, users_df_with_sent = filter_ratings_new(ratings_df_with_sent, beers_df, breweries_df, users_df, 10, ['overall', 'aroma', 'palate', 'taste', 'appearance', 'sentiment_bert'])"
   ]
  },
  {
   "cell_type": "markdown",
   "metadata": {},
   "source": [
    "Plot distrib of variances to use GMM (as assume it is Gaussian)"
   ]
  },
  {
   "cell_type": "code",
   "execution_count": 47,
   "metadata": {},
   "outputs": [
    {
     "data": {
      "text/html": [
       "<div>\n",
       "<style scoped>\n",
       "    .dataframe tbody tr th:only-of-type {\n",
       "        vertical-align: middle;\n",
       "    }\n",
       "\n",
       "    .dataframe tbody tr th {\n",
       "        vertical-align: top;\n",
       "    }\n",
       "\n",
       "    .dataframe thead th {\n",
       "        text-align: right;\n",
       "    }\n",
       "</style>\n",
       "<table border=\"1\" class=\"dataframe\">\n",
       "  <thead>\n",
       "    <tr style=\"text-align: right;\">\n",
       "      <th></th>\n",
       "      <th>overall</th>\n",
       "      <th>aroma</th>\n",
       "      <th>palate</th>\n",
       "      <th>taste</th>\n",
       "      <th>appearance</th>\n",
       "      <th>sentiment_bert</th>\n",
       "      <th>id_beer</th>\n",
       "      <th>id_user</th>\n",
       "      <th>id_brewery</th>\n",
       "    </tr>\n",
       "  </thead>\n",
       "  <tbody>\n",
       "    <tr>\n",
       "      <th>3257</th>\n",
       "      <td>3.315789</td>\n",
       "      <td>3.666667</td>\n",
       "      <td>4.0</td>\n",
       "      <td>3.222222</td>\n",
       "      <td>4.0</td>\n",
       "      <td>3.595294</td>\n",
       "      <td>3</td>\n",
       "      <td>64.0</td>\n",
       "      <td>1</td>\n",
       "    </tr>\n",
       "    <tr>\n",
       "      <th>3265</th>\n",
       "      <td>3.736842</td>\n",
       "      <td>4.111111</td>\n",
       "      <td>3.0</td>\n",
       "      <td>3.666667</td>\n",
       "      <td>3.0</td>\n",
       "      <td>3.850310</td>\n",
       "      <td>3</td>\n",
       "      <td>65.0</td>\n",
       "      <td>1</td>\n",
       "    </tr>\n",
       "    <tr>\n",
       "      <th>3268</th>\n",
       "      <td>3.315789</td>\n",
       "      <td>3.222222</td>\n",
       "      <td>2.0</td>\n",
       "      <td>2.777778</td>\n",
       "      <td>4.0</td>\n",
       "      <td>3.702430</td>\n",
       "      <td>3</td>\n",
       "      <td>58.0</td>\n",
       "      <td>1</td>\n",
       "    </tr>\n",
       "    <tr>\n",
       "      <th>3280</th>\n",
       "      <td>3.736842</td>\n",
       "      <td>3.222222</td>\n",
       "      <td>4.0</td>\n",
       "      <td>3.666667</td>\n",
       "      <td>3.0</td>\n",
       "      <td>3.371176</td>\n",
       "      <td>3</td>\n",
       "      <td>57.0</td>\n",
       "      <td>1</td>\n",
       "    </tr>\n",
       "    <tr>\n",
       "      <th>3281</th>\n",
       "      <td>4.157895</td>\n",
       "      <td>3.666667</td>\n",
       "      <td>4.0</td>\n",
       "      <td>3.666667</td>\n",
       "      <td>4.0</td>\n",
       "      <td>4.213963</td>\n",
       "      <td>3</td>\n",
       "      <td>60.0</td>\n",
       "      <td>1</td>\n",
       "    </tr>\n",
       "  </tbody>\n",
       "</table>\n",
       "</div>"
      ],
      "text/plain": [
       "       overall     aroma  palate     taste  appearance  sentiment_bert  \\\n",
       "3257  3.315789  3.666667     4.0  3.222222         4.0        3.595294   \n",
       "3265  3.736842  4.111111     3.0  3.666667         3.0        3.850310   \n",
       "3268  3.315789  3.222222     2.0  2.777778         4.0        3.702430   \n",
       "3280  3.736842  3.222222     4.0  3.666667         3.0        3.371176   \n",
       "3281  4.157895  3.666667     4.0  3.666667         4.0        4.213963   \n",
       "\n",
       "      id_beer  id_user  id_brewery  \n",
       "3257        3     64.0           1  \n",
       "3265        3     65.0           1  \n",
       "3268        3     58.0           1  \n",
       "3280        3     57.0           1  \n",
       "3281        3     60.0           1  "
      ]
     },
     "execution_count": 47,
     "metadata": {},
     "output_type": "execute_result"
    }
   ],
   "source": [
    "ratings_df_with_sent.head()"
   ]
  },
  {
   "cell_type": "code",
   "execution_count": 48,
   "metadata": {},
   "outputs": [],
   "source": [
    "var_attr = compute_variance_per_attribute(ratings_df, ['appearance', 'aroma', 'palate', 'taste','overall'])\n",
    "var_attr_with_sent = compute_variance_per_attribute(ratings_df_with_sent, ['appearance', 'aroma', 'palate', 'taste','overall', 'sentiment_bert'])"
   ]
  },
  {
   "cell_type": "code",
   "execution_count": 49,
   "metadata": {},
   "outputs": [
    {
     "data": {
      "image/png": "[encoded data removed]",
      "text/plain": [
       "<Figure size 640x480 with 1 Axes>"
      ]
     },
     "metadata": {},
     "output_type": "display_data"
    }
   ],
   "source": [
    "plot_var_distrib_violin(var_attr)"
   ]
  },
  {
   "cell_type": "code",
   "execution_count": 50,
   "metadata": {},
   "outputs": [
    {
     "data": {
      "image/png": "[encoded data removed]",
      "text/plain": [
       "<Figure size 640x480 with 1 Axes>"
      ]
     },
     "metadata": {},
     "output_type": "display_data"
    }
   ],
   "source": [
    "plot_var_distrib_violin(var_attr_with_sent)"
   ]
  },
  {
   "cell_type": "code",
   "execution_count": 52,
   "metadata": {},
   "outputs": [
    {
     "data": {
      "text/plain": [
       "id_beer\n",
       "3        0.121102\n",
       "44       0.530813\n",
       "54       0.128228\n",
       "256      0.297296\n",
       "344      0.491356\n",
       "           ...   \n",
       "45384    0.414889\n",
       "45391    1.327620\n",
       "45392    0.278078\n",
       "45517    0.237908\n",
       "45607    0.056944\n",
       "Name: sentiment_bert, Length: 727, dtype: float64"
      ]
     },
     "execution_count": 52,
     "metadata": {},
     "output_type": "execute_result"
    },
    {
     "data": {
      "image/png": "[encoded data removed]",
      "text/plain": [
       "<Figure size 640x480 with 1 Axes>"
      ]
     },
     "metadata": {},
     "output_type": "display_data"
    }
   ],
   "source": [
    "plt.plot(var_attr_with_sent.sentiment_bert)\n",
    "var_attr_with_sent.sentiment_bert"
   ]
  },
  {
   "cell_type": "code",
   "execution_count": null,
   "metadata": {},
   "outputs": [],
   "source": []
  }
 ],
 "metadata": {
  "kernelspec": {
   "display_name": "ada",
   "language": "python",
   "name": "python3"
  },
  "language_info": {
   "codemirror_mode": {
    "name": "ipython",
    "version": 3
   },
   "file_extension": ".py",
   "mimetype": "text/x-python",
   "name": "python",
   "nbconvert_exporter": "python",
   "pygments_lexer": "ipython3",
   "version": "3.11.9"
  }
 },
 "nbformat": 4,
 "nbformat_minor": 2
}
